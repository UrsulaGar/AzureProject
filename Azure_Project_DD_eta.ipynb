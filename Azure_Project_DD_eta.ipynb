{
    "metadata": {
        "kernelspec": {
            "name": "SQL",
            "display_name": "SQL",
            "language": "sql"
        },
        "language_info": {
            "name": "sql",
            "version": ""
        }
    },
    "nbformat_minor": 2,
    "nbformat": 4,
    "cells": [
        {
            "cell_type": "markdown",
            "source": [
                "# <mark> Azure Data Studio Project - Estimating Doordash Delivery Times</mark>\r\n",
                "Ursula Garcia <br/>\r\n",
                "CAP 2761C <br />\r\n",
                "Intermediate Analytics <br />\r\n",
                ""
            ],
            "metadata": {
                "azdata_cell_guid": "da3a357f-8479-4b8b-8aab-f2f5e799ea92"
            },
            "attachments": {}
        },
        {
            "cell_type": "markdown",
            "source": [
                "# <mark>0-About This Dataset</mark>\n",
                "\n",
                "Found on kaggle.com  \n",
                "[https://www.kaggle.com/datasets/dharun4772/doordash-eta-prediction](https:\\www.kaggle.com\\datasets\\dharun4772\\doordash-eta-prediction)  \n",
                "Released under MIT License  \n",
                "Copyright (c) 2013 Mark Otto  \n",
                "Copyright (c) 2017 Andrew Fong\n",
                "\n",
                "Doordash is one of the most popular food delivery apps available. This is a dataset in csv format that documents Doordash delivery data spanning from January 21 2015 to February 18, 2015.  \n",
                "Prior to data cleaning, dataset contained data for 6 unidentified markets (a city or region). Because these markets were unidentified (only identified as markets 1 through 6), I narrowed the dataset down to focus on only one market (the market identified as market 1), so that the column labeled 'column\\_id' was no longer needed. Another column that was not included in the cleaned datset was 'order\\_protocol', which contained different modes that stores can receive orders from Doordash labeled only as protocols 1 through 7, thus remaining unidentified. Column 'num\\_distinct\\_items' (number of distinct items in order) was not included as the column 'total\\_items' (total number of items in order) is more relevant to delivery times. Columns 'min\\_item\\_price' (price of item with least cost in order) and 'max\\_item\\_price' (price of item with least cost in order) were also not included as column 'subtotal' (total value of order)encompasses both of these. All values entered as 'N/A' and obvious outliers were also eliminated during the data cleaning process.\n",
                "\n",
                "The resulting dataset, after cleaning, contains 37,112 records and 11 columns.\n",
                "\n",
                "<u>Column Descriptions:</u>\n",
                "\n",
                "store\\_id:  (small\\_int, not null) Id representing restaurant order was submitted for  \n",
                "created\\_at: (datetime2(7), not null) Timestamp in UTC when order was submitted to Doordash  \n",
                "actual\\_delivery\\_time: (datetime2(7), not null) Timestamp in UTC when order delivered to customer  \n",
                "store\\_primary\\_category: (nvarchar(50), not null) Cuisine category of the restaurant  \n",
                "total\\_items: (tinyint, not null) Total number of items in the order  \n",
                "subtotal: (smallint, not null) Total value of order submitted (in cents)  \n",
                "total\\_onshift\\_dashers: (tinyint, not null) Number of available dashers who are within 10 miles of store at time of order creation  \n",
                "total\\_busy\\_dashers: (tinyint, not null) Subset of total\\_onshift\\_dashers who are currently working on an order  \n",
                "total\\_outstanding\\_orders: (tinyint, not null) Number of orders within 10 miles of this order that are currently being processed  \n",
                "estimated\\_order\\_place\\_duration: (smallint, not null) Estimated time (in seconds) for the restaurant to receive the order from Doordash  \n",
                "estimated\\_store\\_to\\_consumer\\_driving\\_duration: (smallint, not null) Estimated travel time (in seconds) between store and consumer"
            ],
            "metadata": {
                "azdata_cell_guid": "96589a73-2795-4309-875b-069a8155fde0"
            },
            "attachments": {}
        },
        {
            "cell_type": "markdown",
            "source": [
                "# <mark>1- What is the Most/Least Popular Food Category?</mark>\n",
                "\n",
                "From the following visualization:\n",
                "\n",
                "Most Popular: American  \n",
                "Least Popular: Malaysian"
            ],
            "metadata": {
                "language": "sql",
                "azdata_cell_guid": "2d7595c1-92a9-46bd-8ae9-0f3c68c44afe"
            },
            "attachments": {}
        },
        {
            "cell_type": "code",
            "source": [
                "USE [Sample];\r\n",
                "\r\n",
                "SELECT [dd].[store_primary_category] AS [orders per category], \r\n",
                "COUNT(*) AS [number of orders] FROM [dbo].[dd_eta] AS [dd]\r\n",
                "GROUP BY [dd].[store_primary_category]\r\n",
                "ORDER BY [number of orders] DESC;"
            ],
            "metadata": {
                "language": "sql",
                "azdata_cell_guid": "26d6fb2a-053b-4378-a1f3-8b0f02aa1413"
            },
            "outputs": [
                {
                    "output_type": "display_data",
                    "data": {
                        "text/html": "(70 rows affected)"
                    },
                    "metadata": {}
                },
                {
                    "output_type": "display_data",
                    "data": {
                        "text/html": "Total execution time: 00:00:00.030"
                    },
                    "metadata": {}
                },
                {
                    "output_type": "execute_result",
                    "execution_count": 29,
                    "data": {
                        "application/vnd.dataresource+json": {
                            "schema": {
                                "fields": [
                                    {
                                        "name": "orders per category"
                                    },
                                    {
                                        "name": "number of orders"
                                    }
                                ]
                            },
                            "data": [
                                {
                                    "orders per category": "american",
                                    "number of orders": "5179"
                                },
                                {
                                    "orders per category": "pizza",
                                    "number of orders": "4052"
                                },
                                {
                                    "orders per category": "japanese",
                                    "number of orders": "2611"
                                },
                                {
                                    "orders per category": "mexican",
                                    "number of orders": "2418"
                                },
                                {
                                    "orders per category": "burger",
                                    "number of orders": "2055"
                                },
                                {
                                    "orders per category": "fast",
                                    "number of orders": "1868"
                                },
                                {
                                    "orders per category": "italian",
                                    "number of orders": "1798"
                                },
                                {
                                    "orders per category": "sandwich",
                                    "number of orders": "1708"
                                },
                                {
                                    "orders per category": "chinese",
                                    "number of orders": "1504"
                                },
                                {
                                    "orders per category": "breakfast",
                                    "number of orders": "1482"
                                },
                                {
                                    "orders per category": "mediterranean",
                                    "number of orders": "1438"
                                },
                                {
                                    "orders per category": "dessert",
                                    "number of orders": "1177"
                                },
                                {
                                    "orders per category": "thai",
                                    "number of orders": "1064"
                                },
                                {
                                    "orders per category": "other",
                                    "number of orders": "729"
                                },
                                {
                                    "orders per category": "salad",
                                    "number of orders": "707"
                                },
                                {
                                    "orders per category": "cafe",
                                    "number of orders": "652"
                                },
                                {
                                    "orders per category": "vietnamese",
                                    "number of orders": "636"
                                },
                                {
                                    "orders per category": "indian",
                                    "number of orders": "614"
                                },
                                {
                                    "orders per category": "sushi",
                                    "number of orders": "524"
                                },
                                {
                                    "orders per category": "barbecue",
                                    "number of orders": "485"
                                },
                                {
                                    "orders per category": "seafood",
                                    "number of orders": "455"
                                },
                                {
                                    "orders per category": "smoothie",
                                    "number of orders": "443"
                                },
                                {
                                    "orders per category": "greek",
                                    "number of orders": "396"
                                },
                                {
                                    "orders per category": "asian",
                                    "number of orders": "344"
                                },
                                {
                                    "orders per category": "hawaiian",
                                    "number of orders": "301"
                                },
                                {
                                    "orders per category": "korean",
                                    "number of orders": "220"
                                },
                                {
                                    "orders per category": "brazilian",
                                    "number of orders": "216"
                                },
                                {
                                    "orders per category": "latin-american",
                                    "number of orders": "198"
                                },
                                {
                                    "orders per category": "vegetarian",
                                    "number of orders": "185"
                                },
                                {
                                    "orders per category": "convenience-store",
                                    "number of orders": "185"
                                },
                                {
                                    "orders per category": "vegan",
                                    "number of orders": "165"
                                },
                                {
                                    "orders per category": "gastropub",
                                    "number of orders": "149"
                                },
                                {
                                    "orders per category": "french",
                                    "number of orders": "134"
                                },
                                {
                                    "orders per category": "catering",
                                    "number of orders": "112"
                                },
                                {
                                    "orders per category": "steak",
                                    "number of orders": "108"
                                },
                                {
                                    "orders per category": "tapas",
                                    "number of orders": "101"
                                },
                                {
                                    "orders per category": "dim-sum",
                                    "number of orders": "100"
                                },
                                {
                                    "orders per category": "alcohol",
                                    "number of orders": "79"
                                },
                                {
                                    "orders per category": "middle-eastern",
                                    "number of orders": "73"
                                },
                                {
                                    "orders per category": "peruvian",
                                    "number of orders": "66"
                                },
                                {
                                    "orders per category": "pasta",
                                    "number of orders": "55"
                                },
                                {
                                    "orders per category": "caribbean",
                                    "number of orders": "43"
                                },
                                {
                                    "orders per category": "argentine",
                                    "number of orders": "42"
                                },
                                {
                                    "orders per category": "persian",
                                    "number of orders": "37"
                                },
                                {
                                    "orders per category": "cajun",
                                    "number of orders": "33"
                                },
                                {
                                    "orders per category": "cheese",
                                    "number of orders": "23"
                                },
                                {
                                    "orders per category": "nepalese",
                                    "number of orders": "22"
                                },
                                {
                                    "orders per category": "british",
                                    "number of orders": "21"
                                },
                                {
                                    "orders per category": "spanish",
                                    "number of orders": "17"
                                },
                                {
                                    "orders per category": "european",
                                    "number of orders": "15"
                                },
                                {
                                    "orders per category": "german",
                                    "number of orders": "11"
                                },
                                {
                                    "orders per category": "gluten-free",
                                    "number of orders": "10"
                                },
                                {
                                    "orders per category": "lebanese",
                                    "number of orders": "8"
                                },
                                {
                                    "orders per category": "filipino",
                                    "number of orders": "6"
                                },
                                {
                                    "orders per category": "bubble-tea",
                                    "number of orders": "5"
                                },
                                {
                                    "orders per category": "burmese",
                                    "number of orders": "4"
                                },
                                {
                                    "orders per category": "comfort-food",
                                    "number of orders": "4"
                                },
                                {
                                    "orders per category": "kosher",
                                    "number of orders": "4"
                                },
                                {
                                    "orders per category": "afghan",
                                    "number of orders": "4"
                                },
                                {
                                    "orders per category": "russian",
                                    "number of orders": "4"
                                },
                                {
                                    "orders per category": "ethiopian",
                                    "number of orders": "2"
                                },
                                {
                                    "orders per category": "moroccan",
                                    "number of orders": "2"
                                },
                                {
                                    "orders per category": "soup",
                                    "number of orders": "1"
                                },
                                {
                                    "orders per category": "pakistani",
                                    "number of orders": "1"
                                },
                                {
                                    "orders per category": "singaporean",
                                    "number of orders": "1"
                                },
                                {
                                    "orders per category": "turkish",
                                    "number of orders": "1"
                                },
                                {
                                    "orders per category": "alcohol-plus-food",
                                    "number of orders": "1"
                                },
                                {
                                    "orders per category": "southern",
                                    "number of orders": "1"
                                },
                                {
                                    "orders per category": "irish",
                                    "number of orders": "1"
                                },
                                {
                                    "orders per category": "malaysian",
                                    "number of orders": "1"
                                }
                            ]
                        },
                        "text/html": "<table><tr><th>orders per category</th><th>number of orders</th></tr><tr><td>american</td><td>5179</td></tr><tr><td>pizza</td><td>4052</td></tr><tr><td>japanese</td><td>2611</td></tr><tr><td>mexican</td><td>2418</td></tr><tr><td>burger</td><td>2055</td></tr><tr><td>fast</td><td>1868</td></tr><tr><td>italian</td><td>1798</td></tr><tr><td>sandwich</td><td>1708</td></tr><tr><td>chinese</td><td>1504</td></tr><tr><td>breakfast</td><td>1482</td></tr><tr><td>mediterranean</td><td>1438</td></tr><tr><td>dessert</td><td>1177</td></tr><tr><td>thai</td><td>1064</td></tr><tr><td>other</td><td>729</td></tr><tr><td>salad</td><td>707</td></tr><tr><td>cafe</td><td>652</td></tr><tr><td>vietnamese</td><td>636</td></tr><tr><td>indian</td><td>614</td></tr><tr><td>sushi</td><td>524</td></tr><tr><td>barbecue</td><td>485</td></tr><tr><td>seafood</td><td>455</td></tr><tr><td>smoothie</td><td>443</td></tr><tr><td>greek</td><td>396</td></tr><tr><td>asian</td><td>344</td></tr><tr><td>hawaiian</td><td>301</td></tr><tr><td>korean</td><td>220</td></tr><tr><td>brazilian</td><td>216</td></tr><tr><td>latin-american</td><td>198</td></tr><tr><td>vegetarian</td><td>185</td></tr><tr><td>convenience-store</td><td>185</td></tr><tr><td>vegan</td><td>165</td></tr><tr><td>gastropub</td><td>149</td></tr><tr><td>french</td><td>134</td></tr><tr><td>catering</td><td>112</td></tr><tr><td>steak</td><td>108</td></tr><tr><td>tapas</td><td>101</td></tr><tr><td>dim-sum</td><td>100</td></tr><tr><td>alcohol</td><td>79</td></tr><tr><td>middle-eastern</td><td>73</td></tr><tr><td>peruvian</td><td>66</td></tr><tr><td>pasta</td><td>55</td></tr><tr><td>caribbean</td><td>43</td></tr><tr><td>argentine</td><td>42</td></tr><tr><td>persian</td><td>37</td></tr><tr><td>cajun</td><td>33</td></tr><tr><td>cheese</td><td>23</td></tr><tr><td>nepalese</td><td>22</td></tr><tr><td>british</td><td>21</td></tr><tr><td>spanish</td><td>17</td></tr><tr><td>european</td><td>15</td></tr><tr><td>german</td><td>11</td></tr><tr><td>gluten-free</td><td>10</td></tr><tr><td>lebanese</td><td>8</td></tr><tr><td>filipino</td><td>6</td></tr><tr><td>bubble-tea</td><td>5</td></tr><tr><td>burmese</td><td>4</td></tr><tr><td>comfort-food</td><td>4</td></tr><tr><td>kosher</td><td>4</td></tr><tr><td>afghan</td><td>4</td></tr><tr><td>russian</td><td>4</td></tr><tr><td>ethiopian</td><td>2</td></tr><tr><td>moroccan</td><td>2</td></tr><tr><td>soup</td><td>1</td></tr><tr><td>pakistani</td><td>1</td></tr><tr><td>singaporean</td><td>1</td></tr><tr><td>turkish</td><td>1</td></tr><tr><td>alcohol-plus-food</td><td>1</td></tr><tr><td>southern</td><td>1</td></tr><tr><td>irish</td><td>1</td></tr><tr><td>malaysian</td><td>1</td></tr></table>"
                    },
                    "metadata": {
                        "azdata_chartOptions": {
                            "type": "pie",
                            "dataDirection": "vertical",
                            "columnsAsLabels": true,
                            "labelFirstColumn": false,
                            "legendPosition": "top"
                        }
                    }
                }
            ],
            "execution_count": 29
        },
        {
            "cell_type": "markdown",
            "source": [
                "# <mark>2 - What are the Average Delivery Times by Food Category?</mark>\n",
                "\n",
                "From the following visualization:\n",
                "\n",
                "  <u>Fastest</u>     <u>Slowest</u>\n",
                "\n",
                "1. Irish      1. Comfort Food\n",
                "2. Turkish    2. Russian\n",
                "3. Moroccan    3. British\n",
                "4. Singaporean  4. Cajun\n",
                "5. Filipino    5. Indian"
            ],
            "metadata": {
                "azdata_cell_guid": "78c81c3f-dad5-4180-a7fd-84ccdc5c1f45"
            },
            "attachments": {}
        },
        {
            "cell_type": "code",
            "source": [
                "USE [Sample];\r\n",
                "\r\n",
                "SELECT [dd].[store_primary_category] AS [Food Category],\r\n",
                "    AVG(DATEDIFF(MINUTE,[dd].[created_at],[dd].[actual_delivery_time])) AS [delivery time in minutes] \r\n",
                "FROM [dbo].[dd_eta] AS [dd]\r\n",
                "GROUP BY [dd].[store_primary_category]\r\n",
                "ORDER BY [delivery time in minutes] ASC;"
            ],
            "metadata": {
                "azdata_cell_guid": "81baeaf6-4558-4294-96a3-e92e6ffcc0d7",
                "language": "sql"
            },
            "outputs": [
                {
                    "output_type": "display_data",
                    "data": {
                        "text/html": "(70 rows affected)"
                    },
                    "metadata": {}
                },
                {
                    "output_type": "display_data",
                    "data": {
                        "text/html": "Total execution time: 00:00:00.064"
                    },
                    "metadata": {}
                },
                {
                    "output_type": "execute_result",
                    "execution_count": 15,
                    "data": {
                        "application/vnd.dataresource+json": {
                            "schema": {
                                "fields": [
                                    {
                                        "name": "Food Category"
                                    },
                                    {
                                        "name": "delivery time in minutes"
                                    }
                                ]
                            },
                            "data": [
                                {
                                    "Food Category": "irish",
                                    "delivery time in minutes": "25"
                                },
                                {
                                    "Food Category": "turkish",
                                    "delivery time in minutes": "28"
                                },
                                {
                                    "Food Category": "moroccan",
                                    "delivery time in minutes": "32"
                                },
                                {
                                    "Food Category": "singaporean",
                                    "delivery time in minutes": "38"
                                },
                                {
                                    "Food Category": "filipino",
                                    "delivery time in minutes": "43"
                                },
                                {
                                    "Food Category": "alcohol",
                                    "delivery time in minutes": "43"
                                },
                                {
                                    "Food Category": "vegetarian",
                                    "delivery time in minutes": "44"
                                },
                                {
                                    "Food Category": "gastropub",
                                    "delivery time in minutes": "44"
                                },
                                {
                                    "Food Category": "soup",
                                    "delivery time in minutes": "44"
                                },
                                {
                                    "Food Category": "ethiopian",
                                    "delivery time in minutes": "45"
                                },
                                {
                                    "Food Category": "dim-sum",
                                    "delivery time in minutes": "45"
                                },
                                {
                                    "Food Category": "pakistani",
                                    "delivery time in minutes": "46"
                                },
                                {
                                    "Food Category": "caribbean",
                                    "delivery time in minutes": "46"
                                },
                                {
                                    "Food Category": "convenience-store",
                                    "delivery time in minutes": "46"
                                },
                                {
                                    "Food Category": "german",
                                    "delivery time in minutes": "47"
                                },
                                {
                                    "Food Category": "mediterranean",
                                    "delivery time in minutes": "47"
                                },
                                {
                                    "Food Category": "breakfast",
                                    "delivery time in minutes": "47"
                                },
                                {
                                    "Food Category": "mexican",
                                    "delivery time in minutes": "48"
                                },
                                {
                                    "Food Category": "malaysian",
                                    "delivery time in minutes": "48"
                                },
                                {
                                    "Food Category": "other",
                                    "delivery time in minutes": "48"
                                },
                                {
                                    "Food Category": "smoothie",
                                    "delivery time in minutes": "48"
                                },
                                {
                                    "Food Category": "fast",
                                    "delivery time in minutes": "48"
                                },
                                {
                                    "Food Category": "latin-american",
                                    "delivery time in minutes": "48"
                                },
                                {
                                    "Food Category": "greek",
                                    "delivery time in minutes": "48"
                                },
                                {
                                    "Food Category": "burger",
                                    "delivery time in minutes": "49"
                                },
                                {
                                    "Food Category": "hawaiian",
                                    "delivery time in minutes": "49"
                                },
                                {
                                    "Food Category": "french",
                                    "delivery time in minutes": "49"
                                },
                                {
                                    "Food Category": "cheese",
                                    "delivery time in minutes": "49"
                                },
                                {
                                    "Food Category": "cafe",
                                    "delivery time in minutes": "49"
                                },
                                {
                                    "Food Category": "seafood",
                                    "delivery time in minutes": "49"
                                },
                                {
                                    "Food Category": "gluten-free",
                                    "delivery time in minutes": "50"
                                },
                                {
                                    "Food Category": "argentine",
                                    "delivery time in minutes": "50"
                                },
                                {
                                    "Food Category": "catering",
                                    "delivery time in minutes": "50"
                                },
                                {
                                    "Food Category": "middle-eastern",
                                    "delivery time in minutes": "50"
                                },
                                {
                                    "Food Category": "american",
                                    "delivery time in minutes": "50"
                                },
                                {
                                    "Food Category": "vegan",
                                    "delivery time in minutes": "50"
                                },
                                {
                                    "Food Category": "barbecue",
                                    "delivery time in minutes": "50"
                                },
                                {
                                    "Food Category": "european",
                                    "delivery time in minutes": "51"
                                },
                                {
                                    "Food Category": "pasta",
                                    "delivery time in minutes": "51"
                                },
                                {
                                    "Food Category": "salad",
                                    "delivery time in minutes": "51"
                                },
                                {
                                    "Food Category": "alcohol-plus-food",
                                    "delivery time in minutes": "51"
                                },
                                {
                                    "Food Category": "thai",
                                    "delivery time in minutes": "51"
                                },
                                {
                                    "Food Category": "peruvian",
                                    "delivery time in minutes": "51"
                                },
                                {
                                    "Food Category": "asian",
                                    "delivery time in minutes": "51"
                                },
                                {
                                    "Food Category": "pizza",
                                    "delivery time in minutes": "52"
                                },
                                {
                                    "Food Category": "sandwich",
                                    "delivery time in minutes": "52"
                                },
                                {
                                    "Food Category": "italian",
                                    "delivery time in minutes": "52"
                                },
                                {
                                    "Food Category": "vietnamese",
                                    "delivery time in minutes": "52"
                                },
                                {
                                    "Food Category": "tapas",
                                    "delivery time in minutes": "53"
                                },
                                {
                                    "Food Category": "persian",
                                    "delivery time in minutes": "53"
                                },
                                {
                                    "Food Category": "lebanese",
                                    "delivery time in minutes": "53"
                                },
                                {
                                    "Food Category": "chinese",
                                    "delivery time in minutes": "54"
                                },
                                {
                                    "Food Category": "dessert",
                                    "delivery time in minutes": "54"
                                },
                                {
                                    "Food Category": "bubble-tea",
                                    "delivery time in minutes": "55"
                                },
                                {
                                    "Food Category": "spanish",
                                    "delivery time in minutes": "55"
                                },
                                {
                                    "Food Category": "korean",
                                    "delivery time in minutes": "55"
                                },
                                {
                                    "Food Category": "steak",
                                    "delivery time in minutes": "56"
                                },
                                {
                                    "Food Category": "nepalese",
                                    "delivery time in minutes": "56"
                                },
                                {
                                    "Food Category": "sushi",
                                    "delivery time in minutes": "57"
                                },
                                {
                                    "Food Category": "japanese",
                                    "delivery time in minutes": "58"
                                },
                                {
                                    "Food Category": "brazilian",
                                    "delivery time in minutes": "58"
                                },
                                {
                                    "Food Category": "burmese",
                                    "delivery time in minutes": "60"
                                },
                                {
                                    "Food Category": "kosher",
                                    "delivery time in minutes": "60"
                                },
                                {
                                    "Food Category": "southern",
                                    "delivery time in minutes": "60"
                                },
                                {
                                    "Food Category": "afghan",
                                    "delivery time in minutes": "61"
                                },
                                {
                                    "Food Category": "indian",
                                    "delivery time in minutes": "62"
                                },
                                {
                                    "Food Category": "cajun",
                                    "delivery time in minutes": "62"
                                },
                                {
                                    "Food Category": "british",
                                    "delivery time in minutes": "64"
                                },
                                {
                                    "Food Category": "russian",
                                    "delivery time in minutes": "68"
                                },
                                {
                                    "Food Category": "comfort-food",
                                    "delivery time in minutes": "88"
                                }
                            ]
                        },
                        "text/html": "<table><tr><th>Food Category</th><th>delivery time in minutes</th></tr><tr><td>irish</td><td>25</td></tr><tr><td>turkish</td><td>28</td></tr><tr><td>moroccan</td><td>32</td></tr><tr><td>singaporean</td><td>38</td></tr><tr><td>filipino</td><td>43</td></tr><tr><td>alcohol</td><td>43</td></tr><tr><td>vegetarian</td><td>44</td></tr><tr><td>gastropub</td><td>44</td></tr><tr><td>soup</td><td>44</td></tr><tr><td>ethiopian</td><td>45</td></tr><tr><td>dim-sum</td><td>45</td></tr><tr><td>pakistani</td><td>46</td></tr><tr><td>caribbean</td><td>46</td></tr><tr><td>convenience-store</td><td>46</td></tr><tr><td>german</td><td>47</td></tr><tr><td>mediterranean</td><td>47</td></tr><tr><td>breakfast</td><td>47</td></tr><tr><td>mexican</td><td>48</td></tr><tr><td>malaysian</td><td>48</td></tr><tr><td>other</td><td>48</td></tr><tr><td>smoothie</td><td>48</td></tr><tr><td>fast</td><td>48</td></tr><tr><td>latin-american</td><td>48</td></tr><tr><td>greek</td><td>48</td></tr><tr><td>burger</td><td>49</td></tr><tr><td>hawaiian</td><td>49</td></tr><tr><td>french</td><td>49</td></tr><tr><td>cheese</td><td>49</td></tr><tr><td>cafe</td><td>49</td></tr><tr><td>seafood</td><td>49</td></tr><tr><td>gluten-free</td><td>50</td></tr><tr><td>argentine</td><td>50</td></tr><tr><td>catering</td><td>50</td></tr><tr><td>middle-eastern</td><td>50</td></tr><tr><td>american</td><td>50</td></tr><tr><td>vegan</td><td>50</td></tr><tr><td>barbecue</td><td>50</td></tr><tr><td>european</td><td>51</td></tr><tr><td>pasta</td><td>51</td></tr><tr><td>salad</td><td>51</td></tr><tr><td>alcohol-plus-food</td><td>51</td></tr><tr><td>thai</td><td>51</td></tr><tr><td>peruvian</td><td>51</td></tr><tr><td>asian</td><td>51</td></tr><tr><td>pizza</td><td>52</td></tr><tr><td>sandwich</td><td>52</td></tr><tr><td>italian</td><td>52</td></tr><tr><td>vietnamese</td><td>52</td></tr><tr><td>tapas</td><td>53</td></tr><tr><td>persian</td><td>53</td></tr><tr><td>lebanese</td><td>53</td></tr><tr><td>chinese</td><td>54</td></tr><tr><td>dessert</td><td>54</td></tr><tr><td>bubble-tea</td><td>55</td></tr><tr><td>spanish</td><td>55</td></tr><tr><td>korean</td><td>55</td></tr><tr><td>steak</td><td>56</td></tr><tr><td>nepalese</td><td>56</td></tr><tr><td>sushi</td><td>57</td></tr><tr><td>japanese</td><td>58</td></tr><tr><td>brazilian</td><td>58</td></tr><tr><td>burmese</td><td>60</td></tr><tr><td>kosher</td><td>60</td></tr><tr><td>southern</td><td>60</td></tr><tr><td>afghan</td><td>61</td></tr><tr><td>indian</td><td>62</td></tr><tr><td>cajun</td><td>62</td></tr><tr><td>british</td><td>64</td></tr><tr><td>russian</td><td>68</td></tr><tr><td>comfort-food</td><td>88</td></tr></table>"
                    },
                    "metadata": {
                        "azdata_chartOptions": {
                            "type": "bar",
                            "dataDirection": "horizontal",
                            "columnsAsLabels": true,
                            "labelFirstColumn": true,
                            "legendPosition": "top",
                            "yAxisLabel": "Time in minutes",
                            "xAxisLabel": "Food Category",
                            "dataType": "number"
                        }
                    }
                }
            ],
            "execution_count": 15
        },
        {
            "cell_type": "markdown",
            "source": [
                "# <mark>3 - Are Estimated Delivery Times and Actual Delivery Times Close to Being the Same?</mark>\n",
                "\n",
                "The following visualization depicts orders placed on an expected busy delivery date and time (Valentine Day Feb 14 between 8:00 and 8:59 pm) and an average Thursday (Feb 10 between 8:00 and 8:59 pm) to compare if there is a significant difference in Estimated Delivery Times and Actual Delivery Times for those dates.\n",
                "\n",
                "The following visualization shows February 14th had slightly greater gaps between Estimated Delivery Time and Actual Delivery Time, but not by a significant amount. There are still many discrepancies between Estimated Delivery Time and Actual Delivery Time on a regular day (Feb 10 between 8:00 and 8:59 pm).\n",
                "\n",
                "Note: columns \\[estimated\\_order\\_place\\_duration\\] and \\[estimated\\_store\\_to\\_consumer\\_driving\\_duration\\] are each divided by 60 to give results in minutes as opposed to seconds."
            ],
            "metadata": {
                "language": "sql",
                "azdata_cell_guid": "07f8c06d-2bbb-43b3-adf5-c348ec463023"
            },
            "attachments": {}
        },
        {
            "cell_type": "code",
            "source": [
                "USE [Sample];\r\n",
                "\r\n",
                "SELECT [dd].[created_at],\r\n",
                "    [Actual Delivery Time] = DATEDIFF(MINUTE,[dd].[created_at],[actual_delivery_time]),\r\n",
                "    [Estimated Delivery Time] = ([dd].[estimated_order_place_duration]/60) + ([dd].[estimated_store_to_consumer_driving_duration]/60)\r\n",
                "FROM [dbo].[dd_eta] AS [dd]\r\n",
                "WHERE DATEPART(MONTH,[dd].[created_at]) = 2\r\n",
                "    AND DATEPART(DAY,[dd].[created_at]) IN (10,14)\r\n",
                "    AND DATEPART(HOUR,[dd].[created_at]) = 20\r\n",
                "ORDER BY [dd].[created_at] ASC; "
            ],
            "metadata": {
                "language": "sql",
                "azdata_cell_guid": "eb0fa8dc-071b-45f8-b8f7-9ac635f1c9ce",
                "tags": []
            },
            "outputs": [
                {
                    "output_type": "display_data",
                    "data": {
                        "text/html": "(197 rows affected)"
                    },
                    "metadata": {}
                },
                {
                    "output_type": "display_data",
                    "data": {
                        "text/html": "Total execution time: 00:00:00.044"
                    },
                    "metadata": {}
                },
                {
                    "output_type": "execute_result",
                    "execution_count": 98,
                    "data": {
                        "application/vnd.dataresource+json": {
                            "schema": {
                                "fields": [
                                    {
                                        "name": "created_at"
                                    },
                                    {
                                        "name": "Actual Delivery Time"
                                    },
                                    {
                                        "name": "Estimated Delivery Time"
                                    }
                                ]
                            },
                            "data": [
                                {
                                    "created_at": "2015-02-10 20:00:00.0000000",
                                    "Actual Delivery Time": "57",
                                    "Estimated Delivery Time": "15"
                                },
                                {
                                    "created_at": "2015-02-10 20:00:00.0000000",
                                    "Actual Delivery Time": "24",
                                    "Estimated Delivery Time": "16"
                                },
                                {
                                    "created_at": "2015-02-10 20:01:00.0000000",
                                    "Actual Delivery Time": "38",
                                    "Estimated Delivery Time": "12"
                                },
                                {
                                    "created_at": "2015-02-10 20:01:00.0000000",
                                    "Actual Delivery Time": "23",
                                    "Estimated Delivery Time": "9"
                                },
                                {
                                    "created_at": "2015-02-10 20:02:00.0000000",
                                    "Actual Delivery Time": "63",
                                    "Estimated Delivery Time": "10"
                                },
                                {
                                    "created_at": "2015-02-10 20:03:00.0000000",
                                    "Actual Delivery Time": "77",
                                    "Estimated Delivery Time": "18"
                                },
                                {
                                    "created_at": "2015-02-10 20:03:00.0000000",
                                    "Actual Delivery Time": "62",
                                    "Estimated Delivery Time": "20"
                                },
                                {
                                    "created_at": "2015-02-10 20:03:00.0000000",
                                    "Actual Delivery Time": "36",
                                    "Estimated Delivery Time": "15"
                                },
                                {
                                    "created_at": "2015-02-10 20:06:00.0000000",
                                    "Actual Delivery Time": "52",
                                    "Estimated Delivery Time": "15"
                                },
                                {
                                    "created_at": "2015-02-10 20:07:00.0000000",
                                    "Actual Delivery Time": "60",
                                    "Estimated Delivery Time": "16"
                                },
                                {
                                    "created_at": "2015-02-10 20:08:00.0000000",
                                    "Actual Delivery Time": "59",
                                    "Estimated Delivery Time": "14"
                                },
                                {
                                    "created_at": "2015-02-10 20:09:00.0000000",
                                    "Actual Delivery Time": "29",
                                    "Estimated Delivery Time": "13"
                                },
                                {
                                    "created_at": "2015-02-10 20:09:00.0000000",
                                    "Actual Delivery Time": "49",
                                    "Estimated Delivery Time": "17"
                                },
                                {
                                    "created_at": "2015-02-10 20:10:00.0000000",
                                    "Actual Delivery Time": "80",
                                    "Estimated Delivery Time": "17"
                                },
                                {
                                    "created_at": "2015-02-10 20:10:00.0000000",
                                    "Actual Delivery Time": "67",
                                    "Estimated Delivery Time": "20"
                                },
                                {
                                    "created_at": "2015-02-10 20:10:00.0000000",
                                    "Actual Delivery Time": "39",
                                    "Estimated Delivery Time": "19"
                                },
                                {
                                    "created_at": "2015-02-10 20:10:00.0000000",
                                    "Actual Delivery Time": "67",
                                    "Estimated Delivery Time": "18"
                                },
                                {
                                    "created_at": "2015-02-10 20:11:00.0000000",
                                    "Actual Delivery Time": "23",
                                    "Estimated Delivery Time": "14"
                                },
                                {
                                    "created_at": "2015-02-10 20:11:00.0000000",
                                    "Actual Delivery Time": "54",
                                    "Estimated Delivery Time": "8"
                                },
                                {
                                    "created_at": "2015-02-10 20:12:00.0000000",
                                    "Actual Delivery Time": "94",
                                    "Estimated Delivery Time": "16"
                                },
                                {
                                    "created_at": "2015-02-10 20:13:00.0000000",
                                    "Actual Delivery Time": "109",
                                    "Estimated Delivery Time": "19"
                                },
                                {
                                    "created_at": "2015-02-10 20:13:00.0000000",
                                    "Actual Delivery Time": "71",
                                    "Estimated Delivery Time": "7"
                                },
                                {
                                    "created_at": "2015-02-10 20:14:00.0000000",
                                    "Actual Delivery Time": "42",
                                    "Estimated Delivery Time": "11"
                                },
                                {
                                    "created_at": "2015-02-10 20:15:00.0000000",
                                    "Actual Delivery Time": "35",
                                    "Estimated Delivery Time": "13"
                                },
                                {
                                    "created_at": "2015-02-10 20:15:00.0000000",
                                    "Actual Delivery Time": "68",
                                    "Estimated Delivery Time": "19"
                                },
                                {
                                    "created_at": "2015-02-10 20:16:00.0000000",
                                    "Actual Delivery Time": "74",
                                    "Estimated Delivery Time": "17"
                                },
                                {
                                    "created_at": "2015-02-10 20:16:00.0000000",
                                    "Actual Delivery Time": "23",
                                    "Estimated Delivery Time": "10"
                                },
                                {
                                    "created_at": "2015-02-10 20:17:00.0000000",
                                    "Actual Delivery Time": "46",
                                    "Estimated Delivery Time": "12"
                                },
                                {
                                    "created_at": "2015-02-10 20:19:00.0000000",
                                    "Actual Delivery Time": "19",
                                    "Estimated Delivery Time": "7"
                                },
                                {
                                    "created_at": "2015-02-10 20:19:00.0000000",
                                    "Actual Delivery Time": "44",
                                    "Estimated Delivery Time": "5"
                                },
                                {
                                    "created_at": "2015-02-10 20:19:00.0000000",
                                    "Actual Delivery Time": "30",
                                    "Estimated Delivery Time": "9"
                                },
                                {
                                    "created_at": "2015-02-10 20:21:00.0000000",
                                    "Actual Delivery Time": "70",
                                    "Estimated Delivery Time": "19"
                                },
                                {
                                    "created_at": "2015-02-10 20:22:00.0000000",
                                    "Actual Delivery Time": "26",
                                    "Estimated Delivery Time": "20"
                                },
                                {
                                    "created_at": "2015-02-10 20:23:00.0000000",
                                    "Actual Delivery Time": "51",
                                    "Estimated Delivery Time": "16"
                                },
                                {
                                    "created_at": "2015-02-10 20:23:00.0000000",
                                    "Actual Delivery Time": "23",
                                    "Estimated Delivery Time": "15"
                                },
                                {
                                    "created_at": "2015-02-10 20:24:00.0000000",
                                    "Actual Delivery Time": "63",
                                    "Estimated Delivery Time": "20"
                                },
                                {
                                    "created_at": "2015-02-10 20:25:00.0000000",
                                    "Actual Delivery Time": "20",
                                    "Estimated Delivery Time": "9"
                                },
                                {
                                    "created_at": "2015-02-10 20:25:00.0000000",
                                    "Actual Delivery Time": "21",
                                    "Estimated Delivery Time": "10"
                                },
                                {
                                    "created_at": "2015-02-10 20:25:00.0000000",
                                    "Actual Delivery Time": "52",
                                    "Estimated Delivery Time": "19"
                                },
                                {
                                    "created_at": "2015-02-10 20:27:00.0000000",
                                    "Actual Delivery Time": "40",
                                    "Estimated Delivery Time": "12"
                                },
                                {
                                    "created_at": "2015-02-10 20:27:00.0000000",
                                    "Actual Delivery Time": "40",
                                    "Estimated Delivery Time": "13"
                                },
                                {
                                    "created_at": "2015-02-10 20:28:00.0000000",
                                    "Actual Delivery Time": "28",
                                    "Estimated Delivery Time": "17"
                                },
                                {
                                    "created_at": "2015-02-10 20:28:00.0000000",
                                    "Actual Delivery Time": "66",
                                    "Estimated Delivery Time": "24"
                                },
                                {
                                    "created_at": "2015-02-10 20:29:00.0000000",
                                    "Actual Delivery Time": "44",
                                    "Estimated Delivery Time": "15"
                                },
                                {
                                    "created_at": "2015-02-10 20:30:00.0000000",
                                    "Actual Delivery Time": "85",
                                    "Estimated Delivery Time": "15"
                                },
                                {
                                    "created_at": "2015-02-10 20:30:00.0000000",
                                    "Actual Delivery Time": "35",
                                    "Estimated Delivery Time": "11"
                                },
                                {
                                    "created_at": "2015-02-10 20:30:00.0000000",
                                    "Actual Delivery Time": "95",
                                    "Estimated Delivery Time": "22"
                                },
                                {
                                    "created_at": "2015-02-10 20:31:00.0000000",
                                    "Actual Delivery Time": "39",
                                    "Estimated Delivery Time": "18"
                                },
                                {
                                    "created_at": "2015-02-10 20:31:00.0000000",
                                    "Actual Delivery Time": "18",
                                    "Estimated Delivery Time": "5"
                                },
                                {
                                    "created_at": "2015-02-10 20:34:00.0000000",
                                    "Actual Delivery Time": "19",
                                    "Estimated Delivery Time": "9"
                                },
                                {
                                    "created_at": "2015-02-10 20:36:00.0000000",
                                    "Actual Delivery Time": "26",
                                    "Estimated Delivery Time": "16"
                                },
                                {
                                    "created_at": "2015-02-10 20:36:00.0000000",
                                    "Actual Delivery Time": "40",
                                    "Estimated Delivery Time": "8"
                                },
                                {
                                    "created_at": "2015-02-10 20:37:00.0000000",
                                    "Actual Delivery Time": "56",
                                    "Estimated Delivery Time": "15"
                                },
                                {
                                    "created_at": "2015-02-10 20:38:00.0000000",
                                    "Actual Delivery Time": "30",
                                    "Estimated Delivery Time": "15"
                                },
                                {
                                    "created_at": "2015-02-10 20:38:00.0000000",
                                    "Actual Delivery Time": "51",
                                    "Estimated Delivery Time": "10"
                                },
                                {
                                    "created_at": "2015-02-10 20:38:00.0000000",
                                    "Actual Delivery Time": "44",
                                    "Estimated Delivery Time": "9"
                                },
                                {
                                    "created_at": "2015-02-10 20:38:00.0000000",
                                    "Actual Delivery Time": "40",
                                    "Estimated Delivery Time": "18"
                                },
                                {
                                    "created_at": "2015-02-10 20:38:00.0000000",
                                    "Actual Delivery Time": "45",
                                    "Estimated Delivery Time": "10"
                                },
                                {
                                    "created_at": "2015-02-10 20:38:00.0000000",
                                    "Actual Delivery Time": "25",
                                    "Estimated Delivery Time": "8"
                                },
                                {
                                    "created_at": "2015-02-10 20:38:00.0000000",
                                    "Actual Delivery Time": "51",
                                    "Estimated Delivery Time": "13"
                                },
                                {
                                    "created_at": "2015-02-10 20:38:00.0000000",
                                    "Actual Delivery Time": "38",
                                    "Estimated Delivery Time": "14"
                                },
                                {
                                    "created_at": "2015-02-10 20:39:00.0000000",
                                    "Actual Delivery Time": "18",
                                    "Estimated Delivery Time": "7"
                                },
                                {
                                    "created_at": "2015-02-10 20:39:00.0000000",
                                    "Actual Delivery Time": "31",
                                    "Estimated Delivery Time": "11"
                                },
                                {
                                    "created_at": "2015-02-10 20:39:00.0000000",
                                    "Actual Delivery Time": "81",
                                    "Estimated Delivery Time": "8"
                                },
                                {
                                    "created_at": "2015-02-10 20:40:00.0000000",
                                    "Actual Delivery Time": "50",
                                    "Estimated Delivery Time": "14"
                                },
                                {
                                    "created_at": "2015-02-10 20:40:00.0000000",
                                    "Actual Delivery Time": "45",
                                    "Estimated Delivery Time": "22"
                                },
                                {
                                    "created_at": "2015-02-10 20:42:00.0000000",
                                    "Actual Delivery Time": "32",
                                    "Estimated Delivery Time": "17"
                                },
                                {
                                    "created_at": "2015-02-10 20:42:00.0000000",
                                    "Actual Delivery Time": "47",
                                    "Estimated Delivery Time": "18"
                                },
                                {
                                    "created_at": "2015-02-10 20:43:00.0000000",
                                    "Actual Delivery Time": "36",
                                    "Estimated Delivery Time": "13"
                                },
                                {
                                    "created_at": "2015-02-10 20:45:00.0000000",
                                    "Actual Delivery Time": "74",
                                    "Estimated Delivery Time": "17"
                                },
                                {
                                    "created_at": "2015-02-10 20:45:00.0000000",
                                    "Actual Delivery Time": "47",
                                    "Estimated Delivery Time": "17"
                                },
                                {
                                    "created_at": "2015-02-10 20:46:00.0000000",
                                    "Actual Delivery Time": "20",
                                    "Estimated Delivery Time": "13"
                                },
                                {
                                    "created_at": "2015-02-10 20:46:00.0000000",
                                    "Actual Delivery Time": "47",
                                    "Estimated Delivery Time": "12"
                                },
                                {
                                    "created_at": "2015-02-10 20:47:00.0000000",
                                    "Actual Delivery Time": "37",
                                    "Estimated Delivery Time": "10"
                                },
                                {
                                    "created_at": "2015-02-10 20:48:00.0000000",
                                    "Actual Delivery Time": "38",
                                    "Estimated Delivery Time": "13"
                                },
                                {
                                    "created_at": "2015-02-10 20:48:00.0000000",
                                    "Actual Delivery Time": "40",
                                    "Estimated Delivery Time": "12"
                                },
                                {
                                    "created_at": "2015-02-10 20:48:00.0000000",
                                    "Actual Delivery Time": "30",
                                    "Estimated Delivery Time": "10"
                                },
                                {
                                    "created_at": "2015-02-10 20:48:00.0000000",
                                    "Actual Delivery Time": "43",
                                    "Estimated Delivery Time": "14"
                                },
                                {
                                    "created_at": "2015-02-10 20:50:00.0000000",
                                    "Actual Delivery Time": "61",
                                    "Estimated Delivery Time": "14"
                                },
                                {
                                    "created_at": "2015-02-10 20:51:00.0000000",
                                    "Actual Delivery Time": "60",
                                    "Estimated Delivery Time": "11"
                                },
                                {
                                    "created_at": "2015-02-10 20:51:00.0000000",
                                    "Actual Delivery Time": "48",
                                    "Estimated Delivery Time": "18"
                                },
                                {
                                    "created_at": "2015-02-10 20:51:00.0000000",
                                    "Actual Delivery Time": "60",
                                    "Estimated Delivery Time": "16"
                                },
                                {
                                    "created_at": "2015-02-10 20:51:00.0000000",
                                    "Actual Delivery Time": "45",
                                    "Estimated Delivery Time": "11"
                                },
                                {
                                    "created_at": "2015-02-10 20:52:00.0000000",
                                    "Actual Delivery Time": "54",
                                    "Estimated Delivery Time": "17"
                                },
                                {
                                    "created_at": "2015-02-10 20:52:00.0000000",
                                    "Actual Delivery Time": "54",
                                    "Estimated Delivery Time": "16"
                                },
                                {
                                    "created_at": "2015-02-10 20:53:00.0000000",
                                    "Actual Delivery Time": "33",
                                    "Estimated Delivery Time": "12"
                                },
                                {
                                    "created_at": "2015-02-10 20:54:00.0000000",
                                    "Actual Delivery Time": "44",
                                    "Estimated Delivery Time": "9"
                                },
                                {
                                    "created_at": "2015-02-10 20:54:00.0000000",
                                    "Actual Delivery Time": "33",
                                    "Estimated Delivery Time": "17"
                                },
                                {
                                    "created_at": "2015-02-10 20:55:00.0000000",
                                    "Actual Delivery Time": "44",
                                    "Estimated Delivery Time": "16"
                                },
                                {
                                    "created_at": "2015-02-10 20:56:00.0000000",
                                    "Actual Delivery Time": "43",
                                    "Estimated Delivery Time": "16"
                                },
                                {
                                    "created_at": "2015-02-10 20:58:00.0000000",
                                    "Actual Delivery Time": "52",
                                    "Estimated Delivery Time": "20"
                                },
                                {
                                    "created_at": "2015-02-10 20:59:00.0000000",
                                    "Actual Delivery Time": "37",
                                    "Estimated Delivery Time": "17"
                                },
                                {
                                    "created_at": "2015-02-14 20:00:00.0000000",
                                    "Actual Delivery Time": "51",
                                    "Estimated Delivery Time": "14"
                                },
                                {
                                    "created_at": "2015-02-14 20:00:00.0000000",
                                    "Actual Delivery Time": "42",
                                    "Estimated Delivery Time": "16"
                                },
                                {
                                    "created_at": "2015-02-14 20:00:00.0000000",
                                    "Actual Delivery Time": "38",
                                    "Estimated Delivery Time": "10"
                                },
                                {
                                    "created_at": "2015-02-14 20:00:00.0000000",
                                    "Actual Delivery Time": "70",
                                    "Estimated Delivery Time": "15"
                                },
                                {
                                    "created_at": "2015-02-14 20:00:00.0000000",
                                    "Actual Delivery Time": "47",
                                    "Estimated Delivery Time": "12"
                                },
                                {
                                    "created_at": "2015-02-14 20:01:00.0000000",
                                    "Actual Delivery Time": "33",
                                    "Estimated Delivery Time": "13"
                                },
                                {
                                    "created_at": "2015-02-14 20:03:00.0000000",
                                    "Actual Delivery Time": "45",
                                    "Estimated Delivery Time": "19"
                                },
                                {
                                    "created_at": "2015-02-14 20:03:00.0000000",
                                    "Actual Delivery Time": "62",
                                    "Estimated Delivery Time": "20"
                                },
                                {
                                    "created_at": "2015-02-14 20:03:00.0000000",
                                    "Actual Delivery Time": "34",
                                    "Estimated Delivery Time": "9"
                                },
                                {
                                    "created_at": "2015-02-14 20:03:00.0000000",
                                    "Actual Delivery Time": "33",
                                    "Estimated Delivery Time": "11"
                                },
                                {
                                    "created_at": "2015-02-14 20:03:00.0000000",
                                    "Actual Delivery Time": "33",
                                    "Estimated Delivery Time": "11"
                                },
                                {
                                    "created_at": "2015-02-14 20:03:00.0000000",
                                    "Actual Delivery Time": "73",
                                    "Estimated Delivery Time": "12"
                                },
                                {
                                    "created_at": "2015-02-14 20:04:00.0000000",
                                    "Actual Delivery Time": "20",
                                    "Estimated Delivery Time": "9"
                                },
                                {
                                    "created_at": "2015-02-14 20:04:00.0000000",
                                    "Actual Delivery Time": "52",
                                    "Estimated Delivery Time": "10"
                                },
                                {
                                    "created_at": "2015-02-14 20:05:00.0000000",
                                    "Actual Delivery Time": "48",
                                    "Estimated Delivery Time": "7"
                                },
                                {
                                    "created_at": "2015-02-14 20:06:00.0000000",
                                    "Actual Delivery Time": "43",
                                    "Estimated Delivery Time": "11"
                                },
                                {
                                    "created_at": "2015-02-14 20:07:00.0000000",
                                    "Actual Delivery Time": "40",
                                    "Estimated Delivery Time": "7"
                                },
                                {
                                    "created_at": "2015-02-14 20:07:00.0000000",
                                    "Actual Delivery Time": "71",
                                    "Estimated Delivery Time": "11"
                                },
                                {
                                    "created_at": "2015-02-14 20:07:00.0000000",
                                    "Actual Delivery Time": "69",
                                    "Estimated Delivery Time": "17"
                                },
                                {
                                    "created_at": "2015-02-14 20:08:00.0000000",
                                    "Actual Delivery Time": "60",
                                    "Estimated Delivery Time": "13"
                                },
                                {
                                    "created_at": "2015-02-14 20:09:00.0000000",
                                    "Actual Delivery Time": "49",
                                    "Estimated Delivery Time": "12"
                                },
                                {
                                    "created_at": "2015-02-14 20:09:00.0000000",
                                    "Actual Delivery Time": "70",
                                    "Estimated Delivery Time": "14"
                                },
                                {
                                    "created_at": "2015-02-14 20:09:00.0000000",
                                    "Actual Delivery Time": "43",
                                    "Estimated Delivery Time": "16"
                                },
                                {
                                    "created_at": "2015-02-14 20:10:00.0000000",
                                    "Actual Delivery Time": "39",
                                    "Estimated Delivery Time": "6"
                                },
                                {
                                    "created_at": "2015-02-14 20:11:00.0000000",
                                    "Actual Delivery Time": "41",
                                    "Estimated Delivery Time": "14"
                                },
                                {
                                    "created_at": "2015-02-14 20:11:00.0000000",
                                    "Actual Delivery Time": "51",
                                    "Estimated Delivery Time": "19"
                                },
                                {
                                    "created_at": "2015-02-14 20:12:00.0000000",
                                    "Actual Delivery Time": "58",
                                    "Estimated Delivery Time": "15"
                                },
                                {
                                    "created_at": "2015-02-14 20:12:00.0000000",
                                    "Actual Delivery Time": "62",
                                    "Estimated Delivery Time": "23"
                                },
                                {
                                    "created_at": "2015-02-14 20:12:00.0000000",
                                    "Actual Delivery Time": "34",
                                    "Estimated Delivery Time": "11"
                                },
                                {
                                    "created_at": "2015-02-14 20:12:00.0000000",
                                    "Actual Delivery Time": "44",
                                    "Estimated Delivery Time": "12"
                                },
                                {
                                    "created_at": "2015-02-14 20:12:00.0000000",
                                    "Actual Delivery Time": "72",
                                    "Estimated Delivery Time": "16"
                                },
                                {
                                    "created_at": "2015-02-14 20:13:00.0000000",
                                    "Actual Delivery Time": "42",
                                    "Estimated Delivery Time": "18"
                                },
                                {
                                    "created_at": "2015-02-14 20:13:00.0000000",
                                    "Actual Delivery Time": "47",
                                    "Estimated Delivery Time": "17"
                                },
                                {
                                    "created_at": "2015-02-14 20:14:00.0000000",
                                    "Actual Delivery Time": "85",
                                    "Estimated Delivery Time": "12"
                                },
                                {
                                    "created_at": "2015-02-14 20:16:00.0000000",
                                    "Actual Delivery Time": "88",
                                    "Estimated Delivery Time": "15"
                                },
                                {
                                    "created_at": "2015-02-14 20:18:00.0000000",
                                    "Actual Delivery Time": "52",
                                    "Estimated Delivery Time": "9"
                                },
                                {
                                    "created_at": "2015-02-14 20:18:00.0000000",
                                    "Actual Delivery Time": "41",
                                    "Estimated Delivery Time": "16"
                                },
                                {
                                    "created_at": "2015-02-14 20:18:00.0000000",
                                    "Actual Delivery Time": "41",
                                    "Estimated Delivery Time": "15"
                                },
                                {
                                    "created_at": "2015-02-14 20:20:00.0000000",
                                    "Actual Delivery Time": "81",
                                    "Estimated Delivery Time": "14"
                                },
                                {
                                    "created_at": "2015-02-14 20:22:00.0000000",
                                    "Actual Delivery Time": "31",
                                    "Estimated Delivery Time": "5"
                                },
                                {
                                    "created_at": "2015-02-14 20:22:00.0000000",
                                    "Actual Delivery Time": "76",
                                    "Estimated Delivery Time": "11"
                                },
                                {
                                    "created_at": "2015-02-14 20:23:00.0000000",
                                    "Actual Delivery Time": "40",
                                    "Estimated Delivery Time": "14"
                                },
                                {
                                    "created_at": "2015-02-14 20:23:00.0000000",
                                    "Actual Delivery Time": "63",
                                    "Estimated Delivery Time": "27"
                                },
                                {
                                    "created_at": "2015-02-14 20:23:00.0000000",
                                    "Actual Delivery Time": "56",
                                    "Estimated Delivery Time": "11"
                                },
                                {
                                    "created_at": "2015-02-14 20:23:00.0000000",
                                    "Actual Delivery Time": "54",
                                    "Estimated Delivery Time": "18"
                                },
                                {
                                    "created_at": "2015-02-14 20:25:00.0000000",
                                    "Actual Delivery Time": "47",
                                    "Estimated Delivery Time": "10"
                                },
                                {
                                    "created_at": "2015-02-14 20:25:00.0000000",
                                    "Actual Delivery Time": "46",
                                    "Estimated Delivery Time": "5"
                                },
                                {
                                    "created_at": "2015-02-14 20:25:00.0000000",
                                    "Actual Delivery Time": "45",
                                    "Estimated Delivery Time": "17"
                                },
                                {
                                    "created_at": "2015-02-14 20:25:00.0000000",
                                    "Actual Delivery Time": "34",
                                    "Estimated Delivery Time": "10"
                                },
                                {
                                    "created_at": "2015-02-14 20:25:00.0000000",
                                    "Actual Delivery Time": "37",
                                    "Estimated Delivery Time": "9"
                                },
                                {
                                    "created_at": "2015-02-14 20:26:00.0000000",
                                    "Actual Delivery Time": "63",
                                    "Estimated Delivery Time": "14"
                                },
                                {
                                    "created_at": "2015-02-14 20:27:00.0000000",
                                    "Actual Delivery Time": "51",
                                    "Estimated Delivery Time": "17"
                                },
                                {
                                    "created_at": "2015-02-14 20:28:00.0000000",
                                    "Actual Delivery Time": "40",
                                    "Estimated Delivery Time": "11"
                                },
                                {
                                    "created_at": "2015-02-14 20:29:00.0000000",
                                    "Actual Delivery Time": "36",
                                    "Estimated Delivery Time": "8"
                                },
                                {
                                    "created_at": "2015-02-14 20:31:00.0000000",
                                    "Actual Delivery Time": "21",
                                    "Estimated Delivery Time": "10"
                                },
                                {
                                    "created_at": "2015-02-14 20:31:00.0000000",
                                    "Actual Delivery Time": "86",
                                    "Estimated Delivery Time": "7"
                                },
                                {
                                    "created_at": "2015-02-14 20:31:00.0000000",
                                    "Actual Delivery Time": "118",
                                    "Estimated Delivery Time": "16"
                                },
                                {
                                    "created_at": "2015-02-14 20:34:00.0000000",
                                    "Actual Delivery Time": "44",
                                    "Estimated Delivery Time": "8"
                                },
                                {
                                    "created_at": "2015-02-14 20:34:00.0000000",
                                    "Actual Delivery Time": "66",
                                    "Estimated Delivery Time": "16"
                                },
                                {
                                    "created_at": "2015-02-14 20:34:00.0000000",
                                    "Actual Delivery Time": "32",
                                    "Estimated Delivery Time": "10"
                                },
                                {
                                    "created_at": "2015-02-14 20:34:00.0000000",
                                    "Actual Delivery Time": "84",
                                    "Estimated Delivery Time": "16"
                                },
                                {
                                    "created_at": "2015-02-14 20:34:00.0000000",
                                    "Actual Delivery Time": "31",
                                    "Estimated Delivery Time": "6"
                                },
                                {
                                    "created_at": "2015-02-14 20:36:00.0000000",
                                    "Actual Delivery Time": "44",
                                    "Estimated Delivery Time": "12"
                                },
                                {
                                    "created_at": "2015-02-14 20:36:00.0000000",
                                    "Actual Delivery Time": "93",
                                    "Estimated Delivery Time": "19"
                                },
                                {
                                    "created_at": "2015-02-14 20:37:00.0000000",
                                    "Actual Delivery Time": "24",
                                    "Estimated Delivery Time": "14"
                                },
                                {
                                    "created_at": "2015-02-14 20:38:00.0000000",
                                    "Actual Delivery Time": "47",
                                    "Estimated Delivery Time": "19"
                                },
                                {
                                    "created_at": "2015-02-14 20:38:00.0000000",
                                    "Actual Delivery Time": "36",
                                    "Estimated Delivery Time": "10"
                                },
                                {
                                    "created_at": "2015-02-14 20:38:00.0000000",
                                    "Actual Delivery Time": "42",
                                    "Estimated Delivery Time": "16"
                                },
                                {
                                    "created_at": "2015-02-14 20:39:00.0000000",
                                    "Actual Delivery Time": "50",
                                    "Estimated Delivery Time": "13"
                                },
                                {
                                    "created_at": "2015-02-14 20:39:00.0000000",
                                    "Actual Delivery Time": "38",
                                    "Estimated Delivery Time": "17"
                                },
                                {
                                    "created_at": "2015-02-14 20:40:00.0000000",
                                    "Actual Delivery Time": "66",
                                    "Estimated Delivery Time": "14"
                                },
                                {
                                    "created_at": "2015-02-14 20:41:00.0000000",
                                    "Actual Delivery Time": "22",
                                    "Estimated Delivery Time": "10"
                                },
                                {
                                    "created_at": "2015-02-14 20:41:00.0000000",
                                    "Actual Delivery Time": "38",
                                    "Estimated Delivery Time": "18"
                                },
                                {
                                    "created_at": "2015-02-14 20:41:00.0000000",
                                    "Actual Delivery Time": "58",
                                    "Estimated Delivery Time": "18"
                                },
                                {
                                    "created_at": "2015-02-14 20:42:00.0000000",
                                    "Actual Delivery Time": "32",
                                    "Estimated Delivery Time": "8"
                                },
                                {
                                    "created_at": "2015-02-14 20:43:00.0000000",
                                    "Actual Delivery Time": "46",
                                    "Estimated Delivery Time": "14"
                                },
                                {
                                    "created_at": "2015-02-14 20:43:00.0000000",
                                    "Actual Delivery Time": "58",
                                    "Estimated Delivery Time": "17"
                                },
                                {
                                    "created_at": "2015-02-14 20:43:00.0000000",
                                    "Actual Delivery Time": "79",
                                    "Estimated Delivery Time": "13"
                                },
                                {
                                    "created_at": "2015-02-14 20:43:00.0000000",
                                    "Actual Delivery Time": "48",
                                    "Estimated Delivery Time": "6"
                                },
                                {
                                    "created_at": "2015-02-14 20:44:00.0000000",
                                    "Actual Delivery Time": "35",
                                    "Estimated Delivery Time": "11"
                                },
                                {
                                    "created_at": "2015-02-14 20:44:00.0000000",
                                    "Actual Delivery Time": "43",
                                    "Estimated Delivery Time": "15"
                                },
                                {
                                    "created_at": "2015-02-14 20:44:00.0000000",
                                    "Actual Delivery Time": "67",
                                    "Estimated Delivery Time": "10"
                                },
                                {
                                    "created_at": "2015-02-14 20:44:00.0000000",
                                    "Actual Delivery Time": "47",
                                    "Estimated Delivery Time": "12"
                                },
                                {
                                    "created_at": "2015-02-14 20:44:00.0000000",
                                    "Actual Delivery Time": "108",
                                    "Estimated Delivery Time": "16"
                                },
                                {
                                    "created_at": "2015-02-14 20:45:00.0000000",
                                    "Actual Delivery Time": "55",
                                    "Estimated Delivery Time": "14"
                                },
                                {
                                    "created_at": "2015-02-14 20:46:00.0000000",
                                    "Actual Delivery Time": "29",
                                    "Estimated Delivery Time": "14"
                                },
                                {
                                    "created_at": "2015-02-14 20:46:00.0000000",
                                    "Actual Delivery Time": "95",
                                    "Estimated Delivery Time": "18"
                                },
                                {
                                    "created_at": "2015-02-14 20:46:00.0000000",
                                    "Actual Delivery Time": "60",
                                    "Estimated Delivery Time": "13"
                                },
                                {
                                    "created_at": "2015-02-14 20:46:00.0000000",
                                    "Actual Delivery Time": "60",
                                    "Estimated Delivery Time": "8"
                                },
                                {
                                    "created_at": "2015-02-14 20:47:00.0000000",
                                    "Actual Delivery Time": "49",
                                    "Estimated Delivery Time": "13"
                                },
                                {
                                    "created_at": "2015-02-14 20:48:00.0000000",
                                    "Actual Delivery Time": "100",
                                    "Estimated Delivery Time": "19"
                                },
                                {
                                    "created_at": "2015-02-14 20:49:00.0000000",
                                    "Actual Delivery Time": "53",
                                    "Estimated Delivery Time": "17"
                                },
                                {
                                    "created_at": "2015-02-14 20:49:00.0000000",
                                    "Actual Delivery Time": "52",
                                    "Estimated Delivery Time": "14"
                                },
                                {
                                    "created_at": "2015-02-14 20:49:00.0000000",
                                    "Actual Delivery Time": "54",
                                    "Estimated Delivery Time": "11"
                                },
                                {
                                    "created_at": "2015-02-14 20:51:00.0000000",
                                    "Actual Delivery Time": "53",
                                    "Estimated Delivery Time": "17"
                                },
                                {
                                    "created_at": "2015-02-14 20:52:00.0000000",
                                    "Actual Delivery Time": "46",
                                    "Estimated Delivery Time": "16"
                                },
                                {
                                    "created_at": "2015-02-14 20:53:00.0000000",
                                    "Actual Delivery Time": "44",
                                    "Estimated Delivery Time": "12"
                                },
                                {
                                    "created_at": "2015-02-14 20:53:00.0000000",
                                    "Actual Delivery Time": "48",
                                    "Estimated Delivery Time": "11"
                                },
                                {
                                    "created_at": "2015-02-14 20:55:00.0000000",
                                    "Actual Delivery Time": "39",
                                    "Estimated Delivery Time": "13"
                                },
                                {
                                    "created_at": "2015-02-14 20:55:00.0000000",
                                    "Actual Delivery Time": "78",
                                    "Estimated Delivery Time": "19"
                                },
                                {
                                    "created_at": "2015-02-14 20:55:00.0000000",
                                    "Actual Delivery Time": "50",
                                    "Estimated Delivery Time": "14"
                                },
                                {
                                    "created_at": "2015-02-14 20:57:00.0000000",
                                    "Actual Delivery Time": "18",
                                    "Estimated Delivery Time": "5"
                                },
                                {
                                    "created_at": "2015-02-14 20:57:00.0000000",
                                    "Actual Delivery Time": "48",
                                    "Estimated Delivery Time": "17"
                                },
                                {
                                    "created_at": "2015-02-14 20:57:00.0000000",
                                    "Actual Delivery Time": "29",
                                    "Estimated Delivery Time": "6"
                                },
                                {
                                    "created_at": "2015-02-14 20:58:00.0000000",
                                    "Actual Delivery Time": "99",
                                    "Estimated Delivery Time": "6"
                                }
                            ]
                        },
                        "text/html": "<table><tr><th>created_at</th><th>Actual Delivery Time</th><th>Estimated Delivery Time</th></tr><tr><td>2015-02-10 20:00:00.0000000</td><td>57</td><td>15</td></tr><tr><td>2015-02-10 20:00:00.0000000</td><td>24</td><td>16</td></tr><tr><td>2015-02-10 20:01:00.0000000</td><td>38</td><td>12</td></tr><tr><td>2015-02-10 20:01:00.0000000</td><td>23</td><td>9</td></tr><tr><td>2015-02-10 20:02:00.0000000</td><td>63</td><td>10</td></tr><tr><td>2015-02-10 20:03:00.0000000</td><td>77</td><td>18</td></tr><tr><td>2015-02-10 20:03:00.0000000</td><td>62</td><td>20</td></tr><tr><td>2015-02-10 20:03:00.0000000</td><td>36</td><td>15</td></tr><tr><td>2015-02-10 20:06:00.0000000</td><td>52</td><td>15</td></tr><tr><td>2015-02-10 20:07:00.0000000</td><td>60</td><td>16</td></tr><tr><td>2015-02-10 20:08:00.0000000</td><td>59</td><td>14</td></tr><tr><td>2015-02-10 20:09:00.0000000</td><td>29</td><td>13</td></tr><tr><td>2015-02-10 20:09:00.0000000</td><td>49</td><td>17</td></tr><tr><td>2015-02-10 20:10:00.0000000</td><td>80</td><td>17</td></tr><tr><td>2015-02-10 20:10:00.0000000</td><td>67</td><td>20</td></tr><tr><td>2015-02-10 20:10:00.0000000</td><td>39</td><td>19</td></tr><tr><td>2015-02-10 20:10:00.0000000</td><td>67</td><td>18</td></tr><tr><td>2015-02-10 20:11:00.0000000</td><td>23</td><td>14</td></tr><tr><td>2015-02-10 20:11:00.0000000</td><td>54</td><td>8</td></tr><tr><td>2015-02-10 20:12:00.0000000</td><td>94</td><td>16</td></tr><tr><td>2015-02-10 20:13:00.0000000</td><td>109</td><td>19</td></tr><tr><td>2015-02-10 20:13:00.0000000</td><td>71</td><td>7</td></tr><tr><td>2015-02-10 20:14:00.0000000</td><td>42</td><td>11</td></tr><tr><td>2015-02-10 20:15:00.0000000</td><td>35</td><td>13</td></tr><tr><td>2015-02-10 20:15:00.0000000</td><td>68</td><td>19</td></tr><tr><td>2015-02-10 20:16:00.0000000</td><td>74</td><td>17</td></tr><tr><td>2015-02-10 20:16:00.0000000</td><td>23</td><td>10</td></tr><tr><td>2015-02-10 20:17:00.0000000</td><td>46</td><td>12</td></tr><tr><td>2015-02-10 20:19:00.0000000</td><td>19</td><td>7</td></tr><tr><td>2015-02-10 20:19:00.0000000</td><td>44</td><td>5</td></tr><tr><td>2015-02-10 20:19:00.0000000</td><td>30</td><td>9</td></tr><tr><td>2015-02-10 20:21:00.0000000</td><td>70</td><td>19</td></tr><tr><td>2015-02-10 20:22:00.0000000</td><td>26</td><td>20</td></tr><tr><td>2015-02-10 20:23:00.0000000</td><td>51</td><td>16</td></tr><tr><td>2015-02-10 20:23:00.0000000</td><td>23</td><td>15</td></tr><tr><td>2015-02-10 20:24:00.0000000</td><td>63</td><td>20</td></tr><tr><td>2015-02-10 20:25:00.0000000</td><td>20</td><td>9</td></tr><tr><td>2015-02-10 20:25:00.0000000</td><td>21</td><td>10</td></tr><tr><td>2015-02-10 20:25:00.0000000</td><td>52</td><td>19</td></tr><tr><td>2015-02-10 20:27:00.0000000</td><td>40</td><td>12</td></tr><tr><td>2015-02-10 20:27:00.0000000</td><td>40</td><td>13</td></tr><tr><td>2015-02-10 20:28:00.0000000</td><td>28</td><td>17</td></tr><tr><td>2015-02-10 20:28:00.0000000</td><td>66</td><td>24</td></tr><tr><td>2015-02-10 20:29:00.0000000</td><td>44</td><td>15</td></tr><tr><td>2015-02-10 20:30:00.0000000</td><td>85</td><td>15</td></tr><tr><td>2015-02-10 20:30:00.0000000</td><td>35</td><td>11</td></tr><tr><td>2015-02-10 20:30:00.0000000</td><td>95</td><td>22</td></tr><tr><td>2015-02-10 20:31:00.0000000</td><td>39</td><td>18</td></tr><tr><td>2015-02-10 20:31:00.0000000</td><td>18</td><td>5</td></tr><tr><td>2015-02-10 20:34:00.0000000</td><td>19</td><td>9</td></tr><tr><td>2015-02-10 20:36:00.0000000</td><td>26</td><td>16</td></tr><tr><td>2015-02-10 20:36:00.0000000</td><td>40</td><td>8</td></tr><tr><td>2015-02-10 20:37:00.0000000</td><td>56</td><td>15</td></tr><tr><td>2015-02-10 20:38:00.0000000</td><td>30</td><td>15</td></tr><tr><td>2015-02-10 20:38:00.0000000</td><td>51</td><td>10</td></tr><tr><td>2015-02-10 20:38:00.0000000</td><td>44</td><td>9</td></tr><tr><td>2015-02-10 20:38:00.0000000</td><td>40</td><td>18</td></tr><tr><td>2015-02-10 20:38:00.0000000</td><td>45</td><td>10</td></tr><tr><td>2015-02-10 20:38:00.0000000</td><td>25</td><td>8</td></tr><tr><td>2015-02-10 20:38:00.0000000</td><td>51</td><td>13</td></tr><tr><td>2015-02-10 20:38:00.0000000</td><td>38</td><td>14</td></tr><tr><td>2015-02-10 20:39:00.0000000</td><td>18</td><td>7</td></tr><tr><td>2015-02-10 20:39:00.0000000</td><td>31</td><td>11</td></tr><tr><td>2015-02-10 20:39:00.0000000</td><td>81</td><td>8</td></tr><tr><td>2015-02-10 20:40:00.0000000</td><td>50</td><td>14</td></tr><tr><td>2015-02-10 20:40:00.0000000</td><td>45</td><td>22</td></tr><tr><td>2015-02-10 20:42:00.0000000</td><td>32</td><td>17</td></tr><tr><td>2015-02-10 20:42:00.0000000</td><td>47</td><td>18</td></tr><tr><td>2015-02-10 20:43:00.0000000</td><td>36</td><td>13</td></tr><tr><td>2015-02-10 20:45:00.0000000</td><td>74</td><td>17</td></tr><tr><td>2015-02-10 20:45:00.0000000</td><td>47</td><td>17</td></tr><tr><td>2015-02-10 20:46:00.0000000</td><td>20</td><td>13</td></tr><tr><td>2015-02-10 20:46:00.0000000</td><td>47</td><td>12</td></tr><tr><td>2015-02-10 20:47:00.0000000</td><td>37</td><td>10</td></tr><tr><td>2015-02-10 20:48:00.0000000</td><td>38</td><td>13</td></tr><tr><td>2015-02-10 20:48:00.0000000</td><td>40</td><td>12</td></tr><tr><td>2015-02-10 20:48:00.0000000</td><td>30</td><td>10</td></tr><tr><td>2015-02-10 20:48:00.0000000</td><td>43</td><td>14</td></tr><tr><td>2015-02-10 20:50:00.0000000</td><td>61</td><td>14</td></tr><tr><td>2015-02-10 20:51:00.0000000</td><td>60</td><td>11</td></tr><tr><td>2015-02-10 20:51:00.0000000</td><td>48</td><td>18</td></tr><tr><td>2015-02-10 20:51:00.0000000</td><td>60</td><td>16</td></tr><tr><td>2015-02-10 20:51:00.0000000</td><td>45</td><td>11</td></tr><tr><td>2015-02-10 20:52:00.0000000</td><td>54</td><td>17</td></tr><tr><td>2015-02-10 20:52:00.0000000</td><td>54</td><td>16</td></tr><tr><td>2015-02-10 20:53:00.0000000</td><td>33</td><td>12</td></tr><tr><td>2015-02-10 20:54:00.0000000</td><td>44</td><td>9</td></tr><tr><td>2015-02-10 20:54:00.0000000</td><td>33</td><td>17</td></tr><tr><td>2015-02-10 20:55:00.0000000</td><td>44</td><td>16</td></tr><tr><td>2015-02-10 20:56:00.0000000</td><td>43</td><td>16</td></tr><tr><td>2015-02-10 20:58:00.0000000</td><td>52</td><td>20</td></tr><tr><td>2015-02-10 20:59:00.0000000</td><td>37</td><td>17</td></tr><tr><td>2015-02-14 20:00:00.0000000</td><td>51</td><td>14</td></tr><tr><td>2015-02-14 20:00:00.0000000</td><td>42</td><td>16</td></tr><tr><td>2015-02-14 20:00:00.0000000</td><td>38</td><td>10</td></tr><tr><td>2015-02-14 20:00:00.0000000</td><td>70</td><td>15</td></tr><tr><td>2015-02-14 20:00:00.0000000</td><td>47</td><td>12</td></tr><tr><td>2015-02-14 20:01:00.0000000</td><td>33</td><td>13</td></tr><tr><td>2015-02-14 20:03:00.0000000</td><td>45</td><td>19</td></tr><tr><td>2015-02-14 20:03:00.0000000</td><td>62</td><td>20</td></tr><tr><td>2015-02-14 20:03:00.0000000</td><td>34</td><td>9</td></tr><tr><td>2015-02-14 20:03:00.0000000</td><td>33</td><td>11</td></tr><tr><td>2015-02-14 20:03:00.0000000</td><td>33</td><td>11</td></tr><tr><td>2015-02-14 20:03:00.0000000</td><td>73</td><td>12</td></tr><tr><td>2015-02-14 20:04:00.0000000</td><td>20</td><td>9</td></tr><tr><td>2015-02-14 20:04:00.0000000</td><td>52</td><td>10</td></tr><tr><td>2015-02-14 20:05:00.0000000</td><td>48</td><td>7</td></tr><tr><td>2015-02-14 20:06:00.0000000</td><td>43</td><td>11</td></tr><tr><td>2015-02-14 20:07:00.0000000</td><td>40</td><td>7</td></tr><tr><td>2015-02-14 20:07:00.0000000</td><td>71</td><td>11</td></tr><tr><td>2015-02-14 20:07:00.0000000</td><td>69</td><td>17</td></tr><tr><td>2015-02-14 20:08:00.0000000</td><td>60</td><td>13</td></tr><tr><td>2015-02-14 20:09:00.0000000</td><td>49</td><td>12</td></tr><tr><td>2015-02-14 20:09:00.0000000</td><td>70</td><td>14</td></tr><tr><td>2015-02-14 20:09:00.0000000</td><td>43</td><td>16</td></tr><tr><td>2015-02-14 20:10:00.0000000</td><td>39</td><td>6</td></tr><tr><td>2015-02-14 20:11:00.0000000</td><td>41</td><td>14</td></tr><tr><td>2015-02-14 20:11:00.0000000</td><td>51</td><td>19</td></tr><tr><td>2015-02-14 20:12:00.0000000</td><td>58</td><td>15</td></tr><tr><td>2015-02-14 20:12:00.0000000</td><td>62</td><td>23</td></tr><tr><td>2015-02-14 20:12:00.0000000</td><td>34</td><td>11</td></tr><tr><td>2015-02-14 20:12:00.0000000</td><td>44</td><td>12</td></tr><tr><td>2015-02-14 20:12:00.0000000</td><td>72</td><td>16</td></tr><tr><td>2015-02-14 20:13:00.0000000</td><td>42</td><td>18</td></tr><tr><td>2015-02-14 20:13:00.0000000</td><td>47</td><td>17</td></tr><tr><td>2015-02-14 20:14:00.0000000</td><td>85</td><td>12</td></tr><tr><td>2015-02-14 20:16:00.0000000</td><td>88</td><td>15</td></tr><tr><td>2015-02-14 20:18:00.0000000</td><td>52</td><td>9</td></tr><tr><td>2015-02-14 20:18:00.0000000</td><td>41</td><td>16</td></tr><tr><td>2015-02-14 20:18:00.0000000</td><td>41</td><td>15</td></tr><tr><td>2015-02-14 20:20:00.0000000</td><td>81</td><td>14</td></tr><tr><td>2015-02-14 20:22:00.0000000</td><td>31</td><td>5</td></tr><tr><td>2015-02-14 20:22:00.0000000</td><td>76</td><td>11</td></tr><tr><td>2015-02-14 20:23:00.0000000</td><td>40</td><td>14</td></tr><tr><td>2015-02-14 20:23:00.0000000</td><td>63</td><td>27</td></tr><tr><td>2015-02-14 20:23:00.0000000</td><td>56</td><td>11</td></tr><tr><td>2015-02-14 20:23:00.0000000</td><td>54</td><td>18</td></tr><tr><td>2015-02-14 20:25:00.0000000</td><td>47</td><td>10</td></tr><tr><td>2015-02-14 20:25:00.0000000</td><td>46</td><td>5</td></tr><tr><td>2015-02-14 20:25:00.0000000</td><td>45</td><td>17</td></tr><tr><td>2015-02-14 20:25:00.0000000</td><td>34</td><td>10</td></tr><tr><td>2015-02-14 20:25:00.0000000</td><td>37</td><td>9</td></tr><tr><td>2015-02-14 20:26:00.0000000</td><td>63</td><td>14</td></tr><tr><td>2015-02-14 20:27:00.0000000</td><td>51</td><td>17</td></tr><tr><td>2015-02-14 20:28:00.0000000</td><td>40</td><td>11</td></tr><tr><td>2015-02-14 20:29:00.0000000</td><td>36</td><td>8</td></tr><tr><td>2015-02-14 20:31:00.0000000</td><td>21</td><td>10</td></tr><tr><td>2015-02-14 20:31:00.0000000</td><td>86</td><td>7</td></tr><tr><td>2015-02-14 20:31:00.0000000</td><td>118</td><td>16</td></tr><tr><td>2015-02-14 20:34:00.0000000</td><td>44</td><td>8</td></tr><tr><td>2015-02-14 20:34:00.0000000</td><td>66</td><td>16</td></tr><tr><td>2015-02-14 20:34:00.0000000</td><td>32</td><td>10</td></tr><tr><td>2015-02-14 20:34:00.0000000</td><td>84</td><td>16</td></tr><tr><td>2015-02-14 20:34:00.0000000</td><td>31</td><td>6</td></tr><tr><td>2015-02-14 20:36:00.0000000</td><td>44</td><td>12</td></tr><tr><td>2015-02-14 20:36:00.0000000</td><td>93</td><td>19</td></tr><tr><td>2015-02-14 20:37:00.0000000</td><td>24</td><td>14</td></tr><tr><td>2015-02-14 20:38:00.0000000</td><td>47</td><td>19</td></tr><tr><td>2015-02-14 20:38:00.0000000</td><td>36</td><td>10</td></tr><tr><td>2015-02-14 20:38:00.0000000</td><td>42</td><td>16</td></tr><tr><td>2015-02-14 20:39:00.0000000</td><td>50</td><td>13</td></tr><tr><td>2015-02-14 20:39:00.0000000</td><td>38</td><td>17</td></tr><tr><td>2015-02-14 20:40:00.0000000</td><td>66</td><td>14</td></tr><tr><td>2015-02-14 20:41:00.0000000</td><td>22</td><td>10</td></tr><tr><td>2015-02-14 20:41:00.0000000</td><td>38</td><td>18</td></tr><tr><td>2015-02-14 20:41:00.0000000</td><td>58</td><td>18</td></tr><tr><td>2015-02-14 20:42:00.0000000</td><td>32</td><td>8</td></tr><tr><td>2015-02-14 20:43:00.0000000</td><td>46</td><td>14</td></tr><tr><td>2015-02-14 20:43:00.0000000</td><td>58</td><td>17</td></tr><tr><td>2015-02-14 20:43:00.0000000</td><td>79</td><td>13</td></tr><tr><td>2015-02-14 20:43:00.0000000</td><td>48</td><td>6</td></tr><tr><td>2015-02-14 20:44:00.0000000</td><td>35</td><td>11</td></tr><tr><td>2015-02-14 20:44:00.0000000</td><td>43</td><td>15</td></tr><tr><td>2015-02-14 20:44:00.0000000</td><td>67</td><td>10</td></tr><tr><td>2015-02-14 20:44:00.0000000</td><td>47</td><td>12</td></tr><tr><td>2015-02-14 20:44:00.0000000</td><td>108</td><td>16</td></tr><tr><td>2015-02-14 20:45:00.0000000</td><td>55</td><td>14</td></tr><tr><td>2015-02-14 20:46:00.0000000</td><td>29</td><td>14</td></tr><tr><td>2015-02-14 20:46:00.0000000</td><td>95</td><td>18</td></tr><tr><td>2015-02-14 20:46:00.0000000</td><td>60</td><td>13</td></tr><tr><td>2015-02-14 20:46:00.0000000</td><td>60</td><td>8</td></tr><tr><td>2015-02-14 20:47:00.0000000</td><td>49</td><td>13</td></tr><tr><td>2015-02-14 20:48:00.0000000</td><td>100</td><td>19</td></tr><tr><td>2015-02-14 20:49:00.0000000</td><td>53</td><td>17</td></tr><tr><td>2015-02-14 20:49:00.0000000</td><td>52</td><td>14</td></tr><tr><td>2015-02-14 20:49:00.0000000</td><td>54</td><td>11</td></tr><tr><td>2015-02-14 20:51:00.0000000</td><td>53</td><td>17</td></tr><tr><td>2015-02-14 20:52:00.0000000</td><td>46</td><td>16</td></tr><tr><td>2015-02-14 20:53:00.0000000</td><td>44</td><td>12</td></tr><tr><td>2015-02-14 20:53:00.0000000</td><td>48</td><td>11</td></tr><tr><td>2015-02-14 20:55:00.0000000</td><td>39</td><td>13</td></tr><tr><td>2015-02-14 20:55:00.0000000</td><td>78</td><td>19</td></tr><tr><td>2015-02-14 20:55:00.0000000</td><td>50</td><td>14</td></tr><tr><td>2015-02-14 20:57:00.0000000</td><td>18</td><td>5</td></tr><tr><td>2015-02-14 20:57:00.0000000</td><td>48</td><td>17</td></tr><tr><td>2015-02-14 20:57:00.0000000</td><td>29</td><td>6</td></tr><tr><td>2015-02-14 20:58:00.0000000</td><td>99</td><td>6</td></tr></table>"
                    },
                    "metadata": {
                        "azdata_chartOptions": {
                            "type": "line",
                            "dataDirection": "vertical",
                            "columnsAsLabels": true,
                            "labelFirstColumn": false,
                            "legendPosition": "top",
                            "dataType": "number"
                        }
                    }
                }
            ],
            "execution_count": 98
        },
        {
            "cell_type": "markdown",
            "source": [
                "# <mark>4 - Are There More Free Dashers Available on a Regular Day versus A Holiday?</mark>\n",
                "\n",
                "For the same dates and times (Feb 10 and Feb 14 at the hour of between 8:00 and 8:59 pm) as the previous visualization showing Estimated Delivery Time VS Actual Delivery Time, the following visualization will show us how many dashers are busy vs not busy on those same dates.  \n",
                "  \n",
                "As we can tell from the following visualization, there were a lot more available Dashers on February 10th than on February 14th. Almost all Dashers were busy with orders on the 14th at the hour of between 8:00 and 8:59 pm."
            ],
            "metadata": {
                "language": "sql",
                "azdata_cell_guid": "ffaea837-607e-4ba8-b6b0-f6c9b2385559"
            },
            "attachments": {}
        },
        {
            "cell_type": "code",
            "source": [
                "USE [Sample];\r\n",
                "\r\n",
                "SELECT [dd].[created_at],\r\n",
                "    [dd].[total_busy_dashers], \r\n",
                "    [dd].[total_onshift_dashers]\r\n",
                "FROM [dbo].[dd_eta] AS [dd]\r\n",
                "WHERE DATEPART(MONTH,[dd].[created_at]) = 2\r\n",
                "    AND DATEPART(DAY,[dd].[created_at]) IN (10,14)\r\n",
                "    AND DATEPART(HOUR,[dd].[created_at]) = 20\r\n",
                "ORDER BY [dd].[created_at] ASC;"
            ],
            "metadata": {
                "language": "sql",
                "azdata_cell_guid": "df1c1b68-4915-4b2f-a25e-b897259b4aec"
            },
            "outputs": [
                {
                    "output_type": "display_data",
                    "data": {
                        "text/html": "(197 rows affected)"
                    },
                    "metadata": {}
                },
                {
                    "output_type": "display_data",
                    "data": {
                        "text/html": "Total execution time: 00:00:00.071"
                    },
                    "metadata": {}
                },
                {
                    "output_type": "execute_result",
                    "execution_count": 99,
                    "data": {
                        "application/vnd.dataresource+json": {
                            "schema": {
                                "fields": [
                                    {
                                        "name": "created_at"
                                    },
                                    {
                                        "name": "total_busy_dashers"
                                    },
                                    {
                                        "name": "total_onshift_dashers"
                                    }
                                ]
                            },
                            "data": [
                                {
                                    "created_at": "2015-02-10 20:00:00.0000000",
                                    "total_busy_dashers": "22",
                                    "total_onshift_dashers": "23"
                                },
                                {
                                    "created_at": "2015-02-10 20:00:00.0000000",
                                    "total_busy_dashers": "5",
                                    "total_onshift_dashers": "7"
                                },
                                {
                                    "created_at": "2015-02-10 20:01:00.0000000",
                                    "total_busy_dashers": "4",
                                    "total_onshift_dashers": "5"
                                },
                                {
                                    "created_at": "2015-02-10 20:01:00.0000000",
                                    "total_busy_dashers": "27",
                                    "total_onshift_dashers": "28"
                                },
                                {
                                    "created_at": "2015-02-10 20:02:00.0000000",
                                    "total_busy_dashers": "12",
                                    "total_onshift_dashers": "10"
                                },
                                {
                                    "created_at": "2015-02-10 20:03:00.0000000",
                                    "total_busy_dashers": "12",
                                    "total_onshift_dashers": "12"
                                },
                                {
                                    "created_at": "2015-02-10 20:03:00.0000000",
                                    "total_busy_dashers": "12",
                                    "total_onshift_dashers": "12"
                                },
                                {
                                    "created_at": "2015-02-10 20:03:00.0000000",
                                    "total_busy_dashers": "27",
                                    "total_onshift_dashers": "28"
                                },
                                {
                                    "created_at": "2015-02-10 20:06:00.0000000",
                                    "total_busy_dashers": "24",
                                    "total_onshift_dashers": "23"
                                },
                                {
                                    "created_at": "2015-02-10 20:07:00.0000000",
                                    "total_busy_dashers": "24",
                                    "total_onshift_dashers": "23"
                                },
                                {
                                    "created_at": "2015-02-10 20:08:00.0000000",
                                    "total_busy_dashers": "27",
                                    "total_onshift_dashers": "33"
                                },
                                {
                                    "created_at": "2015-02-10 20:09:00.0000000",
                                    "total_busy_dashers": "21",
                                    "total_onshift_dashers": "21"
                                },
                                {
                                    "created_at": "2015-02-10 20:09:00.0000000",
                                    "total_busy_dashers": "21",
                                    "total_onshift_dashers": "21"
                                },
                                {
                                    "created_at": "2015-02-10 20:10:00.0000000",
                                    "total_busy_dashers": "14",
                                    "total_onshift_dashers": "13"
                                },
                                {
                                    "created_at": "2015-02-10 20:10:00.0000000",
                                    "total_busy_dashers": "0",
                                    "total_onshift_dashers": "0"
                                },
                                {
                                    "created_at": "2015-02-10 20:10:00.0000000",
                                    "total_busy_dashers": "0",
                                    "total_onshift_dashers": "0"
                                },
                                {
                                    "created_at": "2015-02-10 20:10:00.0000000",
                                    "total_busy_dashers": "14",
                                    "total_onshift_dashers": "13"
                                },
                                {
                                    "created_at": "2015-02-10 20:11:00.0000000",
                                    "total_busy_dashers": "5",
                                    "total_onshift_dashers": "7"
                                },
                                {
                                    "created_at": "2015-02-10 20:11:00.0000000",
                                    "total_busy_dashers": "23",
                                    "total_onshift_dashers": "23"
                                },
                                {
                                    "created_at": "2015-02-10 20:12:00.0000000",
                                    "total_busy_dashers": "6",
                                    "total_onshift_dashers": "6"
                                },
                                {
                                    "created_at": "2015-02-10 20:13:00.0000000",
                                    "total_busy_dashers": "14",
                                    "total_onshift_dashers": "13"
                                },
                                {
                                    "created_at": "2015-02-10 20:13:00.0000000",
                                    "total_busy_dashers": "29",
                                    "total_onshift_dashers": "30"
                                },
                                {
                                    "created_at": "2015-02-10 20:14:00.0000000",
                                    "total_busy_dashers": "23",
                                    "total_onshift_dashers": "17"
                                },
                                {
                                    "created_at": "2015-02-10 20:15:00.0000000",
                                    "total_busy_dashers": "27",
                                    "total_onshift_dashers": "29"
                                },
                                {
                                    "created_at": "2015-02-10 20:15:00.0000000",
                                    "total_busy_dashers": "6",
                                    "total_onshift_dashers": "6"
                                },
                                {
                                    "created_at": "2015-02-10 20:16:00.0000000",
                                    "total_busy_dashers": "14",
                                    "total_onshift_dashers": "13"
                                },
                                {
                                    "created_at": "2015-02-10 20:16:00.0000000",
                                    "total_busy_dashers": "23",
                                    "total_onshift_dashers": "22"
                                },
                                {
                                    "created_at": "2015-02-10 20:17:00.0000000",
                                    "total_busy_dashers": "36",
                                    "total_onshift_dashers": "33"
                                },
                                {
                                    "created_at": "2015-02-10 20:19:00.0000000",
                                    "total_busy_dashers": "19",
                                    "total_onshift_dashers": "21"
                                },
                                {
                                    "created_at": "2015-02-10 20:19:00.0000000",
                                    "total_busy_dashers": "19",
                                    "total_onshift_dashers": "21"
                                },
                                {
                                    "created_at": "2015-02-10 20:19:00.0000000",
                                    "total_busy_dashers": "5",
                                    "total_onshift_dashers": "7"
                                },
                                {
                                    "created_at": "2015-02-10 20:21:00.0000000",
                                    "total_busy_dashers": "29",
                                    "total_onshift_dashers": "33"
                                },
                                {
                                    "created_at": "2015-02-10 20:22:00.0000000",
                                    "total_busy_dashers": "27",
                                    "total_onshift_dashers": "31"
                                },
                                {
                                    "created_at": "2015-02-10 20:23:00.0000000",
                                    "total_busy_dashers": "14",
                                    "total_onshift_dashers": "13"
                                },
                                {
                                    "created_at": "2015-02-10 20:23:00.0000000",
                                    "total_busy_dashers": "27",
                                    "total_onshift_dashers": "31"
                                },
                                {
                                    "created_at": "2015-02-10 20:24:00.0000000",
                                    "total_busy_dashers": "7",
                                    "total_onshift_dashers": "6"
                                },
                                {
                                    "created_at": "2015-02-10 20:25:00.0000000",
                                    "total_busy_dashers": "27",
                                    "total_onshift_dashers": "32"
                                },
                                {
                                    "created_at": "2015-02-10 20:25:00.0000000",
                                    "total_busy_dashers": "21",
                                    "total_onshift_dashers": "24"
                                },
                                {
                                    "created_at": "2015-02-10 20:25:00.0000000",
                                    "total_busy_dashers": "28",
                                    "total_onshift_dashers": "36"
                                },
                                {
                                    "created_at": "2015-02-10 20:27:00.0000000",
                                    "total_busy_dashers": "21",
                                    "total_onshift_dashers": "24"
                                },
                                {
                                    "created_at": "2015-02-10 20:27:00.0000000",
                                    "total_busy_dashers": "24",
                                    "total_onshift_dashers": "24"
                                },
                                {
                                    "created_at": "2015-02-10 20:28:00.0000000",
                                    "total_busy_dashers": "27",
                                    "total_onshift_dashers": "32"
                                },
                                {
                                    "created_at": "2015-02-10 20:28:00.0000000",
                                    "total_busy_dashers": "33",
                                    "total_onshift_dashers": "35"
                                },
                                {
                                    "created_at": "2015-02-10 20:29:00.0000000",
                                    "total_busy_dashers": "21",
                                    "total_onshift_dashers": "24"
                                },
                                {
                                    "created_at": "2015-02-10 20:30:00.0000000",
                                    "total_busy_dashers": "15",
                                    "total_onshift_dashers": "14"
                                },
                                {
                                    "created_at": "2015-02-10 20:30:00.0000000",
                                    "total_busy_dashers": "20",
                                    "total_onshift_dashers": "22"
                                },
                                {
                                    "created_at": "2015-02-10 20:30:00.0000000",
                                    "total_busy_dashers": "7",
                                    "total_onshift_dashers": "6"
                                },
                                {
                                    "created_at": "2015-02-10 20:31:00.0000000",
                                    "total_busy_dashers": "32",
                                    "total_onshift_dashers": "31"
                                },
                                {
                                    "created_at": "2015-02-10 20:31:00.0000000",
                                    "total_busy_dashers": "20",
                                    "total_onshift_dashers": "22"
                                },
                                {
                                    "created_at": "2015-02-10 20:34:00.0000000",
                                    "total_busy_dashers": "24",
                                    "total_onshift_dashers": "23"
                                },
                                {
                                    "created_at": "2015-02-10 20:36:00.0000000",
                                    "total_busy_dashers": "30",
                                    "total_onshift_dashers": "29"
                                },
                                {
                                    "created_at": "2015-02-10 20:36:00.0000000",
                                    "total_busy_dashers": "10",
                                    "total_onshift_dashers": "11"
                                },
                                {
                                    "created_at": "2015-02-10 20:37:00.0000000",
                                    "total_busy_dashers": "24",
                                    "total_onshift_dashers": "25"
                                },
                                {
                                    "created_at": "2015-02-10 20:38:00.0000000",
                                    "total_busy_dashers": "30",
                                    "total_onshift_dashers": "29"
                                },
                                {
                                    "created_at": "2015-02-10 20:38:00.0000000",
                                    "total_busy_dashers": "15",
                                    "total_onshift_dashers": "14"
                                },
                                {
                                    "created_at": "2015-02-10 20:38:00.0000000",
                                    "total_busy_dashers": "15",
                                    "total_onshift_dashers": "14"
                                },
                                {
                                    "created_at": "2015-02-10 20:38:00.0000000",
                                    "total_busy_dashers": "30",
                                    "total_onshift_dashers": "29"
                                },
                                {
                                    "created_at": "2015-02-10 20:38:00.0000000",
                                    "total_busy_dashers": "24",
                                    "total_onshift_dashers": "25"
                                },
                                {
                                    "created_at": "2015-02-10 20:38:00.0000000",
                                    "total_busy_dashers": "15",
                                    "total_onshift_dashers": "14"
                                },
                                {
                                    "created_at": "2015-02-10 20:38:00.0000000",
                                    "total_busy_dashers": "18",
                                    "total_onshift_dashers": "22"
                                },
                                {
                                    "created_at": "2015-02-10 20:38:00.0000000",
                                    "total_busy_dashers": "18",
                                    "total_onshift_dashers": "22"
                                },
                                {
                                    "created_at": "2015-02-10 20:39:00.0000000",
                                    "total_busy_dashers": "30",
                                    "total_onshift_dashers": "29"
                                },
                                {
                                    "created_at": "2015-02-10 20:39:00.0000000",
                                    "total_busy_dashers": "48",
                                    "total_onshift_dashers": "61"
                                },
                                {
                                    "created_at": "2015-02-10 20:39:00.0000000",
                                    "total_busy_dashers": "24",
                                    "total_onshift_dashers": "25"
                                },
                                {
                                    "created_at": "2015-02-10 20:40:00.0000000",
                                    "total_busy_dashers": "7",
                                    "total_onshift_dashers": "7"
                                },
                                {
                                    "created_at": "2015-02-10 20:40:00.0000000",
                                    "total_busy_dashers": "30",
                                    "total_onshift_dashers": "29"
                                },
                                {
                                    "created_at": "2015-02-10 20:42:00.0000000",
                                    "total_busy_dashers": "3",
                                    "total_onshift_dashers": "5"
                                },
                                {
                                    "created_at": "2015-02-10 20:42:00.0000000",
                                    "total_busy_dashers": "14",
                                    "total_onshift_dashers": "14"
                                },
                                {
                                    "created_at": "2015-02-10 20:43:00.0000000",
                                    "total_busy_dashers": "28",
                                    "total_onshift_dashers": "30"
                                },
                                {
                                    "created_at": "2015-02-10 20:45:00.0000000",
                                    "total_busy_dashers": "14",
                                    "total_onshift_dashers": "13"
                                },
                                {
                                    "created_at": "2015-02-10 20:45:00.0000000",
                                    "total_busy_dashers": "22",
                                    "total_onshift_dashers": "23"
                                },
                                {
                                    "created_at": "2015-02-10 20:46:00.0000000",
                                    "total_busy_dashers": "28",
                                    "total_onshift_dashers": "32"
                                },
                                {
                                    "created_at": "2015-02-10 20:46:00.0000000",
                                    "total_busy_dashers": "14",
                                    "total_onshift_dashers": "13"
                                },
                                {
                                    "created_at": "2015-02-10 20:47:00.0000000",
                                    "total_busy_dashers": "22",
                                    "total_onshift_dashers": "23"
                                },
                                {
                                    "created_at": "2015-02-10 20:48:00.0000000",
                                    "total_busy_dashers": "7",
                                    "total_onshift_dashers": "7"
                                },
                                {
                                    "created_at": "2015-02-10 20:48:00.0000000",
                                    "total_busy_dashers": "22",
                                    "total_onshift_dashers": "23"
                                },
                                {
                                    "created_at": "2015-02-10 20:48:00.0000000",
                                    "total_busy_dashers": "19",
                                    "total_onshift_dashers": "19"
                                },
                                {
                                    "created_at": "2015-02-10 20:48:00.0000000",
                                    "total_busy_dashers": "22",
                                    "total_onshift_dashers": "23"
                                },
                                {
                                    "created_at": "2015-02-10 20:50:00.0000000",
                                    "total_busy_dashers": "17",
                                    "total_onshift_dashers": "19"
                                },
                                {
                                    "created_at": "2015-02-10 20:51:00.0000000",
                                    "total_busy_dashers": "3",
                                    "total_onshift_dashers": "4"
                                },
                                {
                                    "created_at": "2015-02-10 20:51:00.0000000",
                                    "total_busy_dashers": "26",
                                    "total_onshift_dashers": "32"
                                },
                                {
                                    "created_at": "2015-02-10 20:51:00.0000000",
                                    "total_busy_dashers": "24",
                                    "total_onshift_dashers": "24"
                                },
                                {
                                    "created_at": "2015-02-10 20:51:00.0000000",
                                    "total_busy_dashers": "24",
                                    "total_onshift_dashers": "24"
                                },
                                {
                                    "created_at": "2015-02-10 20:52:00.0000000",
                                    "total_busy_dashers": "24",
                                    "total_onshift_dashers": "24"
                                },
                                {
                                    "created_at": "2015-02-10 20:52:00.0000000",
                                    "total_busy_dashers": "24",
                                    "total_onshift_dashers": "24"
                                },
                                {
                                    "created_at": "2015-02-10 20:53:00.0000000",
                                    "total_busy_dashers": "26",
                                    "total_onshift_dashers": "32"
                                },
                                {
                                    "created_at": "2015-02-10 20:54:00.0000000",
                                    "total_busy_dashers": "26",
                                    "total_onshift_dashers": "32"
                                },
                                {
                                    "created_at": "2015-02-10 20:54:00.0000000",
                                    "total_busy_dashers": "24",
                                    "total_onshift_dashers": "24"
                                },
                                {
                                    "created_at": "2015-02-10 20:55:00.0000000",
                                    "total_busy_dashers": "24",
                                    "total_onshift_dashers": "25"
                                },
                                {
                                    "created_at": "2015-02-10 20:56:00.0000000",
                                    "total_busy_dashers": "0",
                                    "total_onshift_dashers": "0"
                                },
                                {
                                    "created_at": "2015-02-10 20:58:00.0000000",
                                    "total_busy_dashers": "24",
                                    "total_onshift_dashers": "25"
                                },
                                {
                                    "created_at": "2015-02-10 20:59:00.0000000",
                                    "total_busy_dashers": "18",
                                    "total_onshift_dashers": "20"
                                },
                                {
                                    "created_at": "2015-02-14 20:00:00.0000000",
                                    "total_busy_dashers": "11",
                                    "total_onshift_dashers": "11"
                                },
                                {
                                    "created_at": "2015-02-14 20:00:00.0000000",
                                    "total_busy_dashers": "6",
                                    "total_onshift_dashers": "6"
                                },
                                {
                                    "created_at": "2015-02-14 20:00:00.0000000",
                                    "total_busy_dashers": "20",
                                    "total_onshift_dashers": "20"
                                },
                                {
                                    "created_at": "2015-02-14 20:00:00.0000000",
                                    "total_busy_dashers": "8",
                                    "total_onshift_dashers": "9"
                                },
                                {
                                    "created_at": "2015-02-14 20:00:00.0000000",
                                    "total_busy_dashers": "20",
                                    "total_onshift_dashers": "20"
                                },
                                {
                                    "created_at": "2015-02-14 20:01:00.0000000",
                                    "total_busy_dashers": "10",
                                    "total_onshift_dashers": "16"
                                },
                                {
                                    "created_at": "2015-02-14 20:03:00.0000000",
                                    "total_busy_dashers": "20",
                                    "total_onshift_dashers": "20"
                                },
                                {
                                    "created_at": "2015-02-14 20:03:00.0000000",
                                    "total_busy_dashers": "4",
                                    "total_onshift_dashers": "4"
                                },
                                {
                                    "created_at": "2015-02-14 20:03:00.0000000",
                                    "total_busy_dashers": "17",
                                    "total_onshift_dashers": "17"
                                },
                                {
                                    "created_at": "2015-02-14 20:03:00.0000000",
                                    "total_busy_dashers": "20",
                                    "total_onshift_dashers": "20"
                                },
                                {
                                    "created_at": "2015-02-14 20:03:00.0000000",
                                    "total_busy_dashers": "20",
                                    "total_onshift_dashers": "20"
                                },
                                {
                                    "created_at": "2015-02-14 20:03:00.0000000",
                                    "total_busy_dashers": "17",
                                    "total_onshift_dashers": "17"
                                },
                                {
                                    "created_at": "2015-02-14 20:04:00.0000000",
                                    "total_busy_dashers": "8",
                                    "total_onshift_dashers": "9"
                                },
                                {
                                    "created_at": "2015-02-14 20:04:00.0000000",
                                    "total_busy_dashers": "20",
                                    "total_onshift_dashers": "20"
                                },
                                {
                                    "created_at": "2015-02-14 20:05:00.0000000",
                                    "total_busy_dashers": "20",
                                    "total_onshift_dashers": "20"
                                },
                                {
                                    "created_at": "2015-02-14 20:06:00.0000000",
                                    "total_busy_dashers": "20",
                                    "total_onshift_dashers": "20"
                                },
                                {
                                    "created_at": "2015-02-14 20:07:00.0000000",
                                    "total_busy_dashers": "20",
                                    "total_onshift_dashers": "20"
                                },
                                {
                                    "created_at": "2015-02-14 20:07:00.0000000",
                                    "total_busy_dashers": "12",
                                    "total_onshift_dashers": "12"
                                },
                                {
                                    "created_at": "2015-02-14 20:07:00.0000000",
                                    "total_busy_dashers": "16",
                                    "total_onshift_dashers": "17"
                                },
                                {
                                    "created_at": "2015-02-14 20:08:00.0000000",
                                    "total_busy_dashers": "20",
                                    "total_onshift_dashers": "20"
                                },
                                {
                                    "created_at": "2015-02-14 20:09:00.0000000",
                                    "total_busy_dashers": "16",
                                    "total_onshift_dashers": "17"
                                },
                                {
                                    "created_at": "2015-02-14 20:09:00.0000000",
                                    "total_busy_dashers": "6",
                                    "total_onshift_dashers": "7"
                                },
                                {
                                    "created_at": "2015-02-14 20:09:00.0000000",
                                    "total_busy_dashers": "6",
                                    "total_onshift_dashers": "7"
                                },
                                {
                                    "created_at": "2015-02-14 20:10:00.0000000",
                                    "total_busy_dashers": "24",
                                    "total_onshift_dashers": "24"
                                },
                                {
                                    "created_at": "2015-02-14 20:11:00.0000000",
                                    "total_busy_dashers": "24",
                                    "total_onshift_dashers": "24"
                                },
                                {
                                    "created_at": "2015-02-14 20:11:00.0000000",
                                    "total_busy_dashers": "17",
                                    "total_onshift_dashers": "17"
                                },
                                {
                                    "created_at": "2015-02-14 20:12:00.0000000",
                                    "total_busy_dashers": "13",
                                    "total_onshift_dashers": "13"
                                },
                                {
                                    "created_at": "2015-02-14 20:12:00.0000000",
                                    "total_busy_dashers": "8",
                                    "total_onshift_dashers": "8"
                                },
                                {
                                    "created_at": "2015-02-14 20:12:00.0000000",
                                    "total_busy_dashers": "17",
                                    "total_onshift_dashers": "17"
                                },
                                {
                                    "created_at": "2015-02-14 20:12:00.0000000",
                                    "total_busy_dashers": "24",
                                    "total_onshift_dashers": "24"
                                },
                                {
                                    "created_at": "2015-02-14 20:12:00.0000000",
                                    "total_busy_dashers": "17",
                                    "total_onshift_dashers": "17"
                                },
                                {
                                    "created_at": "2015-02-14 20:13:00.0000000",
                                    "total_busy_dashers": "24",
                                    "total_onshift_dashers": "24"
                                },
                                {
                                    "created_at": "2015-02-14 20:13:00.0000000",
                                    "total_busy_dashers": "24",
                                    "total_onshift_dashers": "24"
                                },
                                {
                                    "created_at": "2015-02-14 20:14:00.0000000",
                                    "total_busy_dashers": "17",
                                    "total_onshift_dashers": "17"
                                },
                                {
                                    "created_at": "2015-02-14 20:16:00.0000000",
                                    "total_busy_dashers": "18",
                                    "total_onshift_dashers": "18"
                                },
                                {
                                    "created_at": "2015-02-14 20:18:00.0000000",
                                    "total_busy_dashers": "18",
                                    "total_onshift_dashers": "18"
                                },
                                {
                                    "created_at": "2015-02-14 20:18:00.0000000",
                                    "total_busy_dashers": "24",
                                    "total_onshift_dashers": "24"
                                },
                                {
                                    "created_at": "2015-02-14 20:18:00.0000000",
                                    "total_busy_dashers": "66",
                                    "total_onshift_dashers": "70"
                                },
                                {
                                    "created_at": "2015-02-14 20:20:00.0000000",
                                    "total_busy_dashers": "24",
                                    "total_onshift_dashers": "24"
                                },
                                {
                                    "created_at": "2015-02-14 20:22:00.0000000",
                                    "total_busy_dashers": "24",
                                    "total_onshift_dashers": "24"
                                },
                                {
                                    "created_at": "2015-02-14 20:22:00.0000000",
                                    "total_busy_dashers": "14",
                                    "total_onshift_dashers": "15"
                                },
                                {
                                    "created_at": "2015-02-14 20:23:00.0000000",
                                    "total_busy_dashers": "0",
                                    "total_onshift_dashers": "0"
                                },
                                {
                                    "created_at": "2015-02-14 20:23:00.0000000",
                                    "total_busy_dashers": "12",
                                    "total_onshift_dashers": "12"
                                },
                                {
                                    "created_at": "2015-02-14 20:23:00.0000000",
                                    "total_busy_dashers": "14",
                                    "total_onshift_dashers": "14"
                                },
                                {
                                    "created_at": "2015-02-14 20:23:00.0000000",
                                    "total_busy_dashers": "24",
                                    "total_onshift_dashers": "24"
                                },
                                {
                                    "created_at": "2015-02-14 20:25:00.0000000",
                                    "total_busy_dashers": "15",
                                    "total_onshift_dashers": "15"
                                },
                                {
                                    "created_at": "2015-02-14 20:25:00.0000000",
                                    "total_busy_dashers": "2",
                                    "total_onshift_dashers": "2"
                                },
                                {
                                    "created_at": "2015-02-14 20:25:00.0000000",
                                    "total_busy_dashers": "19",
                                    "total_onshift_dashers": "19"
                                },
                                {
                                    "created_at": "2015-02-14 20:25:00.0000000",
                                    "total_busy_dashers": "2",
                                    "total_onshift_dashers": "3"
                                },
                                {
                                    "created_at": "2015-02-14 20:25:00.0000000",
                                    "total_busy_dashers": "6",
                                    "total_onshift_dashers": "6"
                                },
                                {
                                    "created_at": "2015-02-14 20:26:00.0000000",
                                    "total_busy_dashers": "2",
                                    "total_onshift_dashers": "2"
                                },
                                {
                                    "created_at": "2015-02-14 20:27:00.0000000",
                                    "total_busy_dashers": "3",
                                    "total_onshift_dashers": "4"
                                },
                                {
                                    "created_at": "2015-02-14 20:28:00.0000000",
                                    "total_busy_dashers": "11",
                                    "total_onshift_dashers": "16"
                                },
                                {
                                    "created_at": "2015-02-14 20:29:00.0000000",
                                    "total_busy_dashers": "25",
                                    "total_onshift_dashers": "25"
                                },
                                {
                                    "created_at": "2015-02-14 20:31:00.0000000",
                                    "total_busy_dashers": "27",
                                    "total_onshift_dashers": "27"
                                },
                                {
                                    "created_at": "2015-02-14 20:31:00.0000000",
                                    "total_busy_dashers": "13",
                                    "total_onshift_dashers": "14"
                                },
                                {
                                    "created_at": "2015-02-14 20:31:00.0000000",
                                    "total_busy_dashers": "18",
                                    "total_onshift_dashers": "19"
                                },
                                {
                                    "created_at": "2015-02-14 20:34:00.0000000",
                                    "total_busy_dashers": "27",
                                    "total_onshift_dashers": "27"
                                },
                                {
                                    "created_at": "2015-02-14 20:34:00.0000000",
                                    "total_busy_dashers": "27",
                                    "total_onshift_dashers": "27"
                                },
                                {
                                    "created_at": "2015-02-14 20:34:00.0000000",
                                    "total_busy_dashers": "27",
                                    "total_onshift_dashers": "27"
                                },
                                {
                                    "created_at": "2015-02-14 20:34:00.0000000",
                                    "total_busy_dashers": "11",
                                    "total_onshift_dashers": "12"
                                },
                                {
                                    "created_at": "2015-02-14 20:34:00.0000000",
                                    "total_busy_dashers": "11",
                                    "total_onshift_dashers": "12"
                                },
                                {
                                    "created_at": "2015-02-14 20:36:00.0000000",
                                    "total_busy_dashers": "0",
                                    "total_onshift_dashers": "0"
                                },
                                {
                                    "created_at": "2015-02-14 20:36:00.0000000",
                                    "total_busy_dashers": "3",
                                    "total_onshift_dashers": "3"
                                },
                                {
                                    "created_at": "2015-02-14 20:37:00.0000000",
                                    "total_busy_dashers": "28",
                                    "total_onshift_dashers": "29"
                                },
                                {
                                    "created_at": "2015-02-14 20:38:00.0000000",
                                    "total_busy_dashers": "28",
                                    "total_onshift_dashers": "29"
                                },
                                {
                                    "created_at": "2015-02-14 20:38:00.0000000",
                                    "total_busy_dashers": "28",
                                    "total_onshift_dashers": "29"
                                },
                                {
                                    "created_at": "2015-02-14 20:38:00.0000000",
                                    "total_busy_dashers": "0",
                                    "total_onshift_dashers": "0"
                                },
                                {
                                    "created_at": "2015-02-14 20:39:00.0000000",
                                    "total_busy_dashers": "19",
                                    "total_onshift_dashers": "24"
                                },
                                {
                                    "created_at": "2015-02-14 20:39:00.0000000",
                                    "total_busy_dashers": "18",
                                    "total_onshift_dashers": "20"
                                },
                                {
                                    "created_at": "2015-02-14 20:40:00.0000000",
                                    "total_busy_dashers": "6",
                                    "total_onshift_dashers": "6"
                                },
                                {
                                    "created_at": "2015-02-14 20:41:00.0000000",
                                    "total_busy_dashers": "12",
                                    "total_onshift_dashers": "12"
                                },
                                {
                                    "created_at": "2015-02-14 20:41:00.0000000",
                                    "total_busy_dashers": "12",
                                    "total_onshift_dashers": "12"
                                },
                                {
                                    "created_at": "2015-02-14 20:41:00.0000000",
                                    "total_busy_dashers": "3",
                                    "total_onshift_dashers": "4"
                                },
                                {
                                    "created_at": "2015-02-14 20:42:00.0000000",
                                    "total_busy_dashers": "29",
                                    "total_onshift_dashers": "29"
                                },
                                {
                                    "created_at": "2015-02-14 20:43:00.0000000",
                                    "total_busy_dashers": "0",
                                    "total_onshift_dashers": "0"
                                },
                                {
                                    "created_at": "2015-02-14 20:43:00.0000000",
                                    "total_busy_dashers": "0",
                                    "total_onshift_dashers": "0"
                                },
                                {
                                    "created_at": "2015-02-14 20:43:00.0000000",
                                    "total_busy_dashers": "31",
                                    "total_onshift_dashers": "31"
                                },
                                {
                                    "created_at": "2015-02-14 20:43:00.0000000",
                                    "total_busy_dashers": "0",
                                    "total_onshift_dashers": "0"
                                },
                                {
                                    "created_at": "2015-02-14 20:44:00.0000000",
                                    "total_busy_dashers": "16",
                                    "total_onshift_dashers": "18"
                                },
                                {
                                    "created_at": "2015-02-14 20:44:00.0000000",
                                    "total_busy_dashers": "19",
                                    "total_onshift_dashers": "19"
                                },
                                {
                                    "created_at": "2015-02-14 20:44:00.0000000",
                                    "total_busy_dashers": "3",
                                    "total_onshift_dashers": "3"
                                },
                                {
                                    "created_at": "2015-02-14 20:44:00.0000000",
                                    "total_busy_dashers": "19",
                                    "total_onshift_dashers": "19"
                                },
                                {
                                    "created_at": "2015-02-14 20:44:00.0000000",
                                    "total_busy_dashers": "19",
                                    "total_onshift_dashers": "19"
                                },
                                {
                                    "created_at": "2015-02-14 20:45:00.0000000",
                                    "total_busy_dashers": "28",
                                    "total_onshift_dashers": "29"
                                },
                                {
                                    "created_at": "2015-02-14 20:46:00.0000000",
                                    "total_busy_dashers": "28",
                                    "total_onshift_dashers": "29"
                                },
                                {
                                    "created_at": "2015-02-14 20:46:00.0000000",
                                    "total_busy_dashers": "17",
                                    "total_onshift_dashers": "17"
                                },
                                {
                                    "created_at": "2015-02-14 20:46:00.0000000",
                                    "total_busy_dashers": "11",
                                    "total_onshift_dashers": "12"
                                },
                                {
                                    "created_at": "2015-02-14 20:46:00.0000000",
                                    "total_busy_dashers": "17",
                                    "total_onshift_dashers": "17"
                                },
                                {
                                    "created_at": "2015-02-14 20:47:00.0000000",
                                    "total_busy_dashers": "4",
                                    "total_onshift_dashers": "5"
                                },
                                {
                                    "created_at": "2015-02-14 20:48:00.0000000",
                                    "total_busy_dashers": "3",
                                    "total_onshift_dashers": "3"
                                },
                                {
                                    "created_at": "2015-02-14 20:49:00.0000000",
                                    "total_busy_dashers": "28",
                                    "total_onshift_dashers": "29"
                                },
                                {
                                    "created_at": "2015-02-14 20:49:00.0000000",
                                    "total_busy_dashers": "17",
                                    "total_onshift_dashers": "17"
                                },
                                {
                                    "created_at": "2015-02-14 20:49:00.0000000",
                                    "total_busy_dashers": "5",
                                    "total_onshift_dashers": "5"
                                },
                                {
                                    "created_at": "2015-02-14 20:51:00.0000000",
                                    "total_busy_dashers": "12",
                                    "total_onshift_dashers": "12"
                                },
                                {
                                    "created_at": "2015-02-14 20:52:00.0000000",
                                    "total_busy_dashers": "11",
                                    "total_onshift_dashers": "12"
                                },
                                {
                                    "created_at": "2015-02-14 20:53:00.0000000",
                                    "total_busy_dashers": "13",
                                    "total_onshift_dashers": "13"
                                },
                                {
                                    "created_at": "2015-02-14 20:53:00.0000000",
                                    "total_busy_dashers": "20",
                                    "total_onshift_dashers": "20"
                                },
                                {
                                    "created_at": "2015-02-14 20:55:00.0000000",
                                    "total_busy_dashers": "13",
                                    "total_onshift_dashers": "13"
                                },
                                {
                                    "created_at": "2015-02-14 20:55:00.0000000",
                                    "total_busy_dashers": "4",
                                    "total_onshift_dashers": "4"
                                },
                                {
                                    "created_at": "2015-02-14 20:55:00.0000000",
                                    "total_busy_dashers": "20",
                                    "total_onshift_dashers": "20"
                                },
                                {
                                    "created_at": "2015-02-14 20:57:00.0000000",
                                    "total_busy_dashers": "15",
                                    "total_onshift_dashers": "15"
                                },
                                {
                                    "created_at": "2015-02-14 20:57:00.0000000",
                                    "total_busy_dashers": "20",
                                    "total_onshift_dashers": "20"
                                },
                                {
                                    "created_at": "2015-02-14 20:57:00.0000000",
                                    "total_busy_dashers": "13",
                                    "total_onshift_dashers": "13"
                                },
                                {
                                    "created_at": "2015-02-14 20:58:00.0000000",
                                    "total_busy_dashers": "20",
                                    "total_onshift_dashers": "20"
                                }
                            ]
                        },
                        "text/html": "<table><tr><th>created_at</th><th>total_busy_dashers</th><th>total_onshift_dashers</th></tr><tr><td>2015-02-10 20:00:00.0000000</td><td>22</td><td>23</td></tr><tr><td>2015-02-10 20:00:00.0000000</td><td>5</td><td>7</td></tr><tr><td>2015-02-10 20:01:00.0000000</td><td>4</td><td>5</td></tr><tr><td>2015-02-10 20:01:00.0000000</td><td>27</td><td>28</td></tr><tr><td>2015-02-10 20:02:00.0000000</td><td>12</td><td>10</td></tr><tr><td>2015-02-10 20:03:00.0000000</td><td>12</td><td>12</td></tr><tr><td>2015-02-10 20:03:00.0000000</td><td>12</td><td>12</td></tr><tr><td>2015-02-10 20:03:00.0000000</td><td>27</td><td>28</td></tr><tr><td>2015-02-10 20:06:00.0000000</td><td>24</td><td>23</td></tr><tr><td>2015-02-10 20:07:00.0000000</td><td>24</td><td>23</td></tr><tr><td>2015-02-10 20:08:00.0000000</td><td>27</td><td>33</td></tr><tr><td>2015-02-10 20:09:00.0000000</td><td>21</td><td>21</td></tr><tr><td>2015-02-10 20:09:00.0000000</td><td>21</td><td>21</td></tr><tr><td>2015-02-10 20:10:00.0000000</td><td>14</td><td>13</td></tr><tr><td>2015-02-10 20:10:00.0000000</td><td>0</td><td>0</td></tr><tr><td>2015-02-10 20:10:00.0000000</td><td>0</td><td>0</td></tr><tr><td>2015-02-10 20:10:00.0000000</td><td>14</td><td>13</td></tr><tr><td>2015-02-10 20:11:00.0000000</td><td>5</td><td>7</td></tr><tr><td>2015-02-10 20:11:00.0000000</td><td>23</td><td>23</td></tr><tr><td>2015-02-10 20:12:00.0000000</td><td>6</td><td>6</td></tr><tr><td>2015-02-10 20:13:00.0000000</td><td>14</td><td>13</td></tr><tr><td>2015-02-10 20:13:00.0000000</td><td>29</td><td>30</td></tr><tr><td>2015-02-10 20:14:00.0000000</td><td>23</td><td>17</td></tr><tr><td>2015-02-10 20:15:00.0000000</td><td>27</td><td>29</td></tr><tr><td>2015-02-10 20:15:00.0000000</td><td>6</td><td>6</td></tr><tr><td>2015-02-10 20:16:00.0000000</td><td>14</td><td>13</td></tr><tr><td>2015-02-10 20:16:00.0000000</td><td>23</td><td>22</td></tr><tr><td>2015-02-10 20:17:00.0000000</td><td>36</td><td>33</td></tr><tr><td>2015-02-10 20:19:00.0000000</td><td>19</td><td>21</td></tr><tr><td>2015-02-10 20:19:00.0000000</td><td>19</td><td>21</td></tr><tr><td>2015-02-10 20:19:00.0000000</td><td>5</td><td>7</td></tr><tr><td>2015-02-10 20:21:00.0000000</td><td>29</td><td>33</td></tr><tr><td>2015-02-10 20:22:00.0000000</td><td>27</td><td>31</td></tr><tr><td>2015-02-10 20:23:00.0000000</td><td>14</td><td>13</td></tr><tr><td>2015-02-10 20:23:00.0000000</td><td>27</td><td>31</td></tr><tr><td>2015-02-10 20:24:00.0000000</td><td>7</td><td>6</td></tr><tr><td>2015-02-10 20:25:00.0000000</td><td>27</td><td>32</td></tr><tr><td>2015-02-10 20:25:00.0000000</td><td>21</td><td>24</td></tr><tr><td>2015-02-10 20:25:00.0000000</td><td>28</td><td>36</td></tr><tr><td>2015-02-10 20:27:00.0000000</td><td>21</td><td>24</td></tr><tr><td>2015-02-10 20:27:00.0000000</td><td>24</td><td>24</td></tr><tr><td>2015-02-10 20:28:00.0000000</td><td>27</td><td>32</td></tr><tr><td>2015-02-10 20:28:00.0000000</td><td>33</td><td>35</td></tr><tr><td>2015-02-10 20:29:00.0000000</td><td>21</td><td>24</td></tr><tr><td>2015-02-10 20:30:00.0000000</td><td>15</td><td>14</td></tr><tr><td>2015-02-10 20:30:00.0000000</td><td>20</td><td>22</td></tr><tr><td>2015-02-10 20:30:00.0000000</td><td>7</td><td>6</td></tr><tr><td>2015-02-10 20:31:00.0000000</td><td>32</td><td>31</td></tr><tr><td>2015-02-10 20:31:00.0000000</td><td>20</td><td>22</td></tr><tr><td>2015-02-10 20:34:00.0000000</td><td>24</td><td>23</td></tr><tr><td>2015-02-10 20:36:00.0000000</td><td>30</td><td>29</td></tr><tr><td>2015-02-10 20:36:00.0000000</td><td>10</td><td>11</td></tr><tr><td>2015-02-10 20:37:00.0000000</td><td>24</td><td>25</td></tr><tr><td>2015-02-10 20:38:00.0000000</td><td>30</td><td>29</td></tr><tr><td>2015-02-10 20:38:00.0000000</td><td>15</td><td>14</td></tr><tr><td>2015-02-10 20:38:00.0000000</td><td>15</td><td>14</td></tr><tr><td>2015-02-10 20:38:00.0000000</td><td>30</td><td>29</td></tr><tr><td>2015-02-10 20:38:00.0000000</td><td>24</td><td>25</td></tr><tr><td>2015-02-10 20:38:00.0000000</td><td>15</td><td>14</td></tr><tr><td>2015-02-10 20:38:00.0000000</td><td>18</td><td>22</td></tr><tr><td>2015-02-10 20:38:00.0000000</td><td>18</td><td>22</td></tr><tr><td>2015-02-10 20:39:00.0000000</td><td>30</td><td>29</td></tr><tr><td>2015-02-10 20:39:00.0000000</td><td>48</td><td>61</td></tr><tr><td>2015-02-10 20:39:00.0000000</td><td>24</td><td>25</td></tr><tr><td>2015-02-10 20:40:00.0000000</td><td>7</td><td>7</td></tr><tr><td>2015-02-10 20:40:00.0000000</td><td>30</td><td>29</td></tr><tr><td>2015-02-10 20:42:00.0000000</td><td>3</td><td>5</td></tr><tr><td>2015-02-10 20:42:00.0000000</td><td>14</td><td>14</td></tr><tr><td>2015-02-10 20:43:00.0000000</td><td>28</td><td>30</td></tr><tr><td>2015-02-10 20:45:00.0000000</td><td>14</td><td>13</td></tr><tr><td>2015-02-10 20:45:00.0000000</td><td>22</td><td>23</td></tr><tr><td>2015-02-10 20:46:00.0000000</td><td>28</td><td>32</td></tr><tr><td>2015-02-10 20:46:00.0000000</td><td>14</td><td>13</td></tr><tr><td>2015-02-10 20:47:00.0000000</td><td>22</td><td>23</td></tr><tr><td>2015-02-10 20:48:00.0000000</td><td>7</td><td>7</td></tr><tr><td>2015-02-10 20:48:00.0000000</td><td>22</td><td>23</td></tr><tr><td>2015-02-10 20:48:00.0000000</td><td>19</td><td>19</td></tr><tr><td>2015-02-10 20:48:00.0000000</td><td>22</td><td>23</td></tr><tr><td>2015-02-10 20:50:00.0000000</td><td>17</td><td>19</td></tr><tr><td>2015-02-10 20:51:00.0000000</td><td>3</td><td>4</td></tr><tr><td>2015-02-10 20:51:00.0000000</td><td>26</td><td>32</td></tr><tr><td>2015-02-10 20:51:00.0000000</td><td>24</td><td>24</td></tr><tr><td>2015-02-10 20:51:00.0000000</td><td>24</td><td>24</td></tr><tr><td>2015-02-10 20:52:00.0000000</td><td>24</td><td>24</td></tr><tr><td>2015-02-10 20:52:00.0000000</td><td>24</td><td>24</td></tr><tr><td>2015-02-10 20:53:00.0000000</td><td>26</td><td>32</td></tr><tr><td>2015-02-10 20:54:00.0000000</td><td>26</td><td>32</td></tr><tr><td>2015-02-10 20:54:00.0000000</td><td>24</td><td>24</td></tr><tr><td>2015-02-10 20:55:00.0000000</td><td>24</td><td>25</td></tr><tr><td>2015-02-10 20:56:00.0000000</td><td>0</td><td>0</td></tr><tr><td>2015-02-10 20:58:00.0000000</td><td>24</td><td>25</td></tr><tr><td>2015-02-10 20:59:00.0000000</td><td>18</td><td>20</td></tr><tr><td>2015-02-14 20:00:00.0000000</td><td>11</td><td>11</td></tr><tr><td>2015-02-14 20:00:00.0000000</td><td>6</td><td>6</td></tr><tr><td>2015-02-14 20:00:00.0000000</td><td>20</td><td>20</td></tr><tr><td>2015-02-14 20:00:00.0000000</td><td>8</td><td>9</td></tr><tr><td>2015-02-14 20:00:00.0000000</td><td>20</td><td>20</td></tr><tr><td>2015-02-14 20:01:00.0000000</td><td>10</td><td>16</td></tr><tr><td>2015-02-14 20:03:00.0000000</td><td>20</td><td>20</td></tr><tr><td>2015-02-14 20:03:00.0000000</td><td>4</td><td>4</td></tr><tr><td>2015-02-14 20:03:00.0000000</td><td>17</td><td>17</td></tr><tr><td>2015-02-14 20:03:00.0000000</td><td>20</td><td>20</td></tr><tr><td>2015-02-14 20:03:00.0000000</td><td>20</td><td>20</td></tr><tr><td>2015-02-14 20:03:00.0000000</td><td>17</td><td>17</td></tr><tr><td>2015-02-14 20:04:00.0000000</td><td>8</td><td>9</td></tr><tr><td>2015-02-14 20:04:00.0000000</td><td>20</td><td>20</td></tr><tr><td>2015-02-14 20:05:00.0000000</td><td>20</td><td>20</td></tr><tr><td>2015-02-14 20:06:00.0000000</td><td>20</td><td>20</td></tr><tr><td>2015-02-14 20:07:00.0000000</td><td>20</td><td>20</td></tr><tr><td>2015-02-14 20:07:00.0000000</td><td>12</td><td>12</td></tr><tr><td>2015-02-14 20:07:00.0000000</td><td>16</td><td>17</td></tr><tr><td>2015-02-14 20:08:00.0000000</td><td>20</td><td>20</td></tr><tr><td>2015-02-14 20:09:00.0000000</td><td>16</td><td>17</td></tr><tr><td>2015-02-14 20:09:00.0000000</td><td>6</td><td>7</td></tr><tr><td>2015-02-14 20:09:00.0000000</td><td>6</td><td>7</td></tr><tr><td>2015-02-14 20:10:00.0000000</td><td>24</td><td>24</td></tr><tr><td>2015-02-14 20:11:00.0000000</td><td>24</td><td>24</td></tr><tr><td>2015-02-14 20:11:00.0000000</td><td>17</td><td>17</td></tr><tr><td>2015-02-14 20:12:00.0000000</td><td>13</td><td>13</td></tr><tr><td>2015-02-14 20:12:00.0000000</td><td>8</td><td>8</td></tr><tr><td>2015-02-14 20:12:00.0000000</td><td>17</td><td>17</td></tr><tr><td>2015-02-14 20:12:00.0000000</td><td>24</td><td>24</td></tr><tr><td>2015-02-14 20:12:00.0000000</td><td>17</td><td>17</td></tr><tr><td>2015-02-14 20:13:00.0000000</td><td>24</td><td>24</td></tr><tr><td>2015-02-14 20:13:00.0000000</td><td>24</td><td>24</td></tr><tr><td>2015-02-14 20:14:00.0000000</td><td>17</td><td>17</td></tr><tr><td>2015-02-14 20:16:00.0000000</td><td>18</td><td>18</td></tr><tr><td>2015-02-14 20:18:00.0000000</td><td>18</td><td>18</td></tr><tr><td>2015-02-14 20:18:00.0000000</td><td>24</td><td>24</td></tr><tr><td>2015-02-14 20:18:00.0000000</td><td>66</td><td>70</td></tr><tr><td>2015-02-14 20:20:00.0000000</td><td>24</td><td>24</td></tr><tr><td>2015-02-14 20:22:00.0000000</td><td>24</td><td>24</td></tr><tr><td>2015-02-14 20:22:00.0000000</td><td>14</td><td>15</td></tr><tr><td>2015-02-14 20:23:00.0000000</td><td>0</td><td>0</td></tr><tr><td>2015-02-14 20:23:00.0000000</td><td>12</td><td>12</td></tr><tr><td>2015-02-14 20:23:00.0000000</td><td>14</td><td>14</td></tr><tr><td>2015-02-14 20:23:00.0000000</td><td>24</td><td>24</td></tr><tr><td>2015-02-14 20:25:00.0000000</td><td>15</td><td>15</td></tr><tr><td>2015-02-14 20:25:00.0000000</td><td>2</td><td>2</td></tr><tr><td>2015-02-14 20:25:00.0000000</td><td>19</td><td>19</td></tr><tr><td>2015-02-14 20:25:00.0000000</td><td>2</td><td>3</td></tr><tr><td>2015-02-14 20:25:00.0000000</td><td>6</td><td>6</td></tr><tr><td>2015-02-14 20:26:00.0000000</td><td>2</td><td>2</td></tr><tr><td>2015-02-14 20:27:00.0000000</td><td>3</td><td>4</td></tr><tr><td>2015-02-14 20:28:00.0000000</td><td>11</td><td>16</td></tr><tr><td>2015-02-14 20:29:00.0000000</td><td>25</td><td>25</td></tr><tr><td>2015-02-14 20:31:00.0000000</td><td>27</td><td>27</td></tr><tr><td>2015-02-14 20:31:00.0000000</td><td>13</td><td>14</td></tr><tr><td>2015-02-14 20:31:00.0000000</td><td>18</td><td>19</td></tr><tr><td>2015-02-14 20:34:00.0000000</td><td>27</td><td>27</td></tr><tr><td>2015-02-14 20:34:00.0000000</td><td>27</td><td>27</td></tr><tr><td>2015-02-14 20:34:00.0000000</td><td>27</td><td>27</td></tr><tr><td>2015-02-14 20:34:00.0000000</td><td>11</td><td>12</td></tr><tr><td>2015-02-14 20:34:00.0000000</td><td>11</td><td>12</td></tr><tr><td>2015-02-14 20:36:00.0000000</td><td>0</td><td>0</td></tr><tr><td>2015-02-14 20:36:00.0000000</td><td>3</td><td>3</td></tr><tr><td>2015-02-14 20:37:00.0000000</td><td>28</td><td>29</td></tr><tr><td>2015-02-14 20:38:00.0000000</td><td>28</td><td>29</td></tr><tr><td>2015-02-14 20:38:00.0000000</td><td>28</td><td>29</td></tr><tr><td>2015-02-14 20:38:00.0000000</td><td>0</td><td>0</td></tr><tr><td>2015-02-14 20:39:00.0000000</td><td>19</td><td>24</td></tr><tr><td>2015-02-14 20:39:00.0000000</td><td>18</td><td>20</td></tr><tr><td>2015-02-14 20:40:00.0000000</td><td>6</td><td>6</td></tr><tr><td>2015-02-14 20:41:00.0000000</td><td>12</td><td>12</td></tr><tr><td>2015-02-14 20:41:00.0000000</td><td>12</td><td>12</td></tr><tr><td>2015-02-14 20:41:00.0000000</td><td>3</td><td>4</td></tr><tr><td>2015-02-14 20:42:00.0000000</td><td>29</td><td>29</td></tr><tr><td>2015-02-14 20:43:00.0000000</td><td>0</td><td>0</td></tr><tr><td>2015-02-14 20:43:00.0000000</td><td>0</td><td>0</td></tr><tr><td>2015-02-14 20:43:00.0000000</td><td>31</td><td>31</td></tr><tr><td>2015-02-14 20:43:00.0000000</td><td>0</td><td>0</td></tr><tr><td>2015-02-14 20:44:00.0000000</td><td>16</td><td>18</td></tr><tr><td>2015-02-14 20:44:00.0000000</td><td>19</td><td>19</td></tr><tr><td>2015-02-14 20:44:00.0000000</td><td>3</td><td>3</td></tr><tr><td>2015-02-14 20:44:00.0000000</td><td>19</td><td>19</td></tr><tr><td>2015-02-14 20:44:00.0000000</td><td>19</td><td>19</td></tr><tr><td>2015-02-14 20:45:00.0000000</td><td>28</td><td>29</td></tr><tr><td>2015-02-14 20:46:00.0000000</td><td>28</td><td>29</td></tr><tr><td>2015-02-14 20:46:00.0000000</td><td>17</td><td>17</td></tr><tr><td>2015-02-14 20:46:00.0000000</td><td>11</td><td>12</td></tr><tr><td>2015-02-14 20:46:00.0000000</td><td>17</td><td>17</td></tr><tr><td>2015-02-14 20:47:00.0000000</td><td>4</td><td>5</td></tr><tr><td>2015-02-14 20:48:00.0000000</td><td>3</td><td>3</td></tr><tr><td>2015-02-14 20:49:00.0000000</td><td>28</td><td>29</td></tr><tr><td>2015-02-14 20:49:00.0000000</td><td>17</td><td>17</td></tr><tr><td>2015-02-14 20:49:00.0000000</td><td>5</td><td>5</td></tr><tr><td>2015-02-14 20:51:00.0000000</td><td>12</td><td>12</td></tr><tr><td>2015-02-14 20:52:00.0000000</td><td>11</td><td>12</td></tr><tr><td>2015-02-14 20:53:00.0000000</td><td>13</td><td>13</td></tr><tr><td>2015-02-14 20:53:00.0000000</td><td>20</td><td>20</td></tr><tr><td>2015-02-14 20:55:00.0000000</td><td>13</td><td>13</td></tr><tr><td>2015-02-14 20:55:00.0000000</td><td>4</td><td>4</td></tr><tr><td>2015-02-14 20:55:00.0000000</td><td>20</td><td>20</td></tr><tr><td>2015-02-14 20:57:00.0000000</td><td>15</td><td>15</td></tr><tr><td>2015-02-14 20:57:00.0000000</td><td>20</td><td>20</td></tr><tr><td>2015-02-14 20:57:00.0000000</td><td>13</td><td>13</td></tr><tr><td>2015-02-14 20:58:00.0000000</td><td>20</td><td>20</td></tr></table>"
                    },
                    "metadata": {
                        "azdata_chartOptions": {
                            "type": "line",
                            "dataDirection": "vertical",
                            "columnsAsLabels": true,
                            "labelFirstColumn": false,
                            "legendPosition": "top",
                            "dataType": "number"
                        }
                    }
                }
            ],
            "execution_count": 99
        },
        {
            "cell_type": "markdown",
            "source": [
                "# <mark>5 - Do Number of Total Outstanding Orders Affect Average Delivery Times?</mark>\n",
                "\n",
                "In the following visualization, we can see that Average Delivery Times do not follow a trend for deliveries made under 42 minutes. After about the 42 minute mark, there is a slight correlation between increasing number of outstanding orders and increasing delivery time. We may conclude that other factors affect delivery times more strongly than number of total outstanding orders. \\<br/\\> ,br/\\>\n",
                "\n",
                "NOTE:  For simplicity, only orders with delivery times under 60 minutes were considered."
            ],
            "metadata": {
                "language": "sql",
                "azdata_cell_guid": "8489f186-9e28-4494-9185-f96fbc4bf660"
            },
            "attachments": {}
        },
        {
            "cell_type": "code",
            "source": [
                "USE [Sample];\r\n",
                "\r\n",
                "SELECT\r\n",
                "    [Average Delivery Time] = ROUND(AVG(DATEDIFF(MINUTE,[dd].[created_at],[actual_delivery_time])),0),\r\n",
                "    [dd].[total_outstanding_orders]\r\n",
                "FROM [dbo].[dd_eta] AS [dd]\r\n",
                "--where delivery time is less than 60 minutes\r\n",
                "WHERE DATEDIFF(MINUTE,[dd].[created_at],[actual_delivery_time]) < 60\r\n",
                "GROUP BY [total_outstanding_orders]\r\n",
                "ORDER BY [Average Delivery Time] ASC;\r\n",
                ""
            ],
            "metadata": {
                "language": "sql",
                "azdata_cell_guid": "f700314e-6a4e-406d-a264-da36e424fc7e"
            },
            "outputs": [
                {
                    "output_type": "display_data",
                    "data": {
                        "text/html": "(197 rows affected)"
                    },
                    "metadata": {}
                },
                {
                    "output_type": "display_data",
                    "data": {
                        "text/html": "Total execution time: 00:00:00.042"
                    },
                    "metadata": {}
                },
                {
                    "output_type": "execute_result",
                    "execution_count": 14,
                    "data": {
                        "application/vnd.dataresource+json": {
                            "schema": {
                                "fields": [
                                    {
                                        "name": "Average Delivery Time"
                                    },
                                    {
                                        "name": "total_outstanding_orders"
                                    }
                                ]
                            },
                            "data": [
                                {
                                    "Average Delivery Time": "30",
                                    "total_outstanding_orders": "161"
                                },
                                {
                                    "Average Delivery Time": "32",
                                    "total_outstanding_orders": "118"
                                },
                                {
                                    "Average Delivery Time": "33",
                                    "total_outstanding_orders": "182"
                                },
                                {
                                    "Average Delivery Time": "33",
                                    "total_outstanding_orders": "143"
                                },
                                {
                                    "Average Delivery Time": "36",
                                    "total_outstanding_orders": "157"
                                },
                                {
                                    "Average Delivery Time": "36",
                                    "total_outstanding_orders": "115"
                                },
                                {
                                    "Average Delivery Time": "36",
                                    "total_outstanding_orders": "167"
                                },
                                {
                                    "Average Delivery Time": "38",
                                    "total_outstanding_orders": "27"
                                },
                                {
                                    "Average Delivery Time": "38",
                                    "total_outstanding_orders": "61"
                                },
                                {
                                    "Average Delivery Time": "38",
                                    "total_outstanding_orders": "56"
                                },
                                {
                                    "Average Delivery Time": "38",
                                    "total_outstanding_orders": "48"
                                },
                                {
                                    "Average Delivery Time": "38",
                                    "total_outstanding_orders": "53"
                                },
                                {
                                    "Average Delivery Time": "39",
                                    "total_outstanding_orders": "102"
                                },
                                {
                                    "Average Delivery Time": "39",
                                    "total_outstanding_orders": "45"
                                },
                                {
                                    "Average Delivery Time": "39",
                                    "total_outstanding_orders": "77"
                                },
                                {
                                    "Average Delivery Time": "39",
                                    "total_outstanding_orders": "31"
                                },
                                {
                                    "Average Delivery Time": "39",
                                    "total_outstanding_orders": "2"
                                },
                                {
                                    "Average Delivery Time": "39",
                                    "total_outstanding_orders": "40"
                                },
                                {
                                    "Average Delivery Time": "39",
                                    "total_outstanding_orders": "174"
                                },
                                {
                                    "Average Delivery Time": "39",
                                    "total_outstanding_orders": "51"
                                },
                                {
                                    "Average Delivery Time": "39",
                                    "total_outstanding_orders": "42"
                                },
                                {
                                    "Average Delivery Time": "39",
                                    "total_outstanding_orders": "5"
                                },
                                {
                                    "Average Delivery Time": "39",
                                    "total_outstanding_orders": "148"
                                },
                                {
                                    "Average Delivery Time": "39",
                                    "total_outstanding_orders": "10"
                                },
                                {
                                    "Average Delivery Time": "39",
                                    "total_outstanding_orders": "44"
                                },
                                {
                                    "Average Delivery Time": "39",
                                    "total_outstanding_orders": "50"
                                },
                                {
                                    "Average Delivery Time": "39",
                                    "total_outstanding_orders": "47"
                                },
                                {
                                    "Average Delivery Time": "39",
                                    "total_outstanding_orders": "30"
                                },
                                {
                                    "Average Delivery Time": "39",
                                    "total_outstanding_orders": "12"
                                },
                                {
                                    "Average Delivery Time": "39",
                                    "total_outstanding_orders": "35"
                                },
                                {
                                    "Average Delivery Time": "39",
                                    "total_outstanding_orders": "43"
                                },
                                {
                                    "Average Delivery Time": "39",
                                    "total_outstanding_orders": "55"
                                },
                                {
                                    "Average Delivery Time": "39",
                                    "total_outstanding_orders": "46"
                                },
                                {
                                    "Average Delivery Time": "39",
                                    "total_outstanding_orders": "9"
                                },
                                {
                                    "Average Delivery Time": "40",
                                    "total_outstanding_orders": "15"
                                },
                                {
                                    "Average Delivery Time": "40",
                                    "total_outstanding_orders": "29"
                                },
                                {
                                    "Average Delivery Time": "40",
                                    "total_outstanding_orders": "52"
                                },
                                {
                                    "Average Delivery Time": "40",
                                    "total_outstanding_orders": "3"
                                },
                                {
                                    "Average Delivery Time": "40",
                                    "total_outstanding_orders": "49"
                                },
                                {
                                    "Average Delivery Time": "40",
                                    "total_outstanding_orders": "63"
                                },
                                {
                                    "Average Delivery Time": "40",
                                    "total_outstanding_orders": "6"
                                },
                                {
                                    "Average Delivery Time": "40",
                                    "total_outstanding_orders": "32"
                                },
                                {
                                    "Average Delivery Time": "40",
                                    "total_outstanding_orders": "26"
                                },
                                {
                                    "Average Delivery Time": "40",
                                    "total_outstanding_orders": "58"
                                },
                                {
                                    "Average Delivery Time": "40",
                                    "total_outstanding_orders": "18"
                                },
                                {
                                    "Average Delivery Time": "40",
                                    "total_outstanding_orders": "7"
                                },
                                {
                                    "Average Delivery Time": "40",
                                    "total_outstanding_orders": "1"
                                },
                                {
                                    "Average Delivery Time": "40",
                                    "total_outstanding_orders": "4"
                                },
                                {
                                    "Average Delivery Time": "40",
                                    "total_outstanding_orders": "99"
                                },
                                {
                                    "Average Delivery Time": "40",
                                    "total_outstanding_orders": "33"
                                },
                                {
                                    "Average Delivery Time": "40",
                                    "total_outstanding_orders": "16"
                                },
                                {
                                    "Average Delivery Time": "40",
                                    "total_outstanding_orders": "13"
                                },
                                {
                                    "Average Delivery Time": "40",
                                    "total_outstanding_orders": "62"
                                },
                                {
                                    "Average Delivery Time": "40",
                                    "total_outstanding_orders": "19"
                                },
                                {
                                    "Average Delivery Time": "40",
                                    "total_outstanding_orders": "25"
                                },
                                {
                                    "Average Delivery Time": "40",
                                    "total_outstanding_orders": "57"
                                },
                                {
                                    "Average Delivery Time": "40",
                                    "total_outstanding_orders": "8"
                                },
                                {
                                    "Average Delivery Time": "40",
                                    "total_outstanding_orders": "14"
                                },
                                {
                                    "Average Delivery Time": "40",
                                    "total_outstanding_orders": "11"
                                },
                                {
                                    "Average Delivery Time": "40",
                                    "total_outstanding_orders": "34"
                                },
                                {
                                    "Average Delivery Time": "40",
                                    "total_outstanding_orders": "20"
                                },
                                {
                                    "Average Delivery Time": "40",
                                    "total_outstanding_orders": "17"
                                },
                                {
                                    "Average Delivery Time": "40",
                                    "total_outstanding_orders": "71"
                                },
                                {
                                    "Average Delivery Time": "41",
                                    "total_outstanding_orders": "60"
                                },
                                {
                                    "Average Delivery Time": "41",
                                    "total_outstanding_orders": "54"
                                },
                                {
                                    "Average Delivery Time": "41",
                                    "total_outstanding_orders": "37"
                                },
                                {
                                    "Average Delivery Time": "41",
                                    "total_outstanding_orders": "28"
                                },
                                {
                                    "Average Delivery Time": "41",
                                    "total_outstanding_orders": "36"
                                },
                                {
                                    "Average Delivery Time": "41",
                                    "total_outstanding_orders": "65"
                                },
                                {
                                    "Average Delivery Time": "41",
                                    "total_outstanding_orders": "136"
                                },
                                {
                                    "Average Delivery Time": "41",
                                    "total_outstanding_orders": "39"
                                },
                                {
                                    "Average Delivery Time": "41",
                                    "total_outstanding_orders": "22"
                                },
                                {
                                    "Average Delivery Time": "41",
                                    "total_outstanding_orders": "116"
                                },
                                {
                                    "Average Delivery Time": "41",
                                    "total_outstanding_orders": "185"
                                },
                                {
                                    "Average Delivery Time": "41",
                                    "total_outstanding_orders": "41"
                                },
                                {
                                    "Average Delivery Time": "41",
                                    "total_outstanding_orders": "187"
                                },
                                {
                                    "Average Delivery Time": "41",
                                    "total_outstanding_orders": "164"
                                },
                                {
                                    "Average Delivery Time": "41",
                                    "total_outstanding_orders": "24"
                                },
                                {
                                    "Average Delivery Time": "41",
                                    "total_outstanding_orders": "38"
                                },
                                {
                                    "Average Delivery Time": "41",
                                    "total_outstanding_orders": "70"
                                },
                                {
                                    "Average Delivery Time": "41",
                                    "total_outstanding_orders": "64"
                                },
                                {
                                    "Average Delivery Time": "41",
                                    "total_outstanding_orders": "21"
                                },
                                {
                                    "Average Delivery Time": "41",
                                    "total_outstanding_orders": "138"
                                },
                                {
                                    "Average Delivery Time": "41",
                                    "total_outstanding_orders": "23"
                                },
                                {
                                    "Average Delivery Time": "42",
                                    "total_outstanding_orders": "0"
                                },
                                {
                                    "Average Delivery Time": "42",
                                    "total_outstanding_orders": "69"
                                },
                                {
                                    "Average Delivery Time": "42",
                                    "total_outstanding_orders": "192"
                                },
                                {
                                    "Average Delivery Time": "42",
                                    "total_outstanding_orders": "175"
                                },
                                {
                                    "Average Delivery Time": "42",
                                    "total_outstanding_orders": "75"
                                },
                                {
                                    "Average Delivery Time": "42",
                                    "total_outstanding_orders": "72"
                                },
                                {
                                    "Average Delivery Time": "42",
                                    "total_outstanding_orders": "66"
                                },
                                {
                                    "Average Delivery Time": "42",
                                    "total_outstanding_orders": "78"
                                },
                                {
                                    "Average Delivery Time": "42",
                                    "total_outstanding_orders": "121"
                                },
                                {
                                    "Average Delivery Time": "42",
                                    "total_outstanding_orders": "67"
                                },
                                {
                                    "Average Delivery Time": "42",
                                    "total_outstanding_orders": "122"
                                },
                                {
                                    "Average Delivery Time": "42",
                                    "total_outstanding_orders": "76"
                                },
                                {
                                    "Average Delivery Time": "42",
                                    "total_outstanding_orders": "59"
                                },
                                {
                                    "Average Delivery Time": "42",
                                    "total_outstanding_orders": "82"
                                },
                                {
                                    "Average Delivery Time": "42",
                                    "total_outstanding_orders": "79"
                                },
                                {
                                    "Average Delivery Time": "42",
                                    "total_outstanding_orders": "68"
                                },
                                {
                                    "Average Delivery Time": "43",
                                    "total_outstanding_orders": "74"
                                },
                                {
                                    "Average Delivery Time": "43",
                                    "total_outstanding_orders": "100"
                                },
                                {
                                    "Average Delivery Time": "43",
                                    "total_outstanding_orders": "83"
                                },
                                {
                                    "Average Delivery Time": "43",
                                    "total_outstanding_orders": "117"
                                },
                                {
                                    "Average Delivery Time": "43",
                                    "total_outstanding_orders": "142"
                                },
                                {
                                    "Average Delivery Time": "43",
                                    "total_outstanding_orders": "73"
                                },
                                {
                                    "Average Delivery Time": "43",
                                    "total_outstanding_orders": "84"
                                },
                                {
                                    "Average Delivery Time": "43",
                                    "total_outstanding_orders": "81"
                                },
                                {
                                    "Average Delivery Time": "43",
                                    "total_outstanding_orders": "144"
                                },
                                {
                                    "Average Delivery Time": "43",
                                    "total_outstanding_orders": "86"
                                },
                                {
                                    "Average Delivery Time": "43",
                                    "total_outstanding_orders": "158"
                                },
                                {
                                    "Average Delivery Time": "44",
                                    "total_outstanding_orders": "90"
                                },
                                {
                                    "Average Delivery Time": "44",
                                    "total_outstanding_orders": "96"
                                },
                                {
                                    "Average Delivery Time": "44",
                                    "total_outstanding_orders": "93"
                                },
                                {
                                    "Average Delivery Time": "44",
                                    "total_outstanding_orders": "85"
                                },
                                {
                                    "Average Delivery Time": "44",
                                    "total_outstanding_orders": "139"
                                },
                                {
                                    "Average Delivery Time": "44",
                                    "total_outstanding_orders": "94"
                                },
                                {
                                    "Average Delivery Time": "44",
                                    "total_outstanding_orders": "88"
                                },
                                {
                                    "Average Delivery Time": "44",
                                    "total_outstanding_orders": "91"
                                },
                                {
                                    "Average Delivery Time": "44",
                                    "total_outstanding_orders": "137"
                                },
                                {
                                    "Average Delivery Time": "45",
                                    "total_outstanding_orders": "200"
                                },
                                {
                                    "Average Delivery Time": "45",
                                    "total_outstanding_orders": "80"
                                },
                                {
                                    "Average Delivery Time": "45",
                                    "total_outstanding_orders": "111"
                                },
                                {
                                    "Average Delivery Time": "45",
                                    "total_outstanding_orders": "123"
                                },
                                {
                                    "Average Delivery Time": "45",
                                    "total_outstanding_orders": "188"
                                },
                                {
                                    "Average Delivery Time": "45",
                                    "total_outstanding_orders": "228"
                                },
                                {
                                    "Average Delivery Time": "45",
                                    "total_outstanding_orders": "141"
                                },
                                {
                                    "Average Delivery Time": "45",
                                    "total_outstanding_orders": "119"
                                },
                                {
                                    "Average Delivery Time": "45",
                                    "total_outstanding_orders": "155"
                                },
                                {
                                    "Average Delivery Time": "45",
                                    "total_outstanding_orders": "113"
                                },
                                {
                                    "Average Delivery Time": "45",
                                    "total_outstanding_orders": "87"
                                },
                                {
                                    "Average Delivery Time": "45",
                                    "total_outstanding_orders": "107"
                                },
                                {
                                    "Average Delivery Time": "46",
                                    "total_outstanding_orders": "98"
                                },
                                {
                                    "Average Delivery Time": "46",
                                    "total_outstanding_orders": "135"
                                },
                                {
                                    "Average Delivery Time": "46",
                                    "total_outstanding_orders": "109"
                                },
                                {
                                    "Average Delivery Time": "46",
                                    "total_outstanding_orders": "195"
                                },
                                {
                                    "Average Delivery Time": "46",
                                    "total_outstanding_orders": "95"
                                },
                                {
                                    "Average Delivery Time": "46",
                                    "total_outstanding_orders": "92"
                                },
                                {
                                    "Average Delivery Time": "46",
                                    "total_outstanding_orders": "104"
                                },
                                {
                                    "Average Delivery Time": "46",
                                    "total_outstanding_orders": "110"
                                },
                                {
                                    "Average Delivery Time": "46",
                                    "total_outstanding_orders": "101"
                                },
                                {
                                    "Average Delivery Time": "46",
                                    "total_outstanding_orders": "105"
                                },
                                {
                                    "Average Delivery Time": "46",
                                    "total_outstanding_orders": "108"
                                },
                                {
                                    "Average Delivery Time": "46",
                                    "total_outstanding_orders": "140"
                                },
                                {
                                    "Average Delivery Time": "46",
                                    "total_outstanding_orders": "103"
                                },
                                {
                                    "Average Delivery Time": "47",
                                    "total_outstanding_orders": "97"
                                },
                                {
                                    "Average Delivery Time": "47",
                                    "total_outstanding_orders": "197"
                                },
                                {
                                    "Average Delivery Time": "47",
                                    "total_outstanding_orders": "183"
                                },
                                {
                                    "Average Delivery Time": "47",
                                    "total_outstanding_orders": "163"
                                },
                                {
                                    "Average Delivery Time": "47",
                                    "total_outstanding_orders": "114"
                                },
                                {
                                    "Average Delivery Time": "47",
                                    "total_outstanding_orders": "128"
                                },
                                {
                                    "Average Delivery Time": "47",
                                    "total_outstanding_orders": "196"
                                },
                                {
                                    "Average Delivery Time": "47",
                                    "total_outstanding_orders": "89"
                                },
                                {
                                    "Average Delivery Time": "47",
                                    "total_outstanding_orders": "129"
                                },
                                {
                                    "Average Delivery Time": "47",
                                    "total_outstanding_orders": "106"
                                },
                                {
                                    "Average Delivery Time": "47",
                                    "total_outstanding_orders": "127"
                                },
                                {
                                    "Average Delivery Time": "48",
                                    "total_outstanding_orders": "149"
                                },
                                {
                                    "Average Delivery Time": "48",
                                    "total_outstanding_orders": "112"
                                },
                                {
                                    "Average Delivery Time": "48",
                                    "total_outstanding_orders": "124"
                                },
                                {
                                    "Average Delivery Time": "48",
                                    "total_outstanding_orders": "216"
                                },
                                {
                                    "Average Delivery Time": "48",
                                    "total_outstanding_orders": "176"
                                },
                                {
                                    "Average Delivery Time": "48",
                                    "total_outstanding_orders": "162"
                                },
                                {
                                    "Average Delivery Time": "48",
                                    "total_outstanding_orders": "225"
                                },
                                {
                                    "Average Delivery Time": "49",
                                    "total_outstanding_orders": "147"
                                },
                                {
                                    "Average Delivery Time": "49",
                                    "total_outstanding_orders": "178"
                                },
                                {
                                    "Average Delivery Time": "49",
                                    "total_outstanding_orders": "181"
                                },
                                {
                                    "Average Delivery Time": "49",
                                    "total_outstanding_orders": "154"
                                },
                                {
                                    "Average Delivery Time": "49",
                                    "total_outstanding_orders": "203"
                                },
                                {
                                    "Average Delivery Time": "49",
                                    "total_outstanding_orders": "120"
                                },
                                {
                                    "Average Delivery Time": "50",
                                    "total_outstanding_orders": "145"
                                },
                                {
                                    "Average Delivery Time": "50",
                                    "total_outstanding_orders": "180"
                                },
                                {
                                    "Average Delivery Time": "50",
                                    "total_outstanding_orders": "156"
                                },
                                {
                                    "Average Delivery Time": "50",
                                    "total_outstanding_orders": "210"
                                },
                                {
                                    "Average Delivery Time": "51",
                                    "total_outstanding_orders": "168"
                                },
                                {
                                    "Average Delivery Time": "51",
                                    "total_outstanding_orders": "130"
                                },
                                {
                                    "Average Delivery Time": "51",
                                    "total_outstanding_orders": "169"
                                },
                                {
                                    "Average Delivery Time": "51",
                                    "total_outstanding_orders": "189"
                                },
                                {
                                    "Average Delivery Time": "51",
                                    "total_outstanding_orders": "159"
                                },
                                {
                                    "Average Delivery Time": "52",
                                    "total_outstanding_orders": "177"
                                },
                                {
                                    "Average Delivery Time": "52",
                                    "total_outstanding_orders": "132"
                                },
                                {
                                    "Average Delivery Time": "52",
                                    "total_outstanding_orders": "184"
                                },
                                {
                                    "Average Delivery Time": "52",
                                    "total_outstanding_orders": "179"
                                },
                                {
                                    "Average Delivery Time": "53",
                                    "total_outstanding_orders": "133"
                                },
                                {
                                    "Average Delivery Time": "53",
                                    "total_outstanding_orders": "165"
                                },
                                {
                                    "Average Delivery Time": "53",
                                    "total_outstanding_orders": "193"
                                },
                                {
                                    "Average Delivery Time": "53",
                                    "total_outstanding_orders": "190"
                                },
                                {
                                    "Average Delivery Time": "53",
                                    "total_outstanding_orders": "172"
                                },
                                {
                                    "Average Delivery Time": "54",
                                    "total_outstanding_orders": "150"
                                },
                                {
                                    "Average Delivery Time": "55",
                                    "total_outstanding_orders": "134"
                                },
                                {
                                    "Average Delivery Time": "55",
                                    "total_outstanding_orders": "131"
                                },
                                {
                                    "Average Delivery Time": "56",
                                    "total_outstanding_orders": "151"
                                },
                                {
                                    "Average Delivery Time": "56",
                                    "total_outstanding_orders": "199"
                                },
                                {
                                    "Average Delivery Time": "56",
                                    "total_outstanding_orders": "146"
                                },
                                {
                                    "Average Delivery Time": "56",
                                    "total_outstanding_orders": "201"
                                },
                                {
                                    "Average Delivery Time": "58",
                                    "total_outstanding_orders": "152"
                                },
                                {
                                    "Average Delivery Time": "58",
                                    "total_outstanding_orders": "160"
                                },
                                {
                                    "Average Delivery Time": "59",
                                    "total_outstanding_orders": "170"
                                }
                            ]
                        },
                        "text/html": "<table><tr><th>Average Delivery Time</th><th>total_outstanding_orders</th></tr><tr><td>30</td><td>161</td></tr><tr><td>32</td><td>118</td></tr><tr><td>33</td><td>182</td></tr><tr><td>33</td><td>143</td></tr><tr><td>36</td><td>157</td></tr><tr><td>36</td><td>115</td></tr><tr><td>36</td><td>167</td></tr><tr><td>38</td><td>27</td></tr><tr><td>38</td><td>61</td></tr><tr><td>38</td><td>56</td></tr><tr><td>38</td><td>48</td></tr><tr><td>38</td><td>53</td></tr><tr><td>39</td><td>102</td></tr><tr><td>39</td><td>45</td></tr><tr><td>39</td><td>77</td></tr><tr><td>39</td><td>31</td></tr><tr><td>39</td><td>2</td></tr><tr><td>39</td><td>40</td></tr><tr><td>39</td><td>174</td></tr><tr><td>39</td><td>51</td></tr><tr><td>39</td><td>42</td></tr><tr><td>39</td><td>5</td></tr><tr><td>39</td><td>148</td></tr><tr><td>39</td><td>10</td></tr><tr><td>39</td><td>44</td></tr><tr><td>39</td><td>50</td></tr><tr><td>39</td><td>47</td></tr><tr><td>39</td><td>30</td></tr><tr><td>39</td><td>12</td></tr><tr><td>39</td><td>35</td></tr><tr><td>39</td><td>43</td></tr><tr><td>39</td><td>55</td></tr><tr><td>39</td><td>46</td></tr><tr><td>39</td><td>9</td></tr><tr><td>40</td><td>15</td></tr><tr><td>40</td><td>29</td></tr><tr><td>40</td><td>52</td></tr><tr><td>40</td><td>3</td></tr><tr><td>40</td><td>49</td></tr><tr><td>40</td><td>63</td></tr><tr><td>40</td><td>6</td></tr><tr><td>40</td><td>32</td></tr><tr><td>40</td><td>26</td></tr><tr><td>40</td><td>58</td></tr><tr><td>40</td><td>18</td></tr><tr><td>40</td><td>7</td></tr><tr><td>40</td><td>1</td></tr><tr><td>40</td><td>4</td></tr><tr><td>40</td><td>99</td></tr><tr><td>40</td><td>33</td></tr><tr><td>40</td><td>16</td></tr><tr><td>40</td><td>13</td></tr><tr><td>40</td><td>62</td></tr><tr><td>40</td><td>19</td></tr><tr><td>40</td><td>25</td></tr><tr><td>40</td><td>57</td></tr><tr><td>40</td><td>8</td></tr><tr><td>40</td><td>14</td></tr><tr><td>40</td><td>11</td></tr><tr><td>40</td><td>34</td></tr><tr><td>40</td><td>20</td></tr><tr><td>40</td><td>17</td></tr><tr><td>40</td><td>71</td></tr><tr><td>41</td><td>60</td></tr><tr><td>41</td><td>54</td></tr><tr><td>41</td><td>37</td></tr><tr><td>41</td><td>28</td></tr><tr><td>41</td><td>36</td></tr><tr><td>41</td><td>65</td></tr><tr><td>41</td><td>136</td></tr><tr><td>41</td><td>39</td></tr><tr><td>41</td><td>22</td></tr><tr><td>41</td><td>116</td></tr><tr><td>41</td><td>185</td></tr><tr><td>41</td><td>41</td></tr><tr><td>41</td><td>187</td></tr><tr><td>41</td><td>164</td></tr><tr><td>41</td><td>24</td></tr><tr><td>41</td><td>38</td></tr><tr><td>41</td><td>70</td></tr><tr><td>41</td><td>64</td></tr><tr><td>41</td><td>21</td></tr><tr><td>41</td><td>138</td></tr><tr><td>41</td><td>23</td></tr><tr><td>42</td><td>0</td></tr><tr><td>42</td><td>69</td></tr><tr><td>42</td><td>192</td></tr><tr><td>42</td><td>175</td></tr><tr><td>42</td><td>75</td></tr><tr><td>42</td><td>72</td></tr><tr><td>42</td><td>66</td></tr><tr><td>42</td><td>78</td></tr><tr><td>42</td><td>121</td></tr><tr><td>42</td><td>67</td></tr><tr><td>42</td><td>122</td></tr><tr><td>42</td><td>76</td></tr><tr><td>42</td><td>59</td></tr><tr><td>42</td><td>82</td></tr><tr><td>42</td><td>79</td></tr><tr><td>42</td><td>68</td></tr><tr><td>43</td><td>74</td></tr><tr><td>43</td><td>100</td></tr><tr><td>43</td><td>83</td></tr><tr><td>43</td><td>117</td></tr><tr><td>43</td><td>142</td></tr><tr><td>43</td><td>73</td></tr><tr><td>43</td><td>84</td></tr><tr><td>43</td><td>81</td></tr><tr><td>43</td><td>144</td></tr><tr><td>43</td><td>86</td></tr><tr><td>43</td><td>158</td></tr><tr><td>44</td><td>90</td></tr><tr><td>44</td><td>96</td></tr><tr><td>44</td><td>93</td></tr><tr><td>44</td><td>85</td></tr><tr><td>44</td><td>139</td></tr><tr><td>44</td><td>94</td></tr><tr><td>44</td><td>88</td></tr><tr><td>44</td><td>91</td></tr><tr><td>44</td><td>137</td></tr><tr><td>45</td><td>200</td></tr><tr><td>45</td><td>80</td></tr><tr><td>45</td><td>111</td></tr><tr><td>45</td><td>123</td></tr><tr><td>45</td><td>188</td></tr><tr><td>45</td><td>228</td></tr><tr><td>45</td><td>141</td></tr><tr><td>45</td><td>119</td></tr><tr><td>45</td><td>155</td></tr><tr><td>45</td><td>113</td></tr><tr><td>45</td><td>87</td></tr><tr><td>45</td><td>107</td></tr><tr><td>46</td><td>98</td></tr><tr><td>46</td><td>135</td></tr><tr><td>46</td><td>109</td></tr><tr><td>46</td><td>195</td></tr><tr><td>46</td><td>95</td></tr><tr><td>46</td><td>92</td></tr><tr><td>46</td><td>104</td></tr><tr><td>46</td><td>110</td></tr><tr><td>46</td><td>101</td></tr><tr><td>46</td><td>105</td></tr><tr><td>46</td><td>108</td></tr><tr><td>46</td><td>140</td></tr><tr><td>46</td><td>103</td></tr><tr><td>47</td><td>97</td></tr><tr><td>47</td><td>197</td></tr><tr><td>47</td><td>183</td></tr><tr><td>47</td><td>163</td></tr><tr><td>47</td><td>114</td></tr><tr><td>47</td><td>128</td></tr><tr><td>47</td><td>196</td></tr><tr><td>47</td><td>89</td></tr><tr><td>47</td><td>129</td></tr><tr><td>47</td><td>106</td></tr><tr><td>47</td><td>127</td></tr><tr><td>48</td><td>149</td></tr><tr><td>48</td><td>112</td></tr><tr><td>48</td><td>124</td></tr><tr><td>48</td><td>216</td></tr><tr><td>48</td><td>176</td></tr><tr><td>48</td><td>162</td></tr><tr><td>48</td><td>225</td></tr><tr><td>49</td><td>147</td></tr><tr><td>49</td><td>178</td></tr><tr><td>49</td><td>181</td></tr><tr><td>49</td><td>154</td></tr><tr><td>49</td><td>203</td></tr><tr><td>49</td><td>120</td></tr><tr><td>50</td><td>145</td></tr><tr><td>50</td><td>180</td></tr><tr><td>50</td><td>156</td></tr><tr><td>50</td><td>210</td></tr><tr><td>51</td><td>168</td></tr><tr><td>51</td><td>130</td></tr><tr><td>51</td><td>169</td></tr><tr><td>51</td><td>189</td></tr><tr><td>51</td><td>159</td></tr><tr><td>52</td><td>177</td></tr><tr><td>52</td><td>132</td></tr><tr><td>52</td><td>184</td></tr><tr><td>52</td><td>179</td></tr><tr><td>53</td><td>133</td></tr><tr><td>53</td><td>165</td></tr><tr><td>53</td><td>193</td></tr><tr><td>53</td><td>190</td></tr><tr><td>53</td><td>172</td></tr><tr><td>54</td><td>150</td></tr><tr><td>55</td><td>134</td></tr><tr><td>55</td><td>131</td></tr><tr><td>56</td><td>151</td></tr><tr><td>56</td><td>199</td></tr><tr><td>56</td><td>146</td></tr><tr><td>56</td><td>201</td></tr><tr><td>58</td><td>152</td></tr><tr><td>58</td><td>160</td></tr><tr><td>59</td><td>170</td></tr></table>"
                    },
                    "metadata": {
                        "azdata_chartOptions": {
                            "type": "line",
                            "dataDirection": "vertical",
                            "columnsAsLabels": true,
                            "labelFirstColumn": false,
                            "legendPosition": "top",
                            "yAxisLabel": "number of total outstanding orders",
                            "xAxisLabel": "average delivery time in minutes",
                            "dataType": "number"
                        }
                    }
                }
            ],
            "execution_count": 14
        },
        {
            "cell_type": "markdown",
            "source": [
                "# <mark>6 - Do Number of Items in Order Affect Average Delivery Time?</mark>\n",
                "\n",
                "From the following visualization, we can see that the number of items in the order does not seem to affect delivery times much. There is not much of a correlation between number of items in order and average delivery times.  \n",
                "  \n",
                "NOTE: For simplicity, only orders with delivery times under 60 minutes were considered."
            ],
            "metadata": {
                "language": "sql",
                "azdata_cell_guid": "576ad6fc-bd9c-4be4-b4c5-2a68c13fcd21"
            },
            "attachments": {}
        },
        {
            "cell_type": "code",
            "source": [
                "USE [Sample];\r\n",
                "\r\n",
                "SELECT\r\n",
                "    [Average Delivery Time] = ROUND(AVG(DATEDIFF(MINUTE,[dd].[created_at],[actual_delivery_time])),0),\r\n",
                "    [dd].[total_items]\r\n",
                "FROM [dbo].[dd_eta] AS [dd]\r\n",
                "--where delivery time is less than 60 minutes\r\n",
                "WHERE DATEDIFF(MINUTE,[dd].[created_at],[actual_delivery_time]) < 60\r\n",
                "GROUP BY [total_items]\r\n",
                "ORDER BY [Average Delivery Time] ASC;"
            ],
            "metadata": {
                "language": "sql",
                "azdata_cell_guid": "94fa31f2-d956-4983-ad31-e850c543fe4a"
            },
            "outputs": [
                {
                    "output_type": "display_data",
                    "data": {
                        "text/html": "(36 rows affected)"
                    },
                    "metadata": {}
                },
                {
                    "output_type": "display_data",
                    "data": {
                        "text/html": "Total execution time: 00:00:00.056"
                    },
                    "metadata": {}
                },
                {
                    "output_type": "execute_result",
                    "execution_count": 15,
                    "data": {
                        "application/vnd.dataresource+json": {
                            "schema": {
                                "fields": [
                                    {
                                        "name": "Average Delivery Time"
                                    },
                                    {
                                        "name": "total_items"
                                    }
                                ]
                            },
                            "data": [
                                {
                                    "Average Delivery Time": "23",
                                    "total_items": "28"
                                },
                                {
                                    "Average Delivery Time": "28",
                                    "total_items": "40"
                                },
                                {
                                    "Average Delivery Time": "32",
                                    "total_items": "25"
                                },
                                {
                                    "Average Delivery Time": "34",
                                    "total_items": "42"
                                },
                                {
                                    "Average Delivery Time": "34",
                                    "total_items": "59"
                                },
                                {
                                    "Average Delivery Time": "36",
                                    "total_items": "21"
                                },
                                {
                                    "Average Delivery Time": "37",
                                    "total_items": "24"
                                },
                                {
                                    "Average Delivery Time": "38",
                                    "total_items": "31"
                                },
                                {
                                    "Average Delivery Time": "39",
                                    "total_items": "39"
                                },
                                {
                                    "Average Delivery Time": "39",
                                    "total_items": "1"
                                },
                                {
                                    "Average Delivery Time": "39",
                                    "total_items": "22"
                                },
                                {
                                    "Average Delivery Time": "40",
                                    "total_items": "20"
                                },
                                {
                                    "Average Delivery Time": "40",
                                    "total_items": "2"
                                },
                                {
                                    "Average Delivery Time": "40",
                                    "total_items": "26"
                                },
                                {
                                    "Average Delivery Time": "41",
                                    "total_items": "23"
                                },
                                {
                                    "Average Delivery Time": "41",
                                    "total_items": "15"
                                },
                                {
                                    "Average Delivery Time": "41",
                                    "total_items": "3"
                                },
                                {
                                    "Average Delivery Time": "41",
                                    "total_items": "4"
                                },
                                {
                                    "Average Delivery Time": "42",
                                    "total_items": "30"
                                },
                                {
                                    "Average Delivery Time": "42",
                                    "total_items": "6"
                                },
                                {
                                    "Average Delivery Time": "42",
                                    "total_items": "11"
                                },
                                {
                                    "Average Delivery Time": "42",
                                    "total_items": "14"
                                },
                                {
                                    "Average Delivery Time": "42",
                                    "total_items": "16"
                                },
                                {
                                    "Average Delivery Time": "42",
                                    "total_items": "5"
                                },
                                {
                                    "Average Delivery Time": "43",
                                    "total_items": "8"
                                },
                                {
                                    "Average Delivery Time": "43",
                                    "total_items": "7"
                                },
                                {
                                    "Average Delivery Time": "43",
                                    "total_items": "19"
                                },
                                {
                                    "Average Delivery Time": "43",
                                    "total_items": "12"
                                },
                                {
                                    "Average Delivery Time": "44",
                                    "total_items": "29"
                                },
                                {
                                    "Average Delivery Time": "44",
                                    "total_items": "9"
                                },
                                {
                                    "Average Delivery Time": "44",
                                    "total_items": "10"
                                },
                                {
                                    "Average Delivery Time": "45",
                                    "total_items": "17"
                                },
                                {
                                    "Average Delivery Time": "45",
                                    "total_items": "13"
                                },
                                {
                                    "Average Delivery Time": "46",
                                    "total_items": "18"
                                },
                                {
                                    "Average Delivery Time": "51",
                                    "total_items": "35"
                                },
                                {
                                    "Average Delivery Time": "57",
                                    "total_items": "27"
                                }
                            ]
                        },
                        "text/html": "<table><tr><th>Average Delivery Time</th><th>total_items</th></tr><tr><td>23</td><td>28</td></tr><tr><td>28</td><td>40</td></tr><tr><td>32</td><td>25</td></tr><tr><td>34</td><td>42</td></tr><tr><td>34</td><td>59</td></tr><tr><td>36</td><td>21</td></tr><tr><td>37</td><td>24</td></tr><tr><td>38</td><td>31</td></tr><tr><td>39</td><td>39</td></tr><tr><td>39</td><td>1</td></tr><tr><td>39</td><td>22</td></tr><tr><td>40</td><td>20</td></tr><tr><td>40</td><td>2</td></tr><tr><td>40</td><td>26</td></tr><tr><td>41</td><td>23</td></tr><tr><td>41</td><td>15</td></tr><tr><td>41</td><td>3</td></tr><tr><td>41</td><td>4</td></tr><tr><td>42</td><td>30</td></tr><tr><td>42</td><td>6</td></tr><tr><td>42</td><td>11</td></tr><tr><td>42</td><td>14</td></tr><tr><td>42</td><td>16</td></tr><tr><td>42</td><td>5</td></tr><tr><td>43</td><td>8</td></tr><tr><td>43</td><td>7</td></tr><tr><td>43</td><td>19</td></tr><tr><td>43</td><td>12</td></tr><tr><td>44</td><td>29</td></tr><tr><td>44</td><td>9</td></tr><tr><td>44</td><td>10</td></tr><tr><td>45</td><td>17</td></tr><tr><td>45</td><td>13</td></tr><tr><td>46</td><td>18</td></tr><tr><td>51</td><td>35</td></tr><tr><td>57</td><td>27</td></tr></table>"
                    },
                    "metadata": {
                        "azdata_chartOptions": {
                            "type": "line",
                            "dataDirection": "vertical",
                            "columnsAsLabels": true,
                            "labelFirstColumn": false,
                            "legendPosition": "top",
                            "yAxisLabel": "Total number of items in order",
                            "xAxisLabel": "Delivery time in minutes",
                            "dataType": "number"
                        }
                    }
                }
            ],
            "execution_count": 15
        },
        {
            "cell_type": "markdown",
            "source": [
                "# <mark>7 - Does Subtotal Amount Affect Average Delivery Time?</mark>\n",
                "\n",
                "From the following visualization, we can see that there does tend to be a correlation between Subtotal for Order and Delivery Time. We can see a nice correlation between increasing Subtotal amount and increasing average delivery times. We can conlclude that more costly food will take longer to be delivered.  \n",
                "  \n",
                "NOTE: For simplicity, only orders with delivery times under 60 minutes were considered."
            ],
            "metadata": {
                "language": "sql",
                "azdata_cell_guid": "e741a865-89a5-48e0-84f7-75500b18463c"
            },
            "attachments": {}
        },
        {
            "cell_type": "code",
            "source": [
                "USE [Sample];\r\n",
                "\r\n",
                "SELECT\r\n",
                "    [Average Delivery Time] = ROUND(AVG(DATEDIFF(MINUTE,[dd].[created_at],[actual_delivery_time])),0),\r\n",
                "    [rounded subtotal] = round([dd].[subtotal]/100,0) --subtotal divided by 100 to convert to dollars from cents\r\n",
                "FROM [dbo].[dd_eta] AS [dd]\r\n",
                "--where delivery time is less than 60 minutes\r\n",
                "WHERE DATEDIFF(MINUTE,[dd].[created_at],[actual_delivery_time]) < 60\r\n",
                "GROUP BY round([dd].[subtotal]/100,0)\r\n",
                "ORDER BY [Average Delivery Time] ASC;"
            ],
            "metadata": {
                "language": "sql",
                "azdata_cell_guid": "3f057866-0bf9-46d7-8d72-e358b7dce7c8"
            },
            "outputs": [
                {
                    "output_type": "display_data",
                    "data": {
                        "text/html": "(140 rows affected)"
                    },
                    "metadata": {}
                },
                {
                    "output_type": "display_data",
                    "data": {
                        "text/html": "Total execution time: 00:00:00.039"
                    },
                    "metadata": {}
                },
                {
                    "output_type": "execute_result",
                    "execution_count": 18,
                    "data": {
                        "application/vnd.dataresource+json": {
                            "schema": {
                                "fields": [
                                    {
                                        "name": "Average Delivery Time"
                                    },
                                    {
                                        "name": "rounded subtotal"
                                    }
                                ]
                            },
                            "data": [
                                {
                                    "Average Delivery Time": "36",
                                    "rounded subtotal": "3"
                                },
                                {
                                    "Average Delivery Time": "36",
                                    "rounded subtotal": "140"
                                },
                                {
                                    "Average Delivery Time": "37",
                                    "rounded subtotal": "5"
                                },
                                {
                                    "Average Delivery Time": "38",
                                    "rounded subtotal": "2"
                                },
                                {
                                    "Average Delivery Time": "38",
                                    "rounded subtotal": "8"
                                },
                                {
                                    "Average Delivery Time": "38",
                                    "rounded subtotal": "9"
                                },
                                {
                                    "Average Delivery Time": "38",
                                    "rounded subtotal": "7"
                                },
                                {
                                    "Average Delivery Time": "38",
                                    "rounded subtotal": "10"
                                },
                                {
                                    "Average Delivery Time": "38",
                                    "rounded subtotal": "4"
                                },
                                {
                                    "Average Delivery Time": "39",
                                    "rounded subtotal": "18"
                                },
                                {
                                    "Average Delivery Time": "39",
                                    "rounded subtotal": "12"
                                },
                                {
                                    "Average Delivery Time": "39",
                                    "rounded subtotal": "6"
                                },
                                {
                                    "Average Delivery Time": "39",
                                    "rounded subtotal": "14"
                                },
                                {
                                    "Average Delivery Time": "39",
                                    "rounded subtotal": "11"
                                },
                                {
                                    "Average Delivery Time": "39",
                                    "rounded subtotal": "13"
                                },
                                {
                                    "Average Delivery Time": "39",
                                    "rounded subtotal": "19"
                                },
                                {
                                    "Average Delivery Time": "40",
                                    "rounded subtotal": "22"
                                },
                                {
                                    "Average Delivery Time": "40",
                                    "rounded subtotal": "16"
                                },
                                {
                                    "Average Delivery Time": "40",
                                    "rounded subtotal": "20"
                                },
                                {
                                    "Average Delivery Time": "40",
                                    "rounded subtotal": "17"
                                },
                                {
                                    "Average Delivery Time": "40",
                                    "rounded subtotal": "132"
                                },
                                {
                                    "Average Delivery Time": "40",
                                    "rounded subtotal": "15"
                                },
                                {
                                    "Average Delivery Time": "40",
                                    "rounded subtotal": "24"
                                },
                                {
                                    "Average Delivery Time": "40",
                                    "rounded subtotal": "44"
                                },
                                {
                                    "Average Delivery Time": "40",
                                    "rounded subtotal": "26"
                                },
                                {
                                    "Average Delivery Time": "40",
                                    "rounded subtotal": "21"
                                },
                                {
                                    "Average Delivery Time": "41",
                                    "rounded subtotal": "27"
                                },
                                {
                                    "Average Delivery Time": "41",
                                    "rounded subtotal": "30"
                                },
                                {
                                    "Average Delivery Time": "41",
                                    "rounded subtotal": "23"
                                },
                                {
                                    "Average Delivery Time": "41",
                                    "rounded subtotal": "29"
                                },
                                {
                                    "Average Delivery Time": "41",
                                    "rounded subtotal": "32"
                                },
                                {
                                    "Average Delivery Time": "41",
                                    "rounded subtotal": "31"
                                },
                                {
                                    "Average Delivery Time": "41",
                                    "rounded subtotal": "28"
                                },
                                {
                                    "Average Delivery Time": "41",
                                    "rounded subtotal": "39"
                                },
                                {
                                    "Average Delivery Time": "41",
                                    "rounded subtotal": "25"
                                },
                                {
                                    "Average Delivery Time": "42",
                                    "rounded subtotal": "36"
                                },
                                {
                                    "Average Delivery Time": "42",
                                    "rounded subtotal": "42"
                                },
                                {
                                    "Average Delivery Time": "42",
                                    "rounded subtotal": "71"
                                },
                                {
                                    "Average Delivery Time": "42",
                                    "rounded subtotal": "33"
                                },
                                {
                                    "Average Delivery Time": "42",
                                    "rounded subtotal": "59"
                                },
                                {
                                    "Average Delivery Time": "42",
                                    "rounded subtotal": "37"
                                },
                                {
                                    "Average Delivery Time": "42",
                                    "rounded subtotal": "51"
                                },
                                {
                                    "Average Delivery Time": "42",
                                    "rounded subtotal": "34"
                                },
                                {
                                    "Average Delivery Time": "42",
                                    "rounded subtotal": "40"
                                },
                                {
                                    "Average Delivery Time": "42",
                                    "rounded subtotal": "35"
                                },
                                {
                                    "Average Delivery Time": "42",
                                    "rounded subtotal": "86"
                                },
                                {
                                    "Average Delivery Time": "42",
                                    "rounded subtotal": "46"
                                },
                                {
                                    "Average Delivery Time": "42",
                                    "rounded subtotal": "52"
                                },
                                {
                                    "Average Delivery Time": "42",
                                    "rounded subtotal": "49"
                                },
                                {
                                    "Average Delivery Time": "42",
                                    "rounded subtotal": "50"
                                },
                                {
                                    "Average Delivery Time": "42",
                                    "rounded subtotal": "38"
                                },
                                {
                                    "Average Delivery Time": "43",
                                    "rounded subtotal": "87"
                                },
                                {
                                    "Average Delivery Time": "43",
                                    "rounded subtotal": "64"
                                },
                                {
                                    "Average Delivery Time": "43",
                                    "rounded subtotal": "1"
                                },
                                {
                                    "Average Delivery Time": "43",
                                    "rounded subtotal": "47"
                                },
                                {
                                    "Average Delivery Time": "43",
                                    "rounded subtotal": "41"
                                },
                                {
                                    "Average Delivery Time": "43",
                                    "rounded subtotal": "90"
                                },
                                {
                                    "Average Delivery Time": "43",
                                    "rounded subtotal": "95"
                                },
                                {
                                    "Average Delivery Time": "43",
                                    "rounded subtotal": "0"
                                },
                                {
                                    "Average Delivery Time": "43",
                                    "rounded subtotal": "43"
                                },
                                {
                                    "Average Delivery Time": "43",
                                    "rounded subtotal": "77"
                                },
                                {
                                    "Average Delivery Time": "43",
                                    "rounded subtotal": "48"
                                },
                                {
                                    "Average Delivery Time": "43",
                                    "rounded subtotal": "45"
                                },
                                {
                                    "Average Delivery Time": "43",
                                    "rounded subtotal": "53"
                                },
                                {
                                    "Average Delivery Time": "43",
                                    "rounded subtotal": "139"
                                },
                                {
                                    "Average Delivery Time": "43",
                                    "rounded subtotal": "56"
                                },
                                {
                                    "Average Delivery Time": "44",
                                    "rounded subtotal": "62"
                                },
                                {
                                    "Average Delivery Time": "44",
                                    "rounded subtotal": "65"
                                },
                                {
                                    "Average Delivery Time": "44",
                                    "rounded subtotal": "60"
                                },
                                {
                                    "Average Delivery Time": "44",
                                    "rounded subtotal": "83"
                                },
                                {
                                    "Average Delivery Time": "44",
                                    "rounded subtotal": "54"
                                },
                                {
                                    "Average Delivery Time": "44",
                                    "rounded subtotal": "57"
                                },
                                {
                                    "Average Delivery Time": "44",
                                    "rounded subtotal": "55"
                                },
                                {
                                    "Average Delivery Time": "44",
                                    "rounded subtotal": "135"
                                },
                                {
                                    "Average Delivery Time": "44",
                                    "rounded subtotal": "75"
                                },
                                {
                                    "Average Delivery Time": "44",
                                    "rounded subtotal": "61"
                                },
                                {
                                    "Average Delivery Time": "44",
                                    "rounded subtotal": "84"
                                },
                                {
                                    "Average Delivery Time": "44",
                                    "rounded subtotal": "58"
                                },
                                {
                                    "Average Delivery Time": "45",
                                    "rounded subtotal": "124"
                                },
                                {
                                    "Average Delivery Time": "45",
                                    "rounded subtotal": "69"
                                },
                                {
                                    "Average Delivery Time": "45",
                                    "rounded subtotal": "72"
                                },
                                {
                                    "Average Delivery Time": "45",
                                    "rounded subtotal": "118"
                                },
                                {
                                    "Average Delivery Time": "45",
                                    "rounded subtotal": "78"
                                },
                                {
                                    "Average Delivery Time": "45",
                                    "rounded subtotal": "66"
                                },
                                {
                                    "Average Delivery Time": "45",
                                    "rounded subtotal": "109"
                                },
                                {
                                    "Average Delivery Time": "45",
                                    "rounded subtotal": "63"
                                },
                                {
                                    "Average Delivery Time": "45",
                                    "rounded subtotal": "68"
                                },
                                {
                                    "Average Delivery Time": "45",
                                    "rounded subtotal": "79"
                                },
                                {
                                    "Average Delivery Time": "45",
                                    "rounded subtotal": "125"
                                },
                                {
                                    "Average Delivery Time": "45",
                                    "rounded subtotal": "128"
                                },
                                {
                                    "Average Delivery Time": "46",
                                    "rounded subtotal": "73"
                                },
                                {
                                    "Average Delivery Time": "46",
                                    "rounded subtotal": "76"
                                },
                                {
                                    "Average Delivery Time": "46",
                                    "rounded subtotal": "82"
                                },
                                {
                                    "Average Delivery Time": "46",
                                    "rounded subtotal": "88"
                                },
                                {
                                    "Average Delivery Time": "46",
                                    "rounded subtotal": "80"
                                },
                                {
                                    "Average Delivery Time": "46",
                                    "rounded subtotal": "111"
                                },
                                {
                                    "Average Delivery Time": "46",
                                    "rounded subtotal": "126"
                                },
                                {
                                    "Average Delivery Time": "46",
                                    "rounded subtotal": "89"
                                },
                                {
                                    "Average Delivery Time": "46",
                                    "rounded subtotal": "70"
                                },
                                {
                                    "Average Delivery Time": "46",
                                    "rounded subtotal": "93"
                                },
                                {
                                    "Average Delivery Time": "46",
                                    "rounded subtotal": "81"
                                },
                                {
                                    "Average Delivery Time": "46",
                                    "rounded subtotal": "113"
                                },
                                {
                                    "Average Delivery Time": "46",
                                    "rounded subtotal": "67"
                                },
                                {
                                    "Average Delivery Time": "47",
                                    "rounded subtotal": "110"
                                },
                                {
                                    "Average Delivery Time": "47",
                                    "rounded subtotal": "98"
                                },
                                {
                                    "Average Delivery Time": "47",
                                    "rounded subtotal": "91"
                                },
                                {
                                    "Average Delivery Time": "47",
                                    "rounded subtotal": "97"
                                },
                                {
                                    "Average Delivery Time": "47",
                                    "rounded subtotal": "74"
                                },
                                {
                                    "Average Delivery Time": "48",
                                    "rounded subtotal": "114"
                                },
                                {
                                    "Average Delivery Time": "48",
                                    "rounded subtotal": "94"
                                },
                                {
                                    "Average Delivery Time": "48",
                                    "rounded subtotal": "116"
                                },
                                {
                                    "Average Delivery Time": "48",
                                    "rounded subtotal": "112"
                                },
                                {
                                    "Average Delivery Time": "48",
                                    "rounded subtotal": "115"
                                },
                                {
                                    "Average Delivery Time": "49",
                                    "rounded subtotal": "122"
                                },
                                {
                                    "Average Delivery Time": "49",
                                    "rounded subtotal": "99"
                                },
                                {
                                    "Average Delivery Time": "49",
                                    "rounded subtotal": "85"
                                },
                                {
                                    "Average Delivery Time": "49",
                                    "rounded subtotal": "102"
                                },
                                {
                                    "Average Delivery Time": "49",
                                    "rounded subtotal": "100"
                                },
                                {
                                    "Average Delivery Time": "50",
                                    "rounded subtotal": "137"
                                },
                                {
                                    "Average Delivery Time": "50",
                                    "rounded subtotal": "129"
                                },
                                {
                                    "Average Delivery Time": "50",
                                    "rounded subtotal": "96"
                                },
                                {
                                    "Average Delivery Time": "50",
                                    "rounded subtotal": "121"
                                },
                                {
                                    "Average Delivery Time": "50",
                                    "rounded subtotal": "107"
                                },
                                {
                                    "Average Delivery Time": "51",
                                    "rounded subtotal": "101"
                                },
                                {
                                    "Average Delivery Time": "51",
                                    "rounded subtotal": "104"
                                },
                                {
                                    "Average Delivery Time": "51",
                                    "rounded subtotal": "106"
                                },
                                {
                                    "Average Delivery Time": "51",
                                    "rounded subtotal": "105"
                                },
                                {
                                    "Average Delivery Time": "52",
                                    "rounded subtotal": "117"
                                },
                                {
                                    "Average Delivery Time": "52",
                                    "rounded subtotal": "131"
                                },
                                {
                                    "Average Delivery Time": "52",
                                    "rounded subtotal": "123"
                                },
                                {
                                    "Average Delivery Time": "52",
                                    "rounded subtotal": "130"
                                },
                                {
                                    "Average Delivery Time": "53",
                                    "rounded subtotal": "119"
                                },
                                {
                                    "Average Delivery Time": "53",
                                    "rounded subtotal": "92"
                                },
                                {
                                    "Average Delivery Time": "53",
                                    "rounded subtotal": "103"
                                },
                                {
                                    "Average Delivery Time": "54",
                                    "rounded subtotal": "120"
                                },
                                {
                                    "Average Delivery Time": "54",
                                    "rounded subtotal": "108"
                                },
                                {
                                    "Average Delivery Time": "57",
                                    "rounded subtotal": "146"
                                },
                                {
                                    "Average Delivery Time": "58",
                                    "rounded subtotal": "142"
                                },
                                {
                                    "Average Delivery Time": "59",
                                    "rounded subtotal": "127"
                                },
                                {
                                    "Average Delivery Time": "59",
                                    "rounded subtotal": "225"
                                }
                            ]
                        },
                        "text/html": "<table><tr><th>Average Delivery Time</th><th>rounded subtotal</th></tr><tr><td>36</td><td>3</td></tr><tr><td>36</td><td>140</td></tr><tr><td>37</td><td>5</td></tr><tr><td>38</td><td>2</td></tr><tr><td>38</td><td>8</td></tr><tr><td>38</td><td>9</td></tr><tr><td>38</td><td>7</td></tr><tr><td>38</td><td>10</td></tr><tr><td>38</td><td>4</td></tr><tr><td>39</td><td>18</td></tr><tr><td>39</td><td>12</td></tr><tr><td>39</td><td>6</td></tr><tr><td>39</td><td>14</td></tr><tr><td>39</td><td>11</td></tr><tr><td>39</td><td>13</td></tr><tr><td>39</td><td>19</td></tr><tr><td>40</td><td>22</td></tr><tr><td>40</td><td>16</td></tr><tr><td>40</td><td>20</td></tr><tr><td>40</td><td>17</td></tr><tr><td>40</td><td>132</td></tr><tr><td>40</td><td>15</td></tr><tr><td>40</td><td>24</td></tr><tr><td>40</td><td>44</td></tr><tr><td>40</td><td>26</td></tr><tr><td>40</td><td>21</td></tr><tr><td>41</td><td>27</td></tr><tr><td>41</td><td>30</td></tr><tr><td>41</td><td>23</td></tr><tr><td>41</td><td>29</td></tr><tr><td>41</td><td>32</td></tr><tr><td>41</td><td>31</td></tr><tr><td>41</td><td>28</td></tr><tr><td>41</td><td>39</td></tr><tr><td>41</td><td>25</td></tr><tr><td>42</td><td>36</td></tr><tr><td>42</td><td>42</td></tr><tr><td>42</td><td>71</td></tr><tr><td>42</td><td>33</td></tr><tr><td>42</td><td>59</td></tr><tr><td>42</td><td>37</td></tr><tr><td>42</td><td>51</td></tr><tr><td>42</td><td>34</td></tr><tr><td>42</td><td>40</td></tr><tr><td>42</td><td>35</td></tr><tr><td>42</td><td>86</td></tr><tr><td>42</td><td>46</td></tr><tr><td>42</td><td>52</td></tr><tr><td>42</td><td>49</td></tr><tr><td>42</td><td>50</td></tr><tr><td>42</td><td>38</td></tr><tr><td>43</td><td>87</td></tr><tr><td>43</td><td>64</td></tr><tr><td>43</td><td>1</td></tr><tr><td>43</td><td>47</td></tr><tr><td>43</td><td>41</td></tr><tr><td>43</td><td>90</td></tr><tr><td>43</td><td>95</td></tr><tr><td>43</td><td>0</td></tr><tr><td>43</td><td>43</td></tr><tr><td>43</td><td>77</td></tr><tr><td>43</td><td>48</td></tr><tr><td>43</td><td>45</td></tr><tr><td>43</td><td>53</td></tr><tr><td>43</td><td>139</td></tr><tr><td>43</td><td>56</td></tr><tr><td>44</td><td>62</td></tr><tr><td>44</td><td>65</td></tr><tr><td>44</td><td>60</td></tr><tr><td>44</td><td>83</td></tr><tr><td>44</td><td>54</td></tr><tr><td>44</td><td>57</td></tr><tr><td>44</td><td>55</td></tr><tr><td>44</td><td>135</td></tr><tr><td>44</td><td>75</td></tr><tr><td>44</td><td>61</td></tr><tr><td>44</td><td>84</td></tr><tr><td>44</td><td>58</td></tr><tr><td>45</td><td>124</td></tr><tr><td>45</td><td>69</td></tr><tr><td>45</td><td>72</td></tr><tr><td>45</td><td>118</td></tr><tr><td>45</td><td>78</td></tr><tr><td>45</td><td>66</td></tr><tr><td>45</td><td>109</td></tr><tr><td>45</td><td>63</td></tr><tr><td>45</td><td>68</td></tr><tr><td>45</td><td>79</td></tr><tr><td>45</td><td>125</td></tr><tr><td>45</td><td>128</td></tr><tr><td>46</td><td>73</td></tr><tr><td>46</td><td>76</td></tr><tr><td>46</td><td>82</td></tr><tr><td>46</td><td>88</td></tr><tr><td>46</td><td>80</td></tr><tr><td>46</td><td>111</td></tr><tr><td>46</td><td>126</td></tr><tr><td>46</td><td>89</td></tr><tr><td>46</td><td>70</td></tr><tr><td>46</td><td>93</td></tr><tr><td>46</td><td>81</td></tr><tr><td>46</td><td>113</td></tr><tr><td>46</td><td>67</td></tr><tr><td>47</td><td>110</td></tr><tr><td>47</td><td>98</td></tr><tr><td>47</td><td>91</td></tr><tr><td>47</td><td>97</td></tr><tr><td>47</td><td>74</td></tr><tr><td>48</td><td>114</td></tr><tr><td>48</td><td>94</td></tr><tr><td>48</td><td>116</td></tr><tr><td>48</td><td>112</td></tr><tr><td>48</td><td>115</td></tr><tr><td>49</td><td>122</td></tr><tr><td>49</td><td>99</td></tr><tr><td>49</td><td>85</td></tr><tr><td>49</td><td>102</td></tr><tr><td>49</td><td>100</td></tr><tr><td>50</td><td>137</td></tr><tr><td>50</td><td>129</td></tr><tr><td>50</td><td>96</td></tr><tr><td>50</td><td>121</td></tr><tr><td>50</td><td>107</td></tr><tr><td>51</td><td>101</td></tr><tr><td>51</td><td>104</td></tr><tr><td>51</td><td>106</td></tr><tr><td>51</td><td>105</td></tr><tr><td>52</td><td>117</td></tr><tr><td>52</td><td>131</td></tr><tr><td>52</td><td>123</td></tr><tr><td>52</td><td>130</td></tr><tr><td>53</td><td>119</td></tr><tr><td>53</td><td>92</td></tr><tr><td>53</td><td>103</td></tr><tr><td>54</td><td>120</td></tr><tr><td>54</td><td>108</td></tr><tr><td>57</td><td>146</td></tr><tr><td>58</td><td>142</td></tr><tr><td>59</td><td>127</td></tr><tr><td>59</td><td>225</td></tr></table>"
                    },
                    "metadata": {
                        "azdata_chartOptions": {
                            "type": "line",
                            "dataDirection": "vertical",
                            "columnsAsLabels": true,
                            "labelFirstColumn": false,
                            "legendPosition": "top",
                            "yAxisLabel": "subtotal in dollars",
                            "xAxisLabel": "average delivery time in minutes",
                            "dataType": "number"
                        }
                    }
                }
            ],
            "execution_count": 18
        },
        {
            "cell_type": "markdown",
            "source": [
                "# <mark>8 - What are the Delivery Time Statistics for this Dataset?</mark>\n",
                "\n",
                "From the following text based visualization (Chart Type:  Count), we can see the statistics for this dataset. Listed Statistics are:\n",
                "\n",
                "- Average delivery time in minutes\n",
                "- Minimum Delivery time in minutes\n",
                "- Maximum Delivery time in minutes\n",
                "- Maximum Delivery Time in days\n",
                "- Standadrd Deviation for Delivery Times"
            ],
            "metadata": {
                "language": "sql",
                "azdata_cell_guid": "1f330040-9cee-4fc9-bdb3-ba22edee4870"
            },
            "attachments": {}
        },
        {
            "cell_type": "code",
            "source": [
                "USE [Sample];\r\n",
                "\r\n",
                "SELECT AVG(DATEDIFF(MINUTE,[dd].[created_at],[dd].[actual_delivery_time])) AS [Average Delivery Time in minutes:  ],\r\n",
                "   MIN(DATEDIFF(MINUTE,[dd].[created_at],[dd].[actual_delivery_time])) AS [Mimimum Delivery Time in minutes:  ],\r\n",
                "   MAX(DATEDIFF(MINUTE,[dd].[created_at],[dd].[actual_delivery_time])) AS [Maximum Delivery Time in minutes:  ],\r\n",
                "   MAX(DATEDIFF(DAY,[dd].[created_at],[dd].[actual_delivery_time])) AS [Maximum Delivery Time in days:  ],\r\n",
                "   ROUND(STDEV(DATEDIFF(MINUTE,[dd].[created_at],[dd].[actual_delivery_time])),1) AS [Standard Deviation for Delivery Times:  ]\r\n",
                "FROM [dbo].[dd_eta] AS [dd];"
            ],
            "metadata": {
                "language": "sql",
                "azdata_cell_guid": "83e53efc-49d4-42df-84cb-466c49a08d4a",
                "tags": []
            },
            "outputs": [
                {
                    "output_type": "display_data",
                    "data": {
                        "text/html": "(1 row affected)"
                    },
                    "metadata": {}
                },
                {
                    "output_type": "display_data",
                    "data": {
                        "text/html": "Total execution time: 00:00:00.071"
                    },
                    "metadata": {}
                },
                {
                    "output_type": "execute_result",
                    "execution_count": 67,
                    "data": {
                        "application/vnd.dataresource+json": {
                            "schema": {
                                "fields": [
                                    {
                                        "name": "Average Delivery Time in minutes:  "
                                    },
                                    {
                                        "name": "Mimimum Delivery Time in minutes:  "
                                    },
                                    {
                                        "name": "Maximum Delivery Time in minutes:  "
                                    },
                                    {
                                        "name": "Maximum Delivery Time in days:  "
                                    },
                                    {
                                        "name": "Standard Deviation for Delivery Times:  "
                                    }
                                ]
                            },
                            "data": [
                                {
                                    "Average Delivery Time in minutes:  ": "51",
                                    "Mimimum Delivery Time in minutes:  ": "7",
                                    "Maximum Delivery Time in minutes:  ": "5541",
                                    "Maximum Delivery Time in days:  ": "3",
                                    "Standard Deviation for Delivery Times:  ": "36.3"
                                }
                            ]
                        },
                        "text/html": "<table><tr><th>Average Delivery Time in minutes:  </th><th>Mimimum Delivery Time in minutes:  </th><th>Maximum Delivery Time in minutes:  </th><th>Maximum Delivery Time in days:  </th><th>Standard Deviation for Delivery Times:  </th></tr><tr><td>51</td><td>7</td><td>5541</td><td>3</td><td>36.3</td></tr></table>"
                    },
                    "metadata": {
                        "azdata_chartOptions": {
                            "type": "count",
                            "dataDirection": "horizontal",
                            "columnsAsLabels": true,
                            "labelFirstColumn": false,
                            "legendPosition": "top"
                        }
                    }
                }
            ],
            "execution_count": 67
        },
        {
            "cell_type": "markdown",
            "source": [
                "# <mark>Conclusions</mark>\n",
                "\n",
                "From the previous visualizations we have learned that one of the biggest factors in determining how fast a DoorDash order will get to a customer is the subtotal amount of the order placed. Less expensive orders tend to get to their destinations faster than more expensive orders.  \n",
                "  \n",
                "We have also learned that for this market, American, Pizza, and Japanese are the top Food categories ordered. In tis market, food categories with the slowest delivery times were Comfort Food, Russian and British food. Food categories with the fastest delivery times were Irish, Turkish, and Moroccan.  \n",
                "  \n",
                "As far as the accuracy for estimated delivery times go, in this market, almost all actual delivery times exceed estimated delivery times. This applies to an expected busy day like Valentine's Day (February 14) as well as a regular day (February 10), as the visualizations have shown. All dashers were busy with orders on February 14th as opposed to February 10th, were the visualization shows some Dahers were still available for orders.  \n",
                "  \n",
                "Please see accompanying Sand Dance Visualization for a cost, order amount (count), delivery time comparison for all cuisine types in this market! (screenshot below)"
            ],
            "metadata": {
                "azdata_cell_guid": "1e8b0827-124c-476b-b6cf-d43522d34493"
            },
            "attachments": {}
        },
        {
            "cell_type": "markdown",
            "source": [
                "![](c:\\Users\\ursga\\OneDrive\\Pictures\\Screenshots\\SandDanceVisualization.png)"
            ],
            "metadata": {
                "azdata_cell_guid": "d5abbc80-a062-47a1-8842-bd271755ebdd"
            },
            "attachments": {}
        }
    ]
}